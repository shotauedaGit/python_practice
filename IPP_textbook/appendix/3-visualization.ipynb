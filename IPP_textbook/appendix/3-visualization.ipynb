{
 "cells": [
  {
   "cell_type": "markdown",
   "metadata": {},
   "source": [
    "# ▲簡単なデータの可視化\n",
    "第3回までに学んだ各種のデータに対する簡単な可視化について触れます。\n",
    "\n",
    "参考\n",
    "\n",
    "- https://matplotlib.org/tutorials/introductory/pyplot.html#sphx-glr-tutorials-introductory-pyplot-py (English Only)\n",
    "\n",
    "`matplotlib` については、5-matplotlib に詳しい説明があります。"
   ]
  },
  {
   "cell_type": "markdown",
   "metadata": {},
   "source": [
    "## **`matplotlib`**\n",
    "\n",
    "Pythonでは可視化のための様々な仕組みが用意されています。\n",
    "ここでは最も広く利用され、ノートブック上で容易に動作を確認できる `matplotlib` について触れます。\n",
    "`matplotlib` を利用するには第5回で取り上げるモジュールについても知る必要がありますが、\n",
    "第2回と第3回でデータについてだけ学ぶのでは、みなさんのモチベーションの維持が難しいと思われますので、\n",
    "この段階でリスト・辞書だけで2次元グラフを表示させてみます。\n",
    "したがって、ここではモジュールの使い方については説明しません。"
   ]
  },
  {
   "cell_type": "markdown",
   "metadata": {},
   "source": [
    "`matplotlib` の出力をノートブックで表示させるには、以下をCodeセルで1回だけ実行します。\n",
    "`%matplotlib` のように `%` で始まる文を**マジックコマンド**と呼びます。"
   ]
  },
  {
   "cell_type": "code",
   "execution_count": null,
   "metadata": {},
   "outputs": [],
   "source": [
    "%matplotlib inline"
   ]
  },
  {
   "cell_type": "markdown",
   "metadata": {},
   "source": [
    "さらに `matplotlib` モジュールを読み込む次の処理もプログラムの冒頭で行う必要があります。\n",
    "\n",
    "```Python\n",
    "import matplotlib.pyplot as plt\n",
    "```"
   ]
  },
  {
   "cell_type": "markdown",
   "metadata": {},
   "source": [
    "## 折れ線グラフ\n",
    "\n",
    "`ls1 = [1, 4, 9, 16]` といった数を要素とするリストを折れ線グラフで表示するには、次のように行います。"
   ]
  },
  {
   "cell_type": "code",
   "execution_count": null,
   "metadata": {},
   "outputs": [],
   "source": [
    "import matplotlib.pyplot as plt\n",
    "ls1 = [1, 4, 9, 16]\n",
    "plt.plot(ls1)\n",
    "plt.show()"
   ]
  },
  {
   "cell_type": "markdown",
   "metadata": {},
   "source": [
    "折れ線グラフを複数表示させるには、`plt.plot` を繰り返します。"
   ]
  },
  {
   "cell_type": "code",
   "execution_count": null,
   "metadata": {},
   "outputs": [],
   "source": [
    "import matplotlib.pyplot as plt\n",
    "ls1 = [1, 4, 9, 16]\n",
    "ls2 = [8, 7, 6, 5]\n",
    "plt.plot(ls1, label='1st plot')\n",
    "plt.plot(ls2, label='2nd plot')\n",
    "plt.show()"
   ]
  },
  {
   "cell_type": "markdown",
   "metadata": {},
   "source": [
    "## 散布図\n",
    "散布図を表示させるには、`plt.scatter` にそれぞれの点に対応する水平、垂直座標をリストで与えます。\n",
    "この2つのリストの要素数は同じでなければなりません。"
   ]
  },
  {
   "cell_type": "code",
   "execution_count": null,
   "metadata": {},
   "outputs": [],
   "source": [
    "import matplotlib.pyplot as plt\n",
    "x = [5, 10, 15, 10]\n",
    "y = [10, 5, 10, 15]\n",
    "plt.scatter(x,y)"
   ]
  },
  {
   "cell_type": "markdown",
   "metadata": {},
   "source": [
    "## 棒グラフ\n",
    "棒グラフを表示させるには、`plt.bar` に水平座標、高さをリストで与えます。\n",
    "この2つのリストの要素数は同じでなければなりません。\n",
    "以下の例では、等間隔でグラフを表示させるため水平軸に整数列を使っています。"
   ]
  },
  {
   "cell_type": "code",
   "execution_count": null,
   "metadata": {},
   "outputs": [],
   "source": [
    "import matplotlib.pyplot as plt\n",
    "x = [1, 2, 3, 4]\n",
    "y = [10, 30, 40, 15]\n",
    "plt.bar(x,y)"
   ]
  },
  {
   "cell_type": "markdown",
   "metadata": {},
   "source": [
    "第2回と第3回では文字列、辞書について学びました。\n",
    "文字列をキー、整数を値とする辞書を棒グラフで可視化します。\n",
    "さらに、水平軸にはキーをラベルとして表示されます。"
   ]
  },
  {
   "cell_type": "code",
   "execution_count": null,
   "metadata": {},
   "outputs": [],
   "source": [
    "import matplotlib.pyplot as plt\n",
    "d = {'apple':10, 'banana':30, 'orange': 40, 'kiwi': 15}\n",
    "x = [1,2,3,4]\n",
    "plt.bar(x, d.values(), tick_label=list(d.keys()))"
   ]
  },
  {
   "cell_type": "code",
   "execution_count": null,
   "metadata": {},
   "outputs": [],
   "source": []
  }
 ],
 "metadata": {
  "kernelspec": {
   "display_name": "Python 3",
   "language": "python",
   "name": "python3"
  },
  "language_info": {
   "name": "python"
  }
 },
 "nbformat": 4,
 "nbformat_minor": 2
}
