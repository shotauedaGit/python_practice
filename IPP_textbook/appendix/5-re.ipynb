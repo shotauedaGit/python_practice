{
 "cells": [
  {
   "cell_type": "markdown",
   "metadata": {},
   "source": [
    "# ▲正規表現\n",
    "正規表現について説明します。\n",
    "\n",
    "参考\n",
    "\n",
    "- https://docs.python.jp/3/library/re.html\n",
    "\n",
    "**正規表現** (regular expression) を扱う場合、`re` というモジュールをインポートする必要があります。"
   ]
  },
  {
   "cell_type": "code",
   "execution_count": null,
   "metadata": {},
   "outputs": [],
   "source": [
    "import re"
   ]
  },
  {
   "cell_type": "markdown",
   "metadata": {},
   "source": [
    "## 正規表現の基本\n",
    "\n",
    "正規表現とは、文字列の**パターン**を表す式です。\n",
    "文字列が正規表現に**マッチする**とは、文字列が正規表現の表すパターンに適合していることを意味します。\n",
    "また、正規表現が文字列にマッチするという言い方もします。\n",
    "\n",
    "たとえば、正規表現 `abc` は文字列 `abcde` （の部分文字列 `abc`）にマッチします。\n",
    "\n",
    "正規表現に文字列がマッチしているかどうかを調べることのできる関数に **`match`** があります。\n",
    "\n",
    "`match` は、指定した `正規表現A` が `文字列B`（の先頭部分）にマッチするかどうか調べます。\n",
    "\n",
    "---\n",
    "```Python\n",
    "re.match(正規表現A, 文字列B)\n",
    "```\n",
    "---"
   ]
  },
  {
   "cell_type": "code",
   "execution_count": null,
   "metadata": {},
   "outputs": [],
   "source": [
    "match1 = re.match('abc', 'abcde') #マッチする\n",
    "print(match1)\n",
    "match1 = re.match('abc', 'ababc') #マッチしない\n",
    "print(match1)"
   ]
  },
  {
   "cell_type": "markdown",
   "metadata": {},
   "source": [
    "`match` では、マッチが成立している場合、**matchオブジェクト**と呼ばれる特殊なデータを返します。マッチが成立しない場合、 `None` を返します。\n",
    "\n",
    "つまり、マッチする部分文字列を含む場合、返値は `None` ではないので、if文などの条件で真とみなされます。\n",
    "したがって以下のようにして条件分岐することができます。\n",
    "\n",
    "---\n",
    "```Python\n",
    "if re.match(正規表現, 文字列):\n",
    "    ...\n",
    "```\n",
    "---\n"
   ]
  },
  {
   "cell_type": "code",
   "execution_count": null,
   "metadata": {},
   "outputs": [],
   "source": [
    "if re.match('abc', 'abcde'): #マッチする\n",
    "    print('正規表現abcが文字列abcdeにマッチする')\n",
    "else:\n",
    "    print('正規表現abcが文字列abcdeにマッチしない')\n",
    "if re.match('abc', 'ababc'): #マッチしない\n",
    "    print('正規表現abcが文字列ababcにマッチする')\n",
    "else:\n",
    "    print('正規表現abcが文字列ababcにマッチしない')"
   ]
  },
  {
   "cell_type": "markdown",
   "metadata": {},
   "source": [
    "さて、上で紹介したmatchオブジェクトには、マッチした文字列の情報が格納されています。上のセルの1つ目の実行結果を印字したものを見てください。\n",
    "\n",
    "`<_sre.SRE_Match object; span=(0, 3), match='abc'>` と表示されていると思います。このオブジェクト内の `match` という値は、マッチした文字列を、 `span` という値はマッチしたパターンが存在する、文字列のインデックスの範囲を表します。\n",
    "\n",
    "正規表現では大文字と小文字は区別されます。たとえば、正規表現 `abc` は文字列 `ABCdef` にはマッチしません。勿論、正規表現 `ABC` も文字列 `abcdef` にはマッチしません。"
   ]
  },
  {
   "cell_type": "code",
   "execution_count": null,
   "metadata": {},
   "outputs": [],
   "source": [
    "match1 = re.match('abc', 'ABCdef')\n",
    "print(match1)\n",
    "match1 = re.match('ABC', 'abcdef')\n",
    "print(match1)"
   ]
  },
  {
   "cell_type": "markdown",
   "metadata": {},
   "source": [
    "そこで `match` の3番目の引数として **`re.IGNORECASE`** もしくは **`re.I`** を指定すると、大文字と小文字を区別せずにマッチするかどうかを調べることができます。"
   ]
  },
  {
   "cell_type": "code",
   "execution_count": null,
   "metadata": {},
   "outputs": [],
   "source": [
    "match1 = re.match('abc', 'ABCdef', re.IGNORECASE)\n",
    "print(match1)\n",
    "match1 = re.match('ABC', 'abcdef', re.IGNORECASE)\n",
    "print(match1)\n",
    "match1 = re.match('ABC', 'ABCdef', re.IGNORECASE)\n",
    "print(match1)\n",
    "match1 = re.match('abc', 'ABCdef', re.I)\n",
    "print(match1)\n",
    "match1 = re.match('ABC', 'abcdef', re.I)\n",
    "print(match1)\n",
    "match1 = re.match('ABC', 'ABCdef', re.I)\n",
    "print(match1)\n",
    "match1 = re.match('AbC', 'aBcdef', re.I)\n",
    "print(match1)"
   ]
  },
  {
   "cell_type": "markdown",
   "metadata": {},
   "source": [
    "`match` は文字列の先頭がマッチするかどうか調べますので、次のような場合、matchオブジェクトを返さずに `None` が返されます。"
   ]
  },
  {
   "cell_type": "code",
   "execution_count": null,
   "metadata": {},
   "outputs": [],
   "source": [
    "match1 = re.match('def', 'abcdef')\n",
    "print(match1)\n",
    "match1 = re.match('xyz', 'abcdef')\n",
    "print(match1)"
   ]
  },
  {
   "cell_type": "markdown",
   "metadata": {},
   "source": [
    "文字列の先頭しか調べられないのでは、いかにも不便です。\n",
    "\n",
    "そこで、関数 **`search`** は、指定した `正規表現A` が `文字列B` に（文字列の先頭以外でも）マッチするかどうか調べることができます。\n",
    "\n",
    "---\n",
    "```Python\n",
    "re.search(正規表現A, 文字列B)\n",
    "```\n",
    "---"
   ]
  },
  {
   "cell_type": "code",
   "execution_count": null,
   "metadata": {},
   "outputs": [],
   "source": [
    "match1 = re.search('abc', 'abcdef')\n",
    "print(match1)\n",
    "match1 = re.search('abc', 'ababcd')\n",
    "print(match1)\n",
    "match1 = re.search('def', 'abcdef')\n",
    "print(match1)"
   ]
  },
  {
   "cell_type": "markdown",
   "metadata": {},
   "source": [
    "`search` の場合も3番目の引数として `re.IGNORECASE`、 もしくは `re.I` を指定することで、大文字と小文字を区別せずにマッチするかどうかを調べることができます。"
   ]
  },
  {
   "cell_type": "code",
   "execution_count": null,
   "metadata": {},
   "outputs": [],
   "source": [
    "match1 = re.search('abc', 'ABCdef')\n",
    "print(match1)\n",
    "match1 = re.search('DEF', 'abcdef')\n",
    "print(match1)\n",
    "match1 = re.search('abc', 'ABCdef', re.IGNORECASE)\n",
    "print(match1)\n",
    "match1 = re.search('DEF', 'abcdef', re.I)\n",
    "print(match1)\n",
    "match1 = re.search('not', 'It is NOT me.', re.I)\n",
    "print(match1)\n",
    "match1 = re.search('NOT', 'It is not mine.', re.I)\n",
    "print(match1)"
   ]
  },
  {
   "cell_type": "markdown",
   "metadata": {},
   "source": [
    "`match` 関数と同様に、 `search` 関数においても、if文を使った条件分岐が可能であることは覚えておいてください。\n",
    "\n",
    "---\n",
    "```Python\n",
    "if re.search(正規表現, 文字列):\n",
    "    ...\n",
    "```\n",
    "---"
   ]
  },
  {
   "cell_type": "code",
   "execution_count": null,
   "metadata": {},
   "outputs": [],
   "source": [
    "if re.search('not', 'It is NOT me.'):\n",
    "    print('正規表現notが文字列It is NOT me.にマッチする')\n",
    "else:\n",
    "    print('正規表現notが文字列It is NOT me.にマッチしない')\n",
    "if re.search('not', 'It is NOT me.', re.I):\n",
    "    print('正規表現notが文字列It is NOT me.にマッチする')\n",
    "else:\n",
    "    print('正規表現notが文字列It is NOT me.にマッチしない')"
   ]
  },
  {
   "cell_type": "markdown",
   "metadata": {},
   "source": [
    "文字列の先頭からのマッチを調べたいときには、正規表現の先頭にキャレット (`^`) をつけてください。また、文字列の最後からマッチさせたいときは、正規表現の最後にドル記号 (`$`) をつけてください。"
   ]
  },
  {
   "cell_type": "code",
   "execution_count": null,
   "metadata": {},
   "outputs": [],
   "source": [
    "match1 = re.search('abc', 'ababcd')  #キャレットなしだとマッチする\n",
    "print(match1)\n",
    "match1 = re.search('^abc', 'ababcd') #キャレットありだとマッチしない\n",
    "print(match1)\n",
    "match1 = re.search('def', 'abcdefg') #ドル記号なしだとマッチする\n",
    "print(match1)\n",
    "match1 = re.search('def$', 'abcdefg') #ドル記号ありだとマッチしない\n",
    "print(match1)\n",
    "match1 = re.search('def$', 'abcdefxyzdef') # 2つあるうちの2番目（最後）の def にマッチする\n",
    "print(match1)"
   ]
  },
  {
   "cell_type": "markdown",
   "metadata": {},
   "source": [
    "ただ、ここまでの内容だと、正規表現を用いずに文字列のメソッド （`find` など）によっても実現が可能です。これでは正規表現を使うメリットはほとんどありません。\n",
    "\n",
    "というのも、ここまで見てきた1つの正規表現によって、1つの文字列を表していたからです。しかし、最初に言った通り、正規表現は文字列の「パターン」を表します。すなわち、1つの正規表現で複数の文字列を表すことが可能なのです。\n",
    "\n",
    "たとえば、正規表現 `ab` と正規表現 `de` という2つの正規表現を `|` という記号で繋げた `ab|de` も正規表現を表します。この正規表現では、`ab` と `de` という2つの文字列を表しており、これらのいずれかを含む文字列にマッチします。この `|` の記号（演算）を**和**、もしくは**選択**といいます。"
   ]
  },
  {
   "cell_type": "code",
   "execution_count": null,
   "metadata": {},
   "outputs": [],
   "source": [
    "match1 = re.search('ab|de', 'bcdef')\n",
    "print(match1)\n",
    "match1 = re.search('ab|de', 'abcdef')\n",
    "print(match1)\n",
    "match1 = re.search('ab|de', 'fgdeab')\n",
    "print(match1)\n",
    "match1 = re.search('ab|de', 'acdf')\n",
    "print(match1)\n",
    "match1 = re.search('a|an|the', 'I slipped on a piece of the banana.')\n",
    "print(match1)\n",
    "match1 = re.search('a|an|the', 'I slipped on the banana.')\n",
    "print(match1)\n",
    "match1 = re.search('Good (Morning|Evening)', 'Good Evening, Vietnam.') #正規表現内の（）については下で述べます\n",
    "print(match1)\n",
    "match1 = re.search('colo(u|)r', 'That color matches your suit.') #正規表現内の（）については下で述べます\n",
    "print(match1)\n",
    "match1 = re.search('colo(u|)r', 'That colour matches your suit.') #正規表現内の（）については下で述べます\n",
    "print(match1)"
   ]
  },
  {
   "cell_type": "markdown",
   "metadata": {},
   "source": [
    "上記の3番目の例に注意してください。正規表現 `ab | de` では `ab` が `de` よりも先に記述されていますが、マッチする文字列は文字列上で先に出てきた方（`ab` ではなく、`de`）であることに注意してください。\n",
    "\n",
    "細かい話ですが、正規表現 `abc` は、正規表現 `a` と正規表現 `b` と正規表現 `c` という3つの正規表現を繋げて構成された正規表現であり、このように正規表現を繋げて新しい正規表現を作る演算を**連接**といいます。\n",
    "\n",
    "**`a*`** は、正規表現 `a` を0回以上繰り返した文字列とマッチします。この `*` の演算を**閉包**といいます。"
   ]
  },
  {
   "cell_type": "code",
   "execution_count": null,
   "metadata": {},
   "outputs": [],
   "source": [
    "match1 = re.search('a*', 'abcdef')\n",
    "print(match1)\n",
    "match1 = re.search('a*', 'aabbcc')\n",
    "print(match1)\n",
    "match1 = re.search('a*', 'cde')\n",
    "print(match1)\n",
    "match1 = re.search('bo*', 'boooo!')\n",
    "print(match1)"
   ]
  },
  {
   "cell_type": "markdown",
   "metadata": {},
   "source": [
    "上記の3番目の例において（文字 `a` が含まれていないにも関わらず）`None` が返らずに、マッチしているのを不思議に思うかもしれません。しかし、`a*` は `a` を0回反復した文字列にもマッチします。この0回反復した文字列とは、長さが0の文字列であり、**空列**とか**空文字列**と呼ばれます。文字列 `cde` の先頭には、空列があると見なせるので、`a*` が先頭部分にマッチしているのです。\n",
    "\n",
    "たとえば、正規表現 `abb*` は、 `ab`, `abb`, `abbb`, ... という文字列にマッチします。"
   ]
  },
  {
   "cell_type": "code",
   "execution_count": null,
   "metadata": {},
   "outputs": [],
   "source": [
    "match1 = re.search('abb*', 'abcdef')\n",
    "print(match1)\n",
    "match1 = re.search('abb*', 'aabbcc')\n",
    "print(match1)\n",
    "match1 = re.search('abb*', 'cde')\n",
    "print(match1)\n",
    "match1 = re.search('hello*', 'Hi, hellooooo!')\n",
    "print(match1)\n",
    "match1 = re.search('hello*', 'Hi, good morning!')\n",
    "print(match1)\n"
   ]
  },
  {
   "cell_type": "markdown",
   "metadata": {},
   "source": [
    "これまでに紹介した連接、和、閉包という3つの演算を組み合わせることで様々な正規表現を記述することができますが、これらの演算には結合の強さが存在します。たとえば、先に見た `ab | cd` という正規表現は、 `ab` もしくは `cd` という文字列にマッチします（`(ab)|(cd)` と同じ意味です）。つまり、連接の方が和よりも強く結合しているのです。そこで、丸括弧を使って `a(b|c)d` とすると、この正規表現は、`abd | acd` と同じ意味になります。"
   ]
  },
  {
   "cell_type": "code",
   "execution_count": null,
   "metadata": {},
   "outputs": [],
   "source": [
    "match1 = re.search('ab|de', 'fgdeab')\n",
    "print(match1)\n",
    "match1 = re.search('(ab)|(de)', 'fgdeab')\n",
    "print(match1)\n",
    "match1 = re.search('a(b|d)e', 'fgdeab')\n",
    "print(match1)\n",
    "match1 = re.search('a(b|d)e', 'fgadeab')\n",
    "print(match1)\n",
    "match1 = re.search('abe|ade', 'fgadeab')\n",
    "print(match1)\n",
    "match1 = re.search(\"(I|i)t('s| is| was)\", \"It was rainy yesterday, but it's fine today.\")\n",
    "print(match1)\n",
    "match1 = re.search(\"(I|i)t('s| is| was)\", \"It rained yesterday, but it's fine today.\")\n",
    "print(match1)"
   ]
  },
  {
   "cell_type": "markdown",
   "metadata": {},
   "source": [
    "演算の結合の強さは、「和 < 連接 < 閉包」という順序になっています。これは数学の、「和（＋）< 積(×) < べき」と同じですので、直感的にもわかりやすいと思います。これまでに紹介した連接、和、閉包という3つの演算と結合の順序を明記する丸括弧 `()` とを組み合わせることで様々な正規表現を記述することができます。"
   ]
  },
  {
   "cell_type": "code",
   "execution_count": null,
   "metadata": {},
   "outputs": [],
   "source": [
    "match1 = re.search('a(bc|b)*', 'defabcxyz')\n",
    "print(match1)\n",
    "match1 = re.search('a(bc|b)*', 'bbacbabbbbc')\n",
    "print(match1)\n",
    "match1 = re.search('ca(r|t(egory|tle|))', 'What category is this cat in?')\n",
    "print(match1)\n",
    "match1 = re.search('ca(r|t(egory|tle|))', 'No, this is not a carpet.')\n",
    "print(match1)\n",
    "match1 = re.search('ca(r|t(egory|tle|))', 'We saw a cattle car almost hit the cat.')\n",
    "print(match1)\n",
    "match1 = re.search('ca(r|t(egory|tle|))', 'Please locate him.')\n",
    "print(match1)\n",
    "match1 = re.search('ca(r|t(egory|tle|))', \"Don't play castanets.\")\n",
    "print(match1)"
   ]
  },
  {
   "cell_type": "markdown",
   "metadata": {},
   "source": [
    "Pythonでは正規表現は文字列によって表していることに注意してください。たとえば、`match` 関数の第一引数を文字列の変数で置き換えられるということです。"
   ]
  },
  {
   "cell_type": "code",
   "execution_count": null,
   "metadata": {},
   "outputs": [],
   "source": [
    "match1 = re.match('abc', 'abcde') \n",
    "print(match1)\n",
    "reg1 = 'abc' # 正規表現を文字列で記述する\n",
    "match2 = re.match(reg1, 'abcde') #match1と同じ結果になる\n",
    "print(match2)"
   ]
  },
  {
   "cell_type": "markdown",
   "metadata": {},
   "source": [
    "このことを覚えておくと複雑な正規表現を書くときに、少しずつ分解して記述することができて便利です。"
   ]
  },
  {
   "cell_type": "code",
   "execution_count": null,
   "metadata": {},
   "outputs": [],
   "source": [
    "match1 = re.search(\"(I|i)t('s| is| was)\", \"It was rainy yesterday, but it's fine today.\")\n",
    "print(match1)\n",
    "reg1 = '(I|i)t' # 正規表現の前半部分\n",
    "reg2 = \"('s| is| was)\" # 正規表現の後半部分\n",
    "reg3 = reg1 + reg2 # 正規表現を表す2つの文字列を結合する\n",
    "print(reg3)\n",
    "match2 = re.search(reg3, \"It was rainy yesterday, but it's fine today.\")\n",
    "print(match2)"
   ]
  },
  {
   "cell_type": "markdown",
   "metadata": {},
   "source": [
    "## 練習\n",
    "\n",
    "文字列 `str1` を引数として取り、 `str1` の中に「月を表す文字列」が含まれているかどうか調べて、含まれていればマッチしたときのmatchオブジェクトを、含まれいなければ `None` を返す関数 `check_monthstr` を作成してください。 ただし、「月を表す文字列」 は次のような文字列とします。\n",
    "\n",
    "1. 長さ2の `mm` という文字列\n",
    "2.  `mm` は、`00`, `01`, ..., `12` のいずれかの文字列\n",
    "\n",
    "以下のセルの `...` のところを書き換えて解答してください。"
   ]
  },
  {
   "cell_type": "code",
   "execution_count": null,
   "metadata": {},
   "outputs": [],
   "source": [
    "import ...\n",
    "def check_monthstr(str1):\n",
    "    ..."
   ]
  },
  {
   "cell_type": "markdown",
   "metadata": {},
   "source": [
    "上のセルで解答を作成した後、以下のセルを実行し、実行結果が全て `True` になることを確認してください。"
   ]
  },
  {
   "cell_type": "code",
   "execution_count": null,
   "metadata": {
    "tags": [
     "raises-exception"
    ]
   },
   "outputs": [],
   "source": [
    "print(check_monthstr('10').group() == '10') # group()については後半に説明があります（オプショナル）\n",
    "print(check_monthstr('mon1521vb') == None)\n",
    "print(check_monthstr('00an23') == None)\n",
    "print(check_monthstr('13302').group() == '02') "
   ]
  },
  {
   "cell_type": "markdown",
   "metadata": {},
   "source": [
    "## 練習\n",
    "\n",
    "文字列 `str1` を引数として取り、 `str1` を構成する文字列が `A`, `C`, `G`, `T` の4種類の文字以外の文字を含むかどうか調べて、これら以外を含む場合は `False` を、そうでない場合は `True` を返す関数 `check_ACGTstr` を作成してください。 ただし、大文字と小文字は区別しません。また、空列の場合は `False` を返してください。\n",
    "\n",
    "以下のセルの `...` のところを書き換えて解答してください。"
   ]
  },
  {
   "cell_type": "code",
   "execution_count": null,
   "metadata": {},
   "outputs": [],
   "source": [
    "import ...\n",
    "def check_ACGTstr(str1):\n",
    "    ..."
   ]
  },
  {
   "cell_type": "markdown",
   "metadata": {},
   "source": [
    "上のセルで解答を作成した後、以下のセルを実行し、実行結果が全て `True` になることを確認してください。"
   ]
  },
  {
   "cell_type": "code",
   "execution_count": null,
   "metadata": {
    "tags": [
     "raises-exception"
    ]
   },
   "outputs": [],
   "source": [
    "print(check_ACGTstr('AcCGTAGCacATcGgAaaTtGCacT') == True) \n",
    "print(check_ACGTstr(':ACaacgta24FgtGH') == False)\n",
    "print(check_ACGTstr('') == False)"
   ]
  },
  {
   "cell_type": "markdown",
   "metadata": {},
   "source": [
    "## 練習\n",
    "\n",
    "文字列 `str1` を引数として取り、 `str1` の中に「時刻を表す文字列」が含まれているかどうか調べて、含まれていればマッチしたときのmatchオブジェクトを、含まれいなければ `None` を返す関数 `check_timestr` を作成してください。 ただし、「時刻を表す文字列」 は次のような文字列とします。\n",
    "\n",
    "1. 長さ5の `hh:mm` という文字列であり、12時間表示で時間を表す。\n",
    "2. 前半の2文字 `hh` は、 `00`, `01`, ..., `11` のいずれかの文字列\n",
    "3. 後半の2文字 `mm` は、 `00`, `01`, ..., `59` のいずれかの文字列\n",
    "\n",
    "以下のセルの `...` のところを書き換えて解答してください。"
   ]
  },
  {
   "cell_type": "code",
   "execution_count": null,
   "metadata": {},
   "outputs": [],
   "source": [
    "import ...\n",
    "def check_timestr(str1):\n",
    "    ..."
   ]
  },
  {
   "cell_type": "markdown",
   "metadata": {},
   "source": [
    "上のセルで解答を作成した後、以下のセルを実行し、実行結果が全て `True` になることを確認してください。"
   ]
  },
  {
   "cell_type": "code",
   "execution_count": null,
   "metadata": {
    "tags": [
     "raises-exception"
    ]
   },
   "outputs": [],
   "source": [
    "print(check_timestr('10:23').group() == '10:23') # group()については後半に説明があります（オプショナル）\n",
    "print(check_timestr('time?1023') == None)\n",
    "print(check_timestr('time?11:23').group() == '11:23')\n",
    "print(check_timestr('12:3xx1;23ah23:23') == None)"
   ]
  },
  {
   "cell_type": "markdown",
   "metadata": {},
   "source": [
    "## 練習\n",
    "\n",
    "文字列 `str1` を引数として取り、`str1` の中に「IPv4を表す文字列」が含まれているかどうか調べて、含まれていればマッチしたときのmatchオブジェクトを、含まれいなければ `None` を返す関数 `check_ipv4str` を作成してください。 ただし、「IPv4を表す文字列」 は次のような文字列とします。\n",
    "\n",
    "1. `aaa:bbb:ccc:ddd` という形式の長さ15の文字列\n",
    "2.  `aaa`, `bbb`, `ccc`, `ddd` はいずれも、 `000`, `001`, ..., `254`, `255` のいずれかの文字列\n",
    "\n",
    "以下のセルの `...` のところを書き換えて解答してください。"
   ]
  },
  {
   "cell_type": "code",
   "execution_count": null,
   "metadata": {},
   "outputs": [],
   "source": [
    "import ...\n",
    "def check_ipv4str(str1):\n",
    "    ..."
   ]
  },
  {
   "cell_type": "markdown",
   "metadata": {},
   "source": [
    "上のセルで解答を作成した後、以下のセルを実行し、実行結果が全て `True` になることを確認してください。"
   ]
  },
  {
   "cell_type": "code",
   "execution_count": null,
   "metadata": {
    "tags": [
     "raises-exception"
    ]
   },
   "outputs": [],
   "source": [
    "print(check_ipv4str('IP=255:255:255:255').group() == '255:255:255:255') \n",
    "print(check_ipv4str('notIP=2x5:a5b:2c:255:14:444') == None)\n",
    "print(check_ipv4str('IP?=25:25:55:155') == None)\n",
    "print(check_ipv4str('IP?=255:255:255') == None) "
   ]
  },
  {
   "cell_type": "markdown",
   "metadata": {},
   "source": [
    "## 練習\n",
    "\n",
    "文字列 `str1` を引数として取り、 `str1` の中に「月と日を表す文字列」が含まれているかどうか調べて、含まれていればマッチしたときのmatchオブジェクトを、含まれいなければ `None` を返す関数 `check_monthdaystr` を作成してください。 ただし、「月と日を表す文字列」 は次のような文字列とします。\n",
    "\n",
    "1. `mm/dd` という長さ5の文字列\n",
    "2. `mm` は、 `01`, `02`, ..., `12` のいずれかの文字列\n",
    "3. `dd` は、`mm` が `01`, `03`, `05`, `07`, `08`, `10`, `12` ならば、`01`, `02`, ..., `31` のいずれかの文字列\n",
    "4. `dd` は、`mm` が `04`, `06`, `09`, `11` ならば、`01`, `02`, ..., `30` のいずれかの文字列\n",
    "5. `dd` は、`mm` が `02` ならば、`01`, `02`, ..., `29` のいずれかの文字列\n",
    "\n",
    "以下のセルの `...` のところを書き換えて解答してください。"
   ]
  },
  {
   "cell_type": "code",
   "execution_count": null,
   "metadata": {},
   "outputs": [],
   "source": [
    "import ...\n",
    "def check_monthdaystr(str1):\n",
    "    ..."
   ]
  },
  {
   "cell_type": "markdown",
   "metadata": {},
   "source": [
    "上のセルで解答を作成した後、以下のセルを実行し、実行結果が全て `True` になることを確認してください。"
   ]
  },
  {
   "cell_type": "code",
   "execution_count": null,
   "metadata": {
    "tags": [
     "raises-exception"
    ]
   },
   "outputs": [],
   "source": [
    "print(check_monthdaystr('year11/31month11/30day15hour/27minute/sec').group() == '11/30')\n",
    "print(check_monthdaystr('11/31') == None)\n",
    "print(check_monthdaystr('x02f/2d5ax') == None)\n",
    "print(check_monthdaystr('03/24').group() == '03/24')"
   ]
  },
  {
   "cell_type": "markdown",
   "metadata": {},
   "source": [
    "## 文字クラス\n",
    "\n",
    " `[abc]` は `a|b|c` と同じ意味の正規表現です。この角括弧用いた表記は、**文字クラス**と呼ばれます。"
   ]
  },
  {
   "cell_type": "code",
   "execution_count": null,
   "metadata": {},
   "outputs": [],
   "source": [
    "match1 = re.search('[abc]', 'defabcxyz')\n",
    "print(match1)\n",
    "match1 = re.search('[3456]', '1234567890')\n",
    "print(match1)\n",
    "match1 = re.search('ha[sd]', 'He has an apple and they have pineapples.')\n",
    "print(match1)\n"
   ]
  },
  {
   "cell_type": "markdown",
   "metadata": {},
   "source": [
    "勿論、これまでの和や閉包と組み合わせて用いることができます。"
   ]
  },
  {
   "cell_type": "code",
   "execution_count": null,
   "metadata": {},
   "outputs": [],
   "source": [
    "match1 = re.search('[def][abc]', 'defabcxyz')\n",
    "print(match1)\n",
    "match1 = re.search('4[3456][3456]([3456]|[7890])', '1234567890')\n",
    "print(match1)\n",
    "match1 = re.search('6[789]*', '1234567890')\n",
    "print(match1)\n",
    "match1 = re.search('she ha[sd]|they ha(ve|d)', 'He has an apple and they have pineapples.', re.I)\n",
    "print(match1)"
   ]
  },
  {
   "cell_type": "markdown",
   "metadata": {},
   "source": [
    "ただし、文字クラスの中で連接、和、閉包は無効化されます。たとえば、`[a*]` という正規表現は、`a` もしくは、`*` にマッチします。"
   ]
  },
  {
   "cell_type": "code",
   "execution_count": null,
   "metadata": {},
   "outputs": [],
   "source": [
    "match1 = re.search('[a*]', 'aaaaaa') # a一文字にマッチ\n",
    "print(match1)\n",
    "match1 = re.search('[a*]', '*') # *一文字にマッチ\n",
    "print(match1)\n",
    "match1 = re.search('a*', 'aaaaaa')\n",
    "print(match1)\n",
    "match1 = re.search('a*', '*') # 文字クラスでない場合、*にはマッチしない\n",
    "print(match1)\n",
    "match1 = re.search('[a|b]', 'defabcxyz') # a一文字にマッチ\n",
    "print(match1)\n",
    "match1 = re.search('[a|b]', '|') #  |一文字にマッチ\n",
    "print(match1)\n",
    "match1 = re.search('a|b', '|') # 文字クラスでない場合、|にはマッチしない\n",
    "print(match1)"
   ]
  },
  {
   "cell_type": "markdown",
   "metadata": {},
   "source": [
    "文字クラスでは一文字分の連続する和演算を表すことができますが、長さ2以上の文字列を表すことはできません。すなわち、`ab | cd` という正規表現を（1つの）文字クラスで表すことはできません。\n",
    "\n",
    "また、 `[abcdefg]` や `[gcdbeaf]` などは `[a-g]`、`[1234567]` や `[4271635]` などは `[1-7]` などとハイフン (`-`) を用いることで簡潔に表すことができます。たとえば、全てのアルファベットと数字を表す場合は、`[a-zA-Z0-9]` で表されます。"
   ]
  },
  {
   "cell_type": "code",
   "execution_count": null,
   "metadata": {},
   "outputs": [],
   "source": [
    "match1 = re.search('[a-c]', 'defabcxyz')\n",
    "print(match1)\n",
    "match1 = re.search('3[4-8]', '1234567890')\n",
    "print(match1)\n",
    "match1 = re.search(':[a-zA-Z0-9]*:', 'a1b2c3:d4e5f:6g7A8B:9C0D')\n",
    "print(match1)"
   ]
  },
  {
   "cell_type": "markdown",
   "metadata": {},
   "source": [
    "文字クラスの内側をキャレット (`^`) で始めると、**否定文字クラス**となり、キャレットの後ろに指定した文字以外の文字とマッチする正規表現となります。たとえば、`[^abc]` は `a`, `b`, `c` 以外の1文字とマッチする正規表現です。"
   ]
  },
  {
   "cell_type": "code",
   "execution_count": null,
   "metadata": {},
   "outputs": [],
   "source": [
    "match1 = re.search('[^abc]', 'abcdefxyz')\n",
    "print(match1)\n",
    "match1 = re.search('[^def]', 'defabcxyz')\n",
    "print(match1)\n",
    "match1 = re.search('[^1-7]', '1234567890')\n",
    "print(match1)\n",
    "match1 = re.search('ha[^sd]e', 'He has an apple and they have pineapples.')\n",
    "print(match1)"
   ]
  },
  {
   "cell_type": "markdown",
   "metadata": {},
   "source": [
    "キャレットを先頭以外につけた場合は、単なる文字クラスになります。すなわち、キャレットにマッチするかどうかが判定されます。たとえば、`[d^ef]` は、`d`, `^`, `e`, `f` のいずれかにマッチします。"
   ]
  },
  {
   "cell_type": "code",
   "execution_count": null,
   "metadata": {},
   "outputs": [],
   "source": [
    "match1 = re.search('[d^ef]', 'defabcxyz') \n",
    "print(match1)\n",
    "match1 = re.search('[d^ef]', 'a^bcdef') # キャレットにマッチする\n",
    "print(match1)"
   ]
  },
  {
   "cell_type": "markdown",
   "metadata": {},
   "source": [
    "## 正規表現に関する基本的な関数\n",
    "\n",
    "上で紹介した正規表現を利用してマッチする文字列が存在するかどうかを調べるだけではなく、マッチした文字列に対して色々な処理を加えることができます。以下では2つの基本的な関数を紹介します。"
   ]
  },
  {
   "cell_type": "markdown",
   "metadata": {},
   "source": [
    "### `sub`\n",
    "\n",
    "**`sub`** は、`正規表現R` にマッチする `文字列A` 中の全ての文字列を、指定した `文字列B` で置き換えることができます。\n",
    "\n",
    "具体的には次のようにすると、\n",
    "\n",
    "---\n",
    "```Python\n",
    "re.sub(正規表現R, 置換する文字列B, 元になる文字列A)\n",
    "```\n",
    "---\n",
    "\n",
    "`R` とマッチする `A` 中の全ての文字列を `B` と置き換えることができます。置き換えられた結果の文字列（新たに作られて）が返値となります。（もちろん、もとの文字列 `A` は変化しません。）"
   ]
  },
  {
   "cell_type": "code",
   "execution_count": null,
   "metadata": {},
   "outputs": [],
   "source": [
    "str1 = re.sub('[346]', 'x', '03-5454-68284') #3,4,6をxに置き換える\n",
    "print(str1)\n",
    "str1 = re.sub('[.,:;!?]', '', \"He has three pets: a cat, a dog and a giraffe, doesn't he?\") #句読点を削除する（空文字列に置き換える）\n",
    "print(str1)\n",
    "str1 = re.sub('\\(a\\)|あっとまーく|＠', '@', 'accountnameあっとまーくtest.ecc.u-tokyo.ac.jp') # スパム回避の文字列を@に置き換える\n",
    "print(str1)# \\(と\\)の意味については、下記の「正規表現のエスケープシーケンス」の節を参照してください"
   ]
  },
  {
   "cell_type": "markdown",
   "metadata": {},
   "source": [
    "```Python\n",
    "re.sub(r'[ \\t\\n][ \\t\\n]*', ' ', str1)\n",
    "```\n",
    "とすると、文字列 `str1` の空白文字の並びがスペース1個に置き換わります。\n",
    "\n",
    "ここで、`r'[ \\t\\n][ \\t\\n]*'` という正規表現は、空白かタブか改行の***1回以上***の繰り返しのパターンを表します。つまり、`aa*` という形をした「1回以上の `a` という文字列とマッチする正規表現」は `a+` という `+` を使った正規表現で置き換えることが可能です。この `+` は後で正式に紹介します。"
   ]
  },
  {
   "cell_type": "code",
   "execution_count": null,
   "metadata": {},
   "outputs": [],
   "source": [
    "re.sub(r'[ \\t\\n][ \\t\\n]*', ' ', 'Hello,\\n    World!\\tHow are you?')"
   ]
  },
  {
   "cell_type": "markdown",
   "metadata": {},
   "source": [
    "以下では、HTMLやXMLのタグを消しています（空文字列に置き換えています）。"
   ]
  },
  {
   "cell_type": "code",
   "execution_count": null,
   "metadata": {},
   "outputs": [],
   "source": [
    "re.sub(r'<[^>]*>', '', '<body>\\nClick <a href=\"a.href\">this</a>\\n</body>\\n')"
   ]
  },
  {
   "cell_type": "markdown",
   "metadata": {},
   "source": [
    "`r'<[^>]*>'` という正規表現は、`<` の後に `>` 以外の文字の繰り返しがあって最後に `>` が来るというパターンを表します。"
   ]
  },
  {
   "cell_type": "markdown",
   "metadata": {},
   "source": [
    "### `re.split`\n",
    "\n",
    "\n",
    "**`split`** は、`正規表現R` にマッチする文字列を区切り文字（デリミタ）として、`文字列A` を分割します。分割された文字列がリストに格納されて返値となります。\n",
    "\n",
    "具体的には次のように用います。\n",
    "\n",
    "---\n",
    "```Python\n",
    "re.split(正規表現R, 元になる文字列A)\n",
    "```\n",
    "---\n",
    "\n",
    "以下が典型例です。\n",
    "\n",
    "---\n",
    "```Python\n",
    "re.split(r'[^a-zA-Z][^a-zA-Z]*', 'Hello, World! How are you?')\n",
    "\n",
    "```\n",
    "---\n",
    "\n",
    "`[^a-zA-Z][^a-zA-Z]*` という正規表現は、英文字以外の文字が1回以上繰り返されている、というパターンを表します。\n",
    "この正規表現を Python の式の中で用いるときは、`r'[^a-zA-Z][^a-zA-Z]*'` という構文を用います。\n",
    "先頭の `r` については、以下の説明を参照してください。"
   ]
  },
  {
   "cell_type": "code",
   "execution_count": null,
   "metadata": {},
   "outputs": [],
   "source": [
    "list1 = re.split(' ', \"He has three pets a cat a dog and a giraffe doesn't he\")\n",
    "print(list1)\n",
    "list2 = re.split(r'[^a-zA-Z][^a-zA-Z]*', 'Hello, World! How are you?')\n",
    "print(list2)"
   ]
  },
  {
   "cell_type": "markdown",
   "metadata": {},
   "source": [
    "この例のように、返されたリストに空文字列が含まれる場合がありますので、注意してください。"
   ]
  },
  {
   "cell_type": "markdown",
   "metadata": {},
   "source": [
    "###  `r` を付ける理由\n",
    "\n",
    "さて、以上のような正規表現は、`'hello*'` のようにPythonの文字列として `re.split` や `re.sub` などの関数に与えればよいのですが、\n",
    "以下のように文字列の前に `r` を付けることが推奨されます。"
   ]
  },
  {
   "cell_type": "code",
   "execution_count": null,
   "metadata": {},
   "outputs": [],
   "source": [
    "r'hello*'"
   ]
  },
  {
   "cell_type": "markdown",
   "metadata": {},
   "source": [
    "`r'hello*'` の場合は `r` を付けても付けなくても同じなのですが、\n",
    "以下のように `r` を付けるとエスケープすべき文字がエスケープシーケンスになった文字列が得られます。"
   ]
  },
  {
   "cell_type": "code",
   "execution_count": null,
   "metadata": {},
   "outputs": [],
   "source": [
    "r'[ \\t\\n]+'"
   ]
  },
  {
   "cell_type": "markdown",
   "metadata": {},
   "source": [
    "`\\t` が `\\\\t` に変わったことでしょう。`\\\\` はバックスラッシュを表すエスケープシーケンスです。\n",
    "`\\t` はタブという文字を表しますが、`\\\\t` はバックススラッシュと `t` という2文字から成る文字列です。\n",
    "この場合、正規表現を解釈する段階でバックスラッシュが処理されます。\n",
    "\n",
    "特に `\\` という文字そのものを正規表現に含めたいときは `\\\\` と書いた上で `r` を付けてください。"
   ]
  },
  {
   "cell_type": "code",
   "execution_count": null,
   "metadata": {},
   "outputs": [],
   "source": [
    "r'\\\\t t/'"
   ]
  },
  {
   "cell_type": "markdown",
   "metadata": {},
   "source": [
    "この場合、文字列の中に `\\` が2個含まれており、正規表現を解釈する段階で正しく処理されます。すなわち、`\\` という文字そのものを表します。"
   ]
  },
  {
   "cell_type": "markdown",
   "metadata": {},
   "source": [
    "## 練習\n",
    "\n",
    "英語の文書が保存された `text-sample.txt` というファイルから読み込み、出現する単語のリストを返す関数 `get_engsentences` を作成してください。 ただし、***重複する単語を削除してはいけません***が、空文字列は除きます。また、リストは返す前に中身を昇順に並べ替えてください。\n",
    "\n",
    "以下のセルの `...` のところを書き換えて解答してください。"
   ]
  },
  {
   "cell_type": "code",
   "execution_count": null,
   "metadata": {},
   "outputs": [],
   "source": [
    "import ...\n",
    "def get_engsentences():\n",
    "    ..."
   ]
  },
  {
   "cell_type": "markdown",
   "metadata": {},
   "source": [
    "上のセルで解答を作成した後、以下のセルを実行し、実行結果が `True` になることを確認してください。"
   ]
  },
  {
   "cell_type": "code",
   "execution_count": null,
   "metadata": {
    "tags": [
     "raises-exception"
    ]
   },
   "outputs": [],
   "source": [
    "list1 = get_engsentences()\n",
    "print(len(list1) == 289)\n",
    "print(list1[0] == 'a')\n",
    "print(list1[100] == 'in')\n",
    "print(list1[288] == 'would')"
   ]
  },
  {
   "cell_type": "markdown",
   "metadata": {},
   "source": [
    "## 練習\n",
    "\n",
    "英語の文書が保存された `text-sample.txt` というファイルから読み込み、出現する単語のリストを返す関数 `get_engsentences2` を作成してください。 ただし、空文字列は除きます。また、リストは返す前に中身を昇順に並べ替えてください。\n",
    "\n",
    "以下のセルの `...` のところを書き換えて解答してください。"
   ]
  },
  {
   "cell_type": "code",
   "execution_count": null,
   "metadata": {},
   "outputs": [],
   "source": [
    "import ...\n",
    "def get_engsentences2():\n",
    "    ..."
   ]
  },
  {
   "cell_type": "markdown",
   "metadata": {},
   "source": [
    "上のセルで解答を作成した後、以下のセルを実行し、実行結果が `True` になることを確認してください。"
   ]
  },
  {
   "cell_type": "code",
   "execution_count": null,
   "metadata": {
    "tags": [
     "raises-exception"
    ]
   },
   "outputs": [],
   "source": [
    "list1 = get_engsentences2()\n",
    "print(len(list1) == 149)\n",
    "print(list1[0] == 'a')\n",
    "print(list1[100] == 'proclaim')\n",
    "print(list1[148] == 'would')"
   ]
  },
  {
   "cell_type": "markdown",
   "metadata": {},
   "source": [
    "## その他の反復演算\n",
    "\n",
    "閉包以外の反復演算を説明します。\n",
    "\n",
    "**`a?`** は、正規表現 `a` を高々1回反復する文字列とマッチします。たとえば、`a(bc)?` は `a|abc` と同じ意味の正規表現です。"
   ]
  },
  {
   "cell_type": "code",
   "execution_count": null,
   "metadata": {},
   "outputs": [],
   "source": [
    "match1 = re.search('colou?r', 'colour')\n",
    "print(match1)\n",
    "match1 = re.search('colou?r', 'color')\n",
    "print(match1)"
   ]
  },
  {
   "cell_type": "markdown",
   "metadata": {},
   "source": [
    "**`a+`** は、正規表現 `a` を1回以上反復する文字列とマッチします。つまり、`a+` は `aa*` と同じ意味の正規表現です。"
   ]
  },
  {
   "cell_type": "code",
   "execution_count": null,
   "metadata": {},
   "outputs": [],
   "source": [
    "match1 = re.search('boo+', 'boooo!')\n",
    "print(match1)\n",
    "match1 = re.search('boo+', 'bo!')\n",
    "print(match1)\n",
    "match1 = re.search('a+', 'abcdef')\n",
    "print(match1)\n",
    "match1 = re.search('a+', 'aabbcc')\n",
    "print(match1)\n",
    "match1 = re.search('a+', 'cde')\n",
    "print(match1)\n",
    "match1 = re.search('[^a-zA-Z]+', 'abc12345efg67hi89j0k')\n",
    "print(match1)\n",
    "match1 = re.search('[a-zA-Z]+', 'abc12345efg67hi89j0k')\n",
    "print(match1)"
   ]
  },
  {
   "cell_type": "markdown",
   "metadata": {},
   "source": [
    "上記の例を `*` を使う形に書き換えてみてください。"
   ]
  },
  {
   "cell_type": "markdown",
   "metadata": {},
   "source": [
    "**`a{x,y}`**、は正規表現 `a` を `x` 回以上かつ `y` 回以下繰り返す文字列とマッチします。"
   ]
  },
  {
   "cell_type": "code",
   "execution_count": null,
   "metadata": {},
   "outputs": [],
   "source": [
    "match1 = re.search('bo{3,5}', 'booooooo!')\n",
    "print(match1)\n",
    "match1 = re.search('bo{3,5}', 'boo!')\n",
    "print(match1)\n",
    "match1 = re.search('a{2,5}', 'bacaad')\n",
    "print(match1)\n",
    "match1 = re.search('[0-9]{1,3},[0-9]{3,3}', '1,298円')\n",
    "print(match1)\n",
    "match1 = re.search('[0-9]{1,3},[0-9]{3,3}', '298円')\n",
    "print(match1)"
   ]
  },
  {
   "cell_type": "markdown",
   "metadata": {},
   "source": [
    "## メタ文字\n",
    "\n",
    "以下では、良く使うメタ文字（特殊文字）を紹介します。\n",
    "    \n",
    " **`.`**（ピリオド）は、あらゆる文字にマッチします。"
   ]
  },
  {
   "cell_type": "code",
   "execution_count": null,
   "metadata": {},
   "outputs": [],
   "source": [
    "match1 = re.search('.', 'Hello')\n",
    "print(match1)\n",
    "match1 = re.search('3.*9', '1234567890')\n",
    "print(match1)\n",
    "match1 = re.search('ha(.|..)', 'He has an apple and they have pineapples.')\n",
    "print(match1)"
   ]
  },
  {
   "cell_type": "markdown",
   "metadata": {},
   "source": [
    "ただし、文字クラスの中で `.` を用いても、あらゆる文字とはマッチせず、`*` の場合と同様に、ピリオドとマッチします。"
   ]
  },
  {
   "cell_type": "code",
   "execution_count": null,
   "metadata": {},
   "outputs": [],
   "source": [
    "match1 = re.search('[.]', 'Hello')\n",
    "print(match1)\n",
    "match1 = re.search('[.]', '3.141592')\n",
    "print(match1)"
   ]
  },
  {
   "cell_type": "markdown",
   "metadata": {},
   "source": [
    "**`\\t`** は タブを表します。"
   ]
  },
  {
   "cell_type": "code",
   "execution_count": null,
   "metadata": {},
   "outputs": [],
   "source": [
    "match1 = re.search('b\\t', 'a\tb\tc\td')\n",
    "print(match1)"
   ]
  },
  {
   "cell_type": "markdown",
   "metadata": {},
   "source": [
    " **`\\s`** は**空白文字**（スペース、タブ、改行など）を表します。"
   ]
  },
  {
   "cell_type": "code",
   "execution_count": null,
   "metadata": {},
   "outputs": [],
   "source": [
    "match1 = re.search('b\\s', 'a\tb\tc\td')\n",
    "print(match1)\n",
    "match1 = re.search('a\\s\\s\\s', 'a\t　 b\t　c\td')\n",
    "print(match1)\n",
    "match1 = re.search('b\\s*', 'a\t　 b\t　c\td')\n",
    "print(match1)"
   ]
  },
  {
   "cell_type": "markdown",
   "metadata": {},
   "source": [
    " **`\\S`** は `\\s` 以外の全ての文字を表します。"
   ]
  },
  {
   "cell_type": "code",
   "execution_count": null,
   "metadata": {},
   "outputs": [],
   "source": [
    "match1 = re.search('b\\S', 'a\tb\tbc\td')\n",
    "print(match1)\n"
   ]
  },
  {
   "cell_type": "markdown",
   "metadata": {},
   "source": [
    "**`\\w`** は `[a-zA-Z0-9_]` と同じ意味です。"
   ]
  },
  {
   "cell_type": "code",
   "execution_count": null,
   "metadata": {},
   "outputs": [],
   "source": [
    "match1 = re.search('\\w\\w', 'abcde')\n",
    "print(match1)\n",
    "match1 = re.search('b\\w*g', 'abcdefgh')\n"
   ]
  },
  {
   "cell_type": "markdown",
   "metadata": {},
   "source": [
    "**`\\W`** は `\\w` 以外の全ての文字を表します。すなわち、`[^a-zA-Z0-9_]` と同じ意味です。"
   ]
  },
  {
   "cell_type": "code",
   "execution_count": null,
   "metadata": {},
   "outputs": [],
   "source": [
    "match1 = re.search('g\\W*', 'ab defg  hi jklm no p')\n",
    "print(match1)\n",
    "match1 = re.search('\\W\\w*\\W', 'ab defg  hi jklm no p')\n",
    "print(match1)"
   ]
  },
  {
   "cell_type": "markdown",
   "metadata": {},
   "source": [
    "**`\\d`** は `[0-9]` と同じ意味です。"
   ]
  },
  {
   "cell_type": "code",
   "execution_count": null,
   "metadata": {},
   "outputs": [],
   "source": [
    "match1 = re.search('\\d\\d\\d-\\d\\d\\d\\d', '153-8902')\n",
    "print(match1)\n",
    "match1 = re.search('\\d*-\\d*', '153-8902')\n",
    "print(match1)\n",
    "match1 = re.search('\\d\\d-\\d\\d\\d\\d-\\d\\d\\d\\d', '03-5454-6828')\n",
    "print(match1)\n",
    "match1 = re.search('\\d*-\\d*-\\d*', '03-5454-6828')\n",
    "print(match1)"
   ]
  },
  {
   "cell_type": "markdown",
   "metadata": {},
   "source": [
    "**`\\D`** は `\\d` 以外の全ての文字を表します。すなわち、`[^0-9]` と同じ意味です。"
   ]
  },
  {
   "cell_type": "code",
   "execution_count": null,
   "metadata": {},
   "outputs": [],
   "source": [
    "match1 = re.search('\\D*', 'He has 10 apples.')\n",
    "print(match1)\n"
   ]
  },
  {
   "cell_type": "markdown",
   "metadata": {},
   "source": [
    "## 練習\n",
    "文字列から数字列を切り出して、それを整数とみなして足し合せた結果を整数として返す関数 `sumnumbers` を定義してください。"
   ]
  },
  {
   "cell_type": "code",
   "execution_count": null,
   "metadata": {},
   "outputs": [],
   "source": [
    "import ...\n",
    "def sumnumbers(s):\n",
    "    ..."
   ]
  },
  {
   "cell_type": "markdown",
   "metadata": {},
   "source": [
    "上のセルで解答を作成した後、以下のセルを実行し、実行結果が `True` になることを確認してください。"
   ]
  },
  {
   "cell_type": "code",
   "execution_count": null,
   "metadata": {
    "tags": [
     "raises-exception"
    ]
   },
   "outputs": [],
   "source": [
    "print(sumnumbers(' 2  33 45, 67.9') == 156)"
   ]
  },
  {
   "cell_type": "markdown",
   "metadata": {},
   "source": [
    "## 練習\n",
    "\n",
    "文字列 `str1` を引数として取り、`str1` を構成する文字列が `A`, `C`, `G`, `T` の4種類の文字以外の文字を含むかどうか調べて、これら以外を含む場合は `False`、そうでない場合は `True` を返す関数 `check_ACGTstr` を作成してください。 ただし、大文字と小文字は区別しません。また、空列の場合は `False` を返してください。\n",
    "\n",
    "以下のセルの `...` のところを書き換えて解答してください。"
   ]
  },
  {
   "cell_type": "code",
   "execution_count": null,
   "metadata": {},
   "outputs": [],
   "source": [
    "import ...\n",
    "def check_ACGTstr(str1):\n",
    "    ..."
   ]
  },
  {
   "cell_type": "markdown",
   "metadata": {},
   "source": [
    "上のセルで解答を作成した後、以下のセルを実行し、実行結果が全て `True` になることを確認してください。"
   ]
  },
  {
   "cell_type": "code",
   "execution_count": null,
   "metadata": {
    "tags": [
     "raises-exception"
    ]
   },
   "outputs": [],
   "source": [
    "print(check_ACGTstr('AcCGTAGCacATcGgAaaTtGCacT') == True) \n",
    "print(check_ACGTstr(':ACaacgta24FgtGH') == False)\n",
    "print(check_ACGTstr('') == False)"
   ]
  },
  {
   "cell_type": "markdown",
   "metadata": {},
   "source": [
    "## 練習\n",
    "\n",
    "文字列 `str1` を引数として取り、 `str1` を構成する文字列が「日本の郵便番号」を表す文字列になっている場合は、 `True` を返し、そうでない場合は `False` を返す関数 `check_postalcode` を作成してください。 ただし、「日本の郵便番号」は `abc-defg` という形になっており、`a`, `b`, `c`, `d`, `e`, `d`, `f`, `g` はそれぞれ `0` から `9` までの値になっています。\n",
    "\n",
    "以下のセルの `...` のところを書き換えて解答してください。"
   ]
  },
  {
   "cell_type": "code",
   "execution_count": null,
   "metadata": {},
   "outputs": [],
   "source": [
    "import ...\n",
    "def check_postalcode(str1):\n",
    "    ..."
   ]
  },
  {
   "cell_type": "markdown",
   "metadata": {},
   "source": [
    "上のセルで解答を作成した後、以下のセルを実行し、実行結果が全て `True` になることを確認してください。"
   ]
  },
  {
   "cell_type": "code",
   "execution_count": null,
   "metadata": {
    "tags": [
     "raises-exception"
    ]
   },
   "outputs": [],
   "source": [
    "print(check_postalcode('113-8654') == True) \n",
    "print(check_postalcode('119-110') == False)\n",
    "print(check_postalcode('abc-defg') == False)\n",
    "print(check_postalcode('〒153-0041') == False) \n",
    "print(check_postalcode('113-86547') == False) "
   ]
  },
  {
   "cell_type": "markdown",
   "metadata": {},
   "source": [
    "## 練習\n",
    "\n",
    "文字列 `str1` を引数として取り、`str1` を構成する文字列が「本郷の内線番号」を表す文字列になっている場合は、 `True` を返し、そうでない場合は `False` を返す関数 `check_extension` を作成してください。 ただし、「本郷の内線番号」は `2abcd` という形になっており、`a`, `b`, `c`, `d` はそれぞれ `0` から `9` までの値になっています。\n",
    "\n",
    "以下のセルの `...` のところを書き換えて解答してください。"
   ]
  },
  {
   "cell_type": "code",
   "execution_count": null,
   "metadata": {},
   "outputs": [],
   "source": [
    "import ...\n",
    "def check_extension(str1):\n",
    "    ..."
   ]
  },
  {
   "cell_type": "markdown",
   "metadata": {},
   "source": [
    "上のセルで解答を作成した後、以下のセルを実行し、実行結果が全て `True` になることを確認してください。"
   ]
  },
  {
   "cell_type": "code",
   "execution_count": null,
   "metadata": {
    "tags": [
     "raises-exception"
    ]
   },
   "outputs": [],
   "source": [
    "print(check_extension('24115') == True) \n",
    "print(check_extension('46858') == False)\n",
    "print(check_extension('☎46666') == False) \n",
    "print(check_extension('467890') == False) "
   ]
  },
  {
   "cell_type": "markdown",
   "metadata": {},
   "source": [
    "## 正規表現のエスケープシーケンス\n",
    "\n",
    "丸括弧 `()` や演算子 (`|`, `*`) など正規表現の中で特殊な役割を果たす記号のマッチを行いたい場合、文字列のエスケープシーケンスのように `\\` を前につけてやる必要があります。"
   ]
  },
  {
   "cell_type": "code",
   "execution_count": null,
   "metadata": {},
   "outputs": [],
   "source": [
    "match1 = re.search('03(5454)6666', '03(5454)6666') #電話番号。つけないと丸括弧として扱われないのでマッチしない\n",
    "print(match1)\n",
    "match1 = re.search('03(5454)6666', '0354546666') # 括弧が含まれない文字列にマッチ\n",
    "print(match1)\n",
    "match1 = re.search('03\\(5454\\)6666', '03(5454)6666') # \\(と\\)で左右の丸括弧として扱われるのでマッチする\n",
    "print(match1)\n",
    "match1 = re.search('3*4+5=17', '3*4+5=17') #計算式。*と+が演算子扱いされているのでマッチしない\n",
    "print(match1)\n",
    "match1 = re.search('3*4+5=17', '33345=17') #\\がないと、たとえば、このような文字列とマッチする\n",
    "print(match1)\n",
    "match1 = re.search('3\\*4\\+5=17', '3*4+5=17') #意図した文字列にマッチ\n",
    "print(match1)\n",
    "match1 = re.search('|ω・`）チラ ', '|ω・`）チラ ') #顔文字。 空列にマッチしてしまう\n",
    "print(match1)\n",
    "match1 = re.search('\\|ω・`）チラ ', '|ω・`）チラ ') #意図した文字列にマッチ\n",
    "print(match1)"
   ]
  },
  {
   "cell_type": "markdown",
   "metadata": {},
   "source": [
    "特殊な意味を持つ記号は次の14個です。\n",
    "\n",
    "`. ^ $ * + ? { } [ ] \\ | ( )`\n",
    "\n",
    "これらの特殊記号が含まれる場合（かつ意図したマッチの結果が得られない場合）には、エスケープシーケンスを使う（エスケープする）べき（可能性がある）ことも考慮に入れておいてください。"
   ]
  },
  {
   "cell_type": "markdown",
   "metadata": {},
   "source": [
    "## 正規表現に関する関数とメソッド \n",
    "\n",
    "以下では更に幾つかの関数とメソッドを紹介します。"
   ]
  },
  {
   "cell_type": "markdown",
   "metadata": {},
   "source": [
    "### `findall`\n",
    "\n",
    " **`findall`** は、`正規表現R` にマッチする `文字列A` 中の全ての文字列を、リストに格納して返します。\n",
    "\n",
    "具体的には次のように実行します。\n",
    "\n",
    "---\n",
    "```Python\n",
    "re.findall(正規表現R, 文字列A)\n",
    "```\n",
    "---"
   ]
  },
  {
   "cell_type": "code",
   "execution_count": null,
   "metadata": {},
   "outputs": [],
   "source": [
    "list1 = re.findall('had', 'James while John had had had had had had had had had had had a better effect on the teacher.')\n",
    "#James, while John had had 'had', had had 'had had'; 'had had' had had a better effect on the teacher.\n",
    "print(list1) #全てのhadを抜き出す\n",
    "list1 = re.findall('p[^ .]*', 'Peter Piper picked a peck of pickled peppers.', re.I) \n",
    "print(list1)# pで始まる全ての単語を取得する, 大文字小文字を区別しない"
   ]
  },
  {
   "cell_type": "markdown",
   "metadata": {},
   "source": [
    "### `finditer`\n",
    "\n",
    " **`finditer`** は、`正規表現R` にマッチする `文字列A` 中の全ての matchオブジェクトを、特殊なリスト（のようなもの）に格納して返します。\n",
    "\n",
    "具体的には次のように実行します。\n",
    "\n",
    "---\n",
    "```Python\n",
    "re.finditer(正規表現R, 文字列A)\n",
    "```\n",
    "---\n",
    "\n",
    "返値は特殊なリスト（のようなもの）であり、for文の `in` の後ろに置いて使ってください。"
   ]
  },
  {
   "cell_type": "code",
   "execution_count": null,
   "metadata": {},
   "outputs": [],
   "source": [
    "print('1:正規表現 had の結果：')\n",
    "iter1 = re.finditer('had', 'James while John had had had had had had had had had had had a better effect on the teacher.')\n",
    "#James, while John had had 'had', had had 'had had'; 'had had' had had a better effect on the teacher.\n",
    "for match in iter1:\n",
    "    print(match) #全てのhadを抜き出す\n",
    "print('2:正規表現 p[^ .]* の結果：')\n",
    "iter1 = re.finditer('p[^ .]*', 'Peter Piper picked a peck of pickled peppers.', re.I) \n",
    "for match in iter1:\n",
    "    print(match)# pで始まる全ての単語を取得する, 大文字小文字を区別しない"
   ]
  },
  {
   "cell_type": "markdown",
   "metadata": {},
   "source": [
    "### `group`\n",
    "\n",
    "matchオブジェクトのメソッド **`group`** は、正規表現にマッチした文字列を（部分的に）取り出します。正規表現内に丸括弧を用いると、括弧内の正規表現とマッチした文字列を取得できるようになっています。なお、`group` によるこの操作を、括弧内の文字列を**キャプチャ**するといいます。\n",
    "\n",
    " `i` 番目のキャプチャした値を取得するには次のようにします。`i = 0` の場合は、マッチした文字列全体を取得できます。\n",
    "\n",
    "---\n",
    "```Python\n",
    "matchオブジェクト.group(i)\n",
    "```\n",
    "---"
   ]
  },
  {
   "cell_type": "code",
   "execution_count": null,
   "metadata": {},
   "outputs": [],
   "source": [
    "import re\n",
    "match1 = re.search('03-5454-(\\d\\d\\d\\d)', '03-5454-6666')\n",
    "print('マッチした文字列=', match1.group(0), ' キャプチャした文字列=', match1.group(1)) # 内線番号の取得 \n",
    "match1 = re.search('([^@]*)@[^.]*(\\.[^.]*)?\\.u-tokyo\\.ac\\.jp', 'accountname@test.ecc.u-tokyo.ac.jp') # \\.はピリオドを表します\n",
    "print('マッチした文字列=', match1.group(0), ' キャプチャした文字列=', match1.group(1)) # アカウント名の取得 \n",
    "match1 = re.search('([^@]*)@[^.]*(\\.[^.]*)?\\.u-tokyo\\.ac\\.jp', 'accountname@test.u-tokyo.ac.jp') # \\.はピリオドを表します\n",
    "print('マッチした文字列=', match1.group(0), ' キャプチャした文字列=', match1.group(1)) # アカウント名の取得 \n",
    "match1 = re.search(\"href=\\\"([^\\\"]*)\\\"\", '<a href=\"http://www.u-tokyo.ac.jp\" target=\"_blank\">U-Tokyo</a>')# \\\"はダブルクォートを表します\n",
    "print('マッチした文字列=', match1.group(0), ' キャプチャした文字列=', match1.group(1)) # リンク先URLの取得\n"
   ]
  },
  {
   "cell_type": "markdown",
   "metadata": {},
   "source": [
    "マッチに失敗した場合は、matchオブジェクトが返らずに `None` が返るので、それを確かめずに `group` を使おうとするとエラーが出ますので注意してください。"
   ]
  },
  {
   "cell_type": "code",
   "execution_count": null,
   "metadata": {},
   "outputs": [],
   "source": [
    "match1 = re.search('03-5454-(\\d\\d\\d\\d)', '03-5454-666') #マッチしない文字列\n",
    "print('マッチした文字列=', match1.group(0), ' キャプチャした文字列=', match1.group(1))"
   ]
  },
  {
   "cell_type": "markdown",
   "metadata": {},
   "source": [
    "たとえば、if文でエラーを回避します。"
   ]
  },
  {
   "cell_type": "code",
   "execution_count": null,
   "metadata": {},
   "outputs": [],
   "source": [
    "match1 = re.search('03-5454-(\\d\\d\\d\\d)', '03-5454-666')\n",
    "if match1 != None:\n",
    "    print('マッチした文字列=', match1.group(0), ' キャプチャした文字列=', match1.group(1))\n",
    "else: \n",
    "    print('マッチしていません')"
   ]
  },
  {
   "cell_type": "markdown",
   "metadata": {},
   "source": [
    "## 練習\n",
    "\n",
    "文字列 `str1` を引数として取り、`str1` を構成する文字列が `A`, `C`, `G`, `T` の4種類の文字以外の文字を含むかどうか調べて、これら以外を含む場合は `False` を、そうでない場合は `True` を返す関数 `check_ACGTstr` を作成してください。 ただし、大文字と小文字は区別しません。また、空列の場合は `False` を返してください。\n",
    "\n",
    "以下のセルの `...` のところを書き換えて解答してください。"
   ]
  },
  {
   "cell_type": "code",
   "execution_count": null,
   "metadata": {},
   "outputs": [],
   "source": [
    "import ...\n",
    "def check_ACGTstr(str1):\n",
    "    ..."
   ]
  },
  {
   "cell_type": "markdown",
   "metadata": {},
   "source": [
    "上のセルで解答を作成した後、以下のセルを実行し、実行結果が全て `True` になることを確認してください。"
   ]
  },
  {
   "cell_type": "code",
   "execution_count": null,
   "metadata": {
    "tags": [
     "raises-exception"
    ]
   },
   "outputs": [],
   "source": [
    "print(check_ACGTstr('AcCGTAGCacATcGgAaaTtGCacT') == True) \n",
    "print(check_ACGTstr(':ACaacgta24FgtGH') == False)\n",
    "print(check_ACGTstr('') == False)"
   ]
  },
  {
   "cell_type": "markdown",
   "metadata": {},
   "source": [
    "## 練習\n",
    "\n",
    "xmlファイル B1S.xml は http://www.natcorp.ox.ac.uk から入手できるイギリス英語のコーパスのファイルです。\n",
    "\n",
    "B1S.xmlに含まれるwタグで囲まれる英単語をキー `key` に、その wタグの属性posの値を `key` の値とする辞書を返す関数 `get_pos` を作成してください。ただし、一般にwタグは、次のような形式で記述されます。\n",
    "\n",
    "---\n",
    "```\n",
    "<w pos=\"PRON\" （ > 記号以外の何らかの文字列）>（英単語） </w>\n",
    "```\n",
    "---\n",
    "\n",
    "たとえば、以下のような具合です。\n",
    "\n",
    "---\n",
    "```\n",
    "<w pos=\"VERB\" hw=\"have\" c5=\"VHI\">have </w>\n",
    "```\n",
    "---\n",
    "\n",
    "\n",
    "以下のセルの `...` のところを書き換えて解答してください。"
   ]
  },
  {
   "cell_type": "code",
   "execution_count": null,
   "metadata": {},
   "outputs": [],
   "source": [
    "import ...\n",
    "def get_pos():\n",
    "    ..."
   ]
  },
  {
   "cell_type": "markdown",
   "metadata": {},
   "source": [
    "上のセルで解答を作成した後、以下のセルを実行し、実行結果が `True` になることを確認してください。"
   ]
  },
  {
   "cell_type": "code",
   "execution_count": null,
   "metadata": {
    "tags": [
     "raises-exception"
    ]
   },
   "outputs": [],
   "source": [
    "print(get_pos()['They '] == 'PRON')\n",
    "print(get_pos()['know '] == 'VERB')"
   ]
  },
  {
   "cell_type": "markdown",
   "metadata": {},
   "source": [
    "## 練習の解答"
   ]
  },
  {
   "cell_type": "code",
   "execution_count": null,
   "metadata": {},
   "outputs": [],
   "source": [
    "import re\n",
    "def check_monthstr(str1):\n",
    "    reg_month = '((0(1|2|3|4|5|6|7|8|9))|10|11|12)' #\n",
    "    #reg_month = '01|02|03|04|05|06|07|08|09|10|11|12' # としてもよい\n",
    "    match1 = re.search(reg_month, str1) # 文字列を「含む」なので、（matchではなく）searchを使う\n",
    "    return match1"
   ]
  },
  {
   "cell_type": "code",
   "execution_count": null,
   "metadata": {},
   "outputs": [],
   "source": [
    "import re\n",
    "def check_timestr(str1):\n",
    "    reg_hour = '((0(0|1|2|3|4|5|6|7|8|9))|10|11)' #「時」部分の正規表現\n",
    "    #reg_hour = '((0[0-9]|10|11)' # 文字クラスを使ってと表すこともできます（文字クラスは後で学習します \n",
    "    reg_min = '((0|2|3|4|5)(0|1|2|3|4|5|6|7|8|9))' #「分」部分の正規表現\n",
    "    #reg_min = '([0-5][0-9])' # 文字クラスを使ってと表すこともできます（文字クラスは後で学習します \n",
    "    reg_time = reg_hour + ':' + reg_min # 時部分と分部分を、「:」を挟んで結合した新しい正規表現\n",
    "    #print(reg_time)\n",
    "    match1 = re.search(reg3, str1) # 文字列を「含む」なので、（matchではなく）searchを使う\n",
    "    return match1"
   ]
  },
  {
   "cell_type": "code",
   "execution_count": null,
   "metadata": {},
   "outputs": [],
   "source": [
    "import re\n",
    "def check_ipv4str(str1):\n",
    "    reg_0to9 = '(0|1|2|3|4|5|6|7|8|9)' # 0から9の数を表す正規表現 \n",
    "    #reg_0to9 = '[0-9]' # 文字クラスを使ってと表すこともできます（文字クラスは後で学習します \n",
    "    reg_0_1 = '(0|1)' + reg_0to9 + reg_0to9 # 先頭の文字が0もしくは1だったときの正規表現(000から199まで)\n",
    "    reg_20_24 = '2(0|1|2|3|4)' + reg_0to9 # 先頭が20,21,22,23,24だったときの正規表現(200から249まで)\n",
    "    #reg_20_24 = '2[0-4]' + reg_0to9 # 文字クラスを使ってと表すこともできます\n",
    "    reg_25 = '25(0|1|2|3|4|5)' # 先頭が25だったときの正規表現(250から255まで)\n",
    "    #reg_25 = '25[0-5]' # 文字クラスを使ってと表すこともできます\n",
    "    reg_000_255 = '(' + reg_0_1 + '|' + reg_20_24 + '|' + reg_25 + ')'# aaa（000から255）を表す正規表現\n",
    "    #print(reg_000_255)\n",
    "    reg_ip = reg_000_255 + ':' + reg_000_255 + ':' + reg_000_255 + ':' + reg_000_255 # aaa:bbb:ccc:dddを表す正規表現\n",
    "    #print(reg_ip)\n",
    "    match1 = re.search(reg_ip, str1) # 文字列を「含む」なので、（matchではなく）searchを使う\n",
    "    return match1"
   ]
  },
  {
   "cell_type": "code",
   "execution_count": null,
   "metadata": {},
   "outputs": [],
   "source": [
    "import re\n",
    "def check_monthdaystr(str1):\n",
    "    reg_month_31 = '(01|03|05|07|08|10|12)' #ddが01から31になるmm\n",
    "    reg_month_30 = '(04|06|09|11)' #ddが01から30になるmm\n",
    "    reg_1to9 = '(1|2|3|4|5|6|7|8|9)' # [1-9]でもよい\n",
    "    reg_0to9 = '(0|1|2|3|4|5|6|7|8|9)' # [0-9]でもよい\n",
    "    reg_day_01to09 = '(0' + reg_1to9 + ')' # ddが01から09になる場合\n",
    "    reg_day_10to19 = '(1' + reg_0to9 + ')' # ddが10から19になる場合\n",
    "    reg_day_20to29 = '(2' + reg_0to9 + ')' # ddが21から29になる場合\n",
    "    reg_day_01to29 = reg_day_01to09 + '|' + reg_day_10to19 + '|' + reg_day_20to29 # ddが01から29になる場合\n",
    "    reg_day_01to30 = reg_day_01to29 + '|' + '30' # ddが01から30になる場合\n",
    "    reg_day_01to31 = reg_day_01to30 + '|' + '31' # ddが01から31になる場合\n",
    "    reg_monthday_31 = reg_month_31 + '/(' + reg_day_01to31 + ')' # mmとddを組み合わせる（01-31の場合）\n",
    "    reg_monthday_30 = reg_month_30 + '/(' + reg_day_01to30 + ')' # mmとddを組み合わせる（01-30の場合）\n",
    "    reg_monthday_29 = '02/(' + reg_day_01to29 + ')' # mmとddを組み合わせる（01-29の場合はmmは02のみ）\n",
    "    # 文字列を「含む」なので、（matchではなく）searchを使う\n",
    "    match1 = re.search(reg_monthday_31, str1) # 問題文の条件3を満たす文字列とマッチするかどうか\n",
    "    if match1 != None:\n",
    "        return match1\n",
    "    match1 = re.search(reg_monthday_30, str1) # 問題文の条件4を満たす文字列とマッチするかどうか\n",
    "    if match1 != None: \n",
    "        return match1\n",
    "    match1 = re.search(reg_monthday_29, str1) # 問題文の条件5を満たす文字列とマッチするかどうか\n",
    "    return match1"
   ]
  },
  {
   "cell_type": "code",
   "execution_count": null,
   "metadata": {},
   "outputs": [],
   "source": [
    "import re\n",
    "def sumnumbers(s):\n",
    "    numbers = re.split('[^0-9]+', s)\n",
    "    numbers.remove('')\n",
    "    n = 0\n",
    "    for number in numbers:\n",
    "        n += int(number)\n",
    "    return n"
   ]
  },
  {
   "cell_type": "code",
   "execution_count": null,
   "metadata": {},
   "outputs": [],
   "source": [
    "import re\n",
    "def get_engsentences():\n",
    "    word_list = [] # 結果を格納するリスト\n",
    "    with open('text-sample.txt', 'r') as f:\n",
    "        file_str = f.read() #ファイルの中身を文字列に格納\n",
    "    str_list = re.split(r'[^a-zA-Z][^a-zA-Z]*', file_str) # 文字列を単語に区切る\n",
    "    for word in str_list: #`re.split(r'[^a-zA-Z][^a-zA-Z]*', f.read())` は、ファイル全体の文字列を単語に区切ります。\n",
    "    #for word in re.split(r'[^a-zA-Z][^a-zA-Z]*', f.read()): # と一行にまとめてもよい\n",
    "        if word != '': #空文字列を除く\n",
    "            word = word.lower() #単語（文字列）の中の大文字を小文字に変換します\n",
    "            word_list.append(word) #リストに追加 \n",
    "            #word_list.append(word.lower())でも大丈夫\n",
    "    word_list.sort() # sortメソッドは破壊的\n",
    "    return word_list"
   ]
  },
  {
   "cell_type": "code",
   "execution_count": null,
   "metadata": {},
   "outputs": [],
   "source": [
    "import re\n",
    "def get_engsentences2():\n",
    "    word_dict = {} # 重複する単語を削除する為に辞書を使ってみる\n",
    "    with open('text-sample.txt', 'r') as f:\n",
    "        file_str = f.read() #ファイルの中身を文字列に格納\n",
    "    str_list = re.split(r'[^a-zA-Z][^a-zA-Z]*', file_str) # 文字列を単語に区切る\n",
    "    for word in str_list: #`re.split(r'[^a-zA-Z][^a-zA-Z]*', f.read())` は、ファイル全体の文字列を単語に区切ります。\n",
    "        if word != '': #空文字列を除く\n",
    "            word = word.lower() #単語（文字列）の中の大文字を小文字に変換します\n",
    "            word_dict[word] = 'anthing good' #wordという単語があったことを辞書に記録する（wordに対応する値は何でもよい）\n",
    "            #word_dict[word.lower()] = 'anthing good'でも大丈夫\n",
    "    word_list = [] # 結果を格納するリスト\n",
    "    for word in word_dict:\n",
    "        word_list.append(word)\n",
    "    word_list.sort()\n",
    "    return word_list"
   ]
  },
  {
   "cell_type": "code",
   "execution_count": null,
   "metadata": {},
   "outputs": [],
   "source": [
    "import re\n",
    "def check_ACGTstr(str1):\n",
    "    reg_ACGT = '(A|C|G|T)+' # A,C,G,Tを表す正規表現  # +→* だと空文字列がマッチしてしまう \n",
    "    #reg_ACGT = '(A|C|G|T)(A|C|G|T)*' # A,C,G,Tを表す正規表現 \n",
    "    #reg_ACGT = '[ACGT]+' # A,C,G,Tを表す正規表現 \n",
    "    match1 = re.search(reg_ACGT, str1, re.I) # re.I を入れて、大文字と小文字を区別しない\n",
    "    if match1 != None and str1 == match1.group(): # str1全体とマッチした文字列が等しいかチェック\n",
    "        return True\n",
    "    return False\n",
    "#別解\n",
    "#def check_ACGTstr(str1):\n",
    "#    reg_ACGT = '(A|C|G|T)+$' # A,C,G,Tを表す正規表現  # +→* だと空文字列がマッチしてしまう \n",
    "#    #reg_ACGT = '(A|C|G|T)(A|C|G|T)*$' # A,C,G,Tを表す正規表現 \n",
    "#    #reg_ACGT = '[ACGT]+$' # A,C,G,Tを表す正規表現 \n",
    "#    match1 = re.search(reg_ACGT, str1, re.I) # re.I を入れて、大文字と小文字を区別しない\n",
    "#    if match1 != None: # str1全体とマッチした文字列が等しいかチェック\n",
    "#        return True\n",
    "#    return False"
   ]
  },
  {
   "cell_type": "code",
   "execution_count": null,
   "metadata": {},
   "outputs": [],
   "source": [
    "import re\n",
    "def check_postalcode(str1):\n",
    "    reg1 = '[0-9]{3,3}-[0-9]{4,4}'\n",
    "    #reg1 = '\\d{3,3}-\\d{4,4}' #でも可\n",
    "    #reg1 = '[0-9][0-9][0-9]-[0-9][0-9][0-9][0-9]' #でも可\n",
    "    match1 = re.match(reg1, str1)\n",
    "    if match1 == None:\n",
    "        return False\n",
    "    if match1.group() == str1:\n",
    "        return True\n",
    "    return False\n",
    "#別解\n",
    "#def check_postalcode(str1):\n",
    "#    reg1 = '[0-9]{3,3}-[0-9]{4,4}$' #ドル記号を使って行末からマッチを調べる\n",
    "#    #reg1 = '\\d{3,3}-\\d{4,4}$' #でも可\n",
    "#    #reg1 = '[0-9][0-9][0-9]-[0-9][0-9][0-9][0-9]$' #でも可\n",
    "#    match1 = re.match(reg1, str1)\n",
    "#    if match1 == None:\n",
    "#        return False\n",
    "#    return True"
   ]
  },
  {
   "cell_type": "code",
   "execution_count": null,
   "metadata": {},
   "outputs": [],
   "source": [
    "import re\n",
    "def check_extension(str1):\n",
    "    reg1 = '2[0-9]{4,4}'\n",
    "#    reg1 = '2\\d{4,4}' #でも可\n",
    "#    reg1 = '2[0-9][0-9][0-9][0-9]' #でも可\n",
    "    match1 = re.match(reg1, str1)\n",
    "    if match1 == None:\n",
    "        return False\n",
    "    if match1.group() == str1:\n",
    "        return True\n",
    "    return False\n",
    "#別解\n",
    "#def check_extension(str1):\n",
    "#    reg1 = '2[0-9]{4,4}$'\n",
    "#    #reg1 = '2\\d{4,4}$' #でも可\n",
    "#    #reg1 = '2[0-9][0-9][0-9][0-9]$' #でも可\n",
    "#    match1 = re.match(reg1, str1)\n",
    "#    if match1 == None:\n",
    "#        return False\n",
    "#    return True   "
   ]
  },
  {
   "cell_type": "code",
   "execution_count": null,
   "metadata": {},
   "outputs": [],
   "source": [
    "import re\n",
    "def get_pos():\n",
    "    str_file = 'B1S.xml'\n",
    "    with open(str_file, 'r', encoding='utf-8') as f:\n",
    "        str_script = f.read() # ファイルの中身を1つの文字列に格納する\n",
    "    #print(str_script)\n",
    "    itr1 = re.finditer(\"<w[^>]*pos=\\\"([^>\\\"]*)\\\"[^>]*>([^<]*)</w>\", str_script) # 正規表現を使ってwタグ周辺の文字列をマッチ\n",
    "    dic1 = {} # 辞書初期化\n",
    "    for m1 in itr1:\n",
    "        #print(m1)\n",
    "        #print(m1.group(1), m1.group(2))\n",
    "        dic1[m1.group(2)] = m1.group(1) # groupを使ってマッチした文字列をキャプチャする\n",
    "    return dic1"
   ]
  }
 ],
 "metadata": {
  "kernelspec": {
   "display_name": "Python 3",
   "language": "python",
   "name": "python3"
  },
  "language_info": {
   "name": "python"
  }
 },
 "nbformat": 4,
 "nbformat_minor": 2
}
