{
 "cells": [
  {
   "cell_type": "markdown",
   "metadata": {},
   "source": [
    "# ▲Jupyter Notebook の使い方\n",
    "\n",
    "Jupyter Notebook について説明します。\n",
    "\n",
    "参考\n",
    "\n",
    "- https://jupyter.readthedocs.io/en/latest/\n",
    "\n",
    "教材等の既存のノートブックは、\n",
    "ディレクトリのページで選択することによって開くことができます。\n",
    "ノートブックには `ipynb` という拡張子（エクステンション）が付きます。\n",
    "\n",
    "ノートブックを新たに作成するには、ディレクトリが表示されているページで、\n",
    "`New` のメニューで `Python3` を選択してください。\n",
    "`Untitled`（`1` などが付くことあり）というノートブックが作られます。\n",
    "タイトルをクリックして変更することができます。\n",
    "\n",
    "ノートブックの上方には、`File` や `Edit` などのメニュー、\n",
    "`↓` や `↑` や `■` などのアイコンが表示されています。\n",
    "\n",
    "右上に `Python 3` と表示されていることに注意してください。\n",
    "\n",
    "Ctrl+s（Macの場合は Cmd+s）を入力することによって、\n",
    "ノートブックをファイルにセーブできます。\n",
    "オートセーブもされますが、適当なタイミングでセーブしましょう。\n",
    "\n",
    "ノートブックはセルから成り立っています。"
   ]
  },
  {
   "cell_type": "markdown",
   "metadata": {},
   "source": [
    "## セル\n",
    "主に次の二種類のセルを使います。\n",
    "\n",
    "* Code：\n",
    "Pythonのコードが書かれたセルです。\n",
    "Codeセルの横には `In [ ]:` と表示されています。\n",
    "コードを実行するには、Shift+Enter（または Return）を押します。\n",
    "このセルの次のセルはCodeセルです。Shift+Enterを押してみてください。\n",
    "* Markdown：\n",
    "説明が書かれたセルです。\n",
    "このセル自身はMarkdownセルです。\n",
    "\n",
    "セルの種類はノートブックの上のメニューで変更できます。"
   ]
  },
  {
   "cell_type": "code",
   "execution_count": null,
   "metadata": {},
   "outputs": [],
   "source": []
  },
  {
   "cell_type": "markdown",
   "metadata": {},
   "source": [
    "## コマンドモード\n",
    "セルを選択するとコマンドモードになります。\n",
    "ただし、Codeセルを選択したとき、\n",
    "マウスカーソルが入力フィールドに入っていると、\n",
    "編集モードになってしまいます。\n",
    "\n",
    "コマンドモードでは、セルの左の線が青色になります。\n",
    "\n",
    "コマンドモードで Enter を入力すると、編集モードになります。\n",
    "Markdownのセルでは、ダブルクリックでも編集モードになります。\n",
    "\n",
    "コマンドモードでは、一文字コマンドが有効なので注意してください。\n",
    "\n",
    "* a: 上にセルを挿入 (above)\n",
    "* b: 下にセルを挿入 (below)\n",
    "* x: セルを削除（そのセルが削除されてしまいますので注意！）\n",
    "* l: セルの行に番号を振るか振らないかをスイッチ\n",
    "\n",
    "* s または Ctrl+s: ノートブックをセーブ (checkpoint)\n",
    "* Enter: 編集モードに移行\n",
    "* Shift+Enter: セルを実行して次のセルに"
   ]
  },
  {
   "cell_type": "markdown",
   "metadata": {},
   "source": [
    "## 編集モード\n",
    "編集モードでは文字カーソルが表示されて、セルの編集が可能です。\n",
    "Ctrl の付かない文字はそのまま挿入されます。\n",
    "\n",
    "編集モードでは、セルの左の線が緑色になります。\n",
    "\n",
    "編集モードでは、以下のような編集コマンドが使えます。\n",
    "\n",
    "* Ctrl+c: copy\n",
    "* Ctrl+x: cut\n",
    "* Ctrl+v: paste\n",
    "* Ctrl+z: undo\n",
    "* …\n",
    "\n",
    "Codeセルでは、編集モードでも Shift+Enter を入力すると、\n",
    "セルの中のコードが実行されて、次のセルに移動します。\n",
    "Markdownセルはフォーマットされて、次のセルに移動します。\n",
    "次のセルではコマンドモードになっています。\n",
    "\n",
    "Esc でコマンドモードになります。\n",
    "\n",
    "Ctrl+s でノートブックをセーブ (checkpoint)。\n",
    "これはコマンドモードの場合と同じです。"
   ]
  },
  {
   "cell_type": "markdown",
   "metadata": {},
   "source": [
    "## 練習\n",
    "次のセルを編集モードにして `10/3` と入力して実行してください。"
   ]
  },
  {
   "cell_type": "code",
   "execution_count": null,
   "metadata": {},
   "outputs": [],
   "source": []
  },
  {
   "cell_type": "markdown",
   "metadata": {},
   "source": [
    "## （注意）Shift-Enterに反応がなくなったとき\n",
    "CodeセルでShift-Enterをしても反応がないとき、\n",
    "特にセルの左の部分が\n",
    "```Python\n",
    "\tIn [*]:\n",
    "```\n",
    "\n",
    "となったままで、\\* が数に置き換わらないとき、\n",
    "`■` のアイコンを押して、 kernel（Pythonのインタープリタ）を停止させてください。\n",
    "\n",
    "それでも反応がないときは、右回りの矢印のアイコンを押して、\n",
    "kernel（Pythonのインタープリタ）を起動し直してください。\n",
    "\n",
    "たとえば、次のような例です。`■` のアイコンを押してください。"
   ]
  },
  {
   "cell_type": "code",
   "execution_count": null,
   "metadata": {},
   "outputs": [],
   "source": [
    "while True:\n",
    "    pass"
   ]
  },
  {
   "cell_type": "code",
   "execution_count": null,
   "metadata": {},
   "outputs": [],
   "source": []
  }
 ],
 "metadata": {
  "kernelspec": {
   "display_name": "Python 3",
   "language": "python",
   "name": "python3"
  },
  "language_info": {
   "name": "python"
  },
  "nbsphinx": {
   "execute": "never"
  }
 },
 "nbformat": 4,
 "nbformat_minor": 2
}
