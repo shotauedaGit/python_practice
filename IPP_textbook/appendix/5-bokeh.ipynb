{
 "cells": [
  {
   "cell_type": "markdown",
   "metadata": {},
   "source": [
    "# ▲Bokehライブラリ\n",
    "Bokehライブラリについて説明します。\n",
    "\n",
    "参考\n",
    "\n",
    "* https://bokeh.pydata.org/\n",
    "\n",
    "[Bokeh](https://bokeh.pydata.org/)は、データを可視化するためのライブラリです。\n",
    "**`bokeh`** モジュールを使った、基本的なグラフの描画について説明します。"
   ]
  },
  {
   "cell_type": "markdown",
   "metadata": {},
   "source": [
    "## 線グラフ\n",
    "Bokehライブラリ使用してグラフを描画するには、**`bokeh.plotting`** のモジュールをインポートします。\n",
    "基本的なグラフの描画をノートブック上で行うには、図形を生成する **`bokeh.plotting.figure()`**、図形を表示する **`bokeh.plotting.show()`**、出力先をノートブック上に設定する **`bokeh.plotting.output_notebook()`** があれば充分です。\n",
    "通例、`output_notebook()` は最初に呼び出されます。\n",
    "\n",
    "グラフで可視化するデータは配列を用いることが多いため、`numpy` モジュールも併せてインポートします。"
   ]
  },
  {
   "cell_type": "code",
   "execution_count": null,
   "metadata": {},
   "outputs": [],
   "source": [
    "import numpy as np\n",
    "from bokeh.plotting import figure, output_notebook, show\n",
    "output_notebook()"
   ]
  },
  {
   "cell_type": "markdown",
   "metadata": {},
   "source": [
    "次は、`figure()` が返す `Figure` クラスの **`line()`** メソッドを使って、リストの要素の数値をy軸の値としてグラフを描画しています。\n",
    "y軸の値に対応するx軸の値は、リストの各要素のインデックスとしています。"
   ]
  },
  {
   "cell_type": "code",
   "execution_count": null,
   "metadata": {},
   "outputs": [],
   "source": [
    "# プロットするデータ\n",
    "d = [0, 1, 4, 9, 16]\n",
    "p = figure()\n",
    "p.line(range(len(d)), d) # 第1引数がx軸、第2引数がy軸\n",
    "show(p)"
   ]
  },
  {
   "cell_type": "markdown",
   "metadata": {},
   "source": [
    "`line()` メソッド（及び他の描画用メソッド）では、キーワード引数も使えます。"
   ]
  },
  {
   "cell_type": "code",
   "execution_count": null,
   "metadata": {},
   "outputs": [],
   "source": [
    "p = figure()\n",
    "p.line(y=d, x=range(len(d)))\n",
    "show(p)"
   ]
  },
  {
   "cell_type": "markdown",
   "metadata": {},
   "source": [
    "次に示すように、複数のグラフをまとめてプロットして表示することもできます。\n",
    "プロットするメソッドではグラフの線の色や線の種類を、`line_color` 引数や `line_dash` 引数で指定できます。\n",
    "また、`legend_label` 引数に値を設定すると、プロットしたグラフが凡例に現れます。\n",
    "引数の詳細は[Figure.line](https://bokeh.pydata.org/en/latest/docs/reference/plotting.html#bokeh.plotting.figure.Figure.line)のページ（英語）を参照してください。"
   ]
  },
  {
   "cell_type": "code",
   "execution_count": null,
   "metadata": {},
   "outputs": [],
   "source": [
    "data = [0, 1, 4, 9, 16]\n",
    "x = range(len(data))\n",
    "p = figure()\n",
    "p.line(x, x, line_color='blue', legend_label='linear', line_dash='dashed')\n",
    "p.line(x, data, line_color='green', legend_label='quad', line_dash='dotted')\n",
    "show(p)"
   ]
  },
  {
   "cell_type": "markdown",
   "metadata": {},
   "source": [
    "`figure()` 関数の引数に、軸のラベルや、グラフのタイトルを設定できます。\n",
    "プロット点を線グラフ上に重ねたいときには、**`circle()`** メソッドや **`cross()`** メソッドで同色の円や十字を追加で描けばよいです。"
   ]
  },
  {
   "cell_type": "code",
   "execution_count": null,
   "metadata": {},
   "outputs": [],
   "source": [
    "p = figure(x_axis_label='x', y_axis_label='y', title='Linear vs. Quadratic')\n",
    "p.line(x, x, line_color='blue', legend_label='linear', line_dash='dashed')\n",
    "p.circle(x, x, color='blue', line_width=5)\n",
    "p.line(x, data, line_color='green', legend_label='quad', line_dash='dotted')\n",
    "p.cross(x, data, color='green', size=16)\n",
    "show(p)"
   ]
  },
  {
   "cell_type": "markdown",
   "metadata": {},
   "source": [
    "色の使い分けを全て自分で決めるのは面倒です。\n",
    "良く使われる色のリストがパレットとして、提供されています。\n",
    "次は、`d3` の `Category10` という種類の3色パレットを用いています。\n",
    "詳細は、[palette](https://bokeh.pydata.org/en/latest/docs/reference/palettes.html)のページを参照してください。"
   ]
  },
  {
   "cell_type": "code",
   "execution_count": null,
   "metadata": {},
   "outputs": [],
   "source": [
    "from bokeh.palettes import d3\n",
    "c = d3['Category10'][3]\n",
    "p = figure(x_axis_label='x', y_axis_label='y', title='Linear vs. Quadratic')\n",
    "p.line(x, x, line_color=c[0], legend_label='linear', line_dash='dashed')\n",
    "p.circle(x, x, color=c[0], line_width=5)\n",
    "p.line(x, data, line_color=c[1], legend_label='quad', line_dash='dotted')\n",
    "p.cross(x, data, color=c[1], size=16)\n",
    "show(p)"
   ]
  },
  {
   "cell_type": "markdown",
   "metadata": {},
   "source": [
    "グラフを描画するときのプロット数を増やすことで任意の曲線のグラフを作成することもできます。\n",
    "次の例では、`numpy` モジュールの `arange()` 関数を用いて、$- \\pi$ から $\\pi$ の範囲を `0.1` 刻みでx軸の値を配列として準備しています。\n",
    "そのx軸の値に対して、`numpy` モジュールの `cos()` 関数と `sin()` 関数を用いて、y軸の値をそれぞれ準備し、cosカーブとsinカーブを描画しています。"
   ]
  },
  {
   "cell_type": "code",
   "execution_count": null,
   "metadata": {},
   "outputs": [],
   "source": [
    "#　グラフのx軸の値となる配列\n",
    "x = np.arange(-np.pi, np.pi, 0.1)\n",
    "\n",
    "# 上記配列をcos, sin関数に渡し, y軸の値として描画\n",
    "p = figure(title='cos and sin Curves', x_axis_label='x', y_axis_label='y')\n",
    "p.line(x, np.cos(x), line_color=c[0])\n",
    "p.line(x, np.sin(x), line_color=c[1])\n",
    "show(p)"
   ]
  },
  {
   "cell_type": "markdown",
   "metadata": {},
   "source": [
    "プロットの数を少なくすると、曲線は直線をつなぎ合わせることで描画されていることがわかります。"
   ]
  },
  {
   "cell_type": "code",
   "execution_count": null,
   "metadata": {},
   "outputs": [],
   "source": [
    "x = np.arange(-np.pi, np.pi, 0.5)\n",
    "p = figure(title='cos and sin Curves', x_axis_label='x', y_axis_label='y')\n",
    "p.line(x, np.cos(x), line_color=c[0])\n",
    "p.line(x, np.sin(x), line_color=c[1])\n",
    "show(p)"
   ]
  },
  {
   "cell_type": "markdown",
   "metadata": {},
   "source": [
    "### グラフの例：ソートアルゴリズムにおける比較回数"
   ]
  },
  {
   "cell_type": "code",
   "execution_count": null,
   "metadata": {},
   "outputs": [],
   "source": [
    "import random\n",
    "\n",
    "def bubble_sort(lst):\n",
    "    n = 0\n",
    "    for j in range(len(lst) - 1):\n",
    "        for i in range(len(lst) - 1 - j):\n",
    "            n = n + 1\n",
    "            if lst[i] > lst[i+1]:\n",
    "                lst[i + 1], lst[i] = lst[i], lst[i+1]\n",
    "    return n\n",
    "\n",
    "def merge_sort_rec(data, l, r, work):\n",
    "    if l+1 >= r: \n",
    "        return 0\n",
    "    m = l+(r-l)//2\n",
    "    n1 = merge_sort_rec(data, l, m, work)\n",
    "    n2 = merge_sort_rec(data, m, r, work)\n",
    "    n = 0\n",
    "    i1 = l\n",
    "    i2 = m\n",
    "    for i in range(l, r):\n",
    "        from1 = False\n",
    "        if i2 >= r:\n",
    "            from1 = True\n",
    "        elif i1 < m:\n",
    "            n = n + 1\n",
    "            if data[i1] <= data[i2]:\n",
    "                from1 = True\n",
    "        if from1:\n",
    "            work[i] = data[i1]\n",
    "            i1 = i1 + 1\n",
    "        else:\n",
    "            work[i] = data[i2]\n",
    "            i2 = i2 + 1\n",
    "    for i in range(l, r):\n",
    "        data[i] = work[i]\n",
    "    return n1+n2+n\n",
    "\n",
    "def merge_sort(data):\n",
    "    return merge_sort_rec(data, 0, len(data), [0]*len(data))"
   ]
  },
  {
   "cell_type": "code",
   "execution_count": null,
   "metadata": {},
   "outputs": [],
   "source": [
    "x = np.arange(100, 1100, 100)\n",
    "bdata = np.array([bubble_sort([random.randint(1,10000) for i in range(k)]) for k in x])\n",
    "mdata = np.array([merge_sort([random.randint(1,10000) for i in range(k)]) for k in x])"
   ]
  },
  {
   "cell_type": "code",
   "execution_count": null,
   "metadata": {},
   "outputs": [],
   "source": [
    "p = figure(title='bubble sort vs. merge sort', x_axis_label='number of items', y_axis_label='number of comparisons')\n",
    "p.line(x, bdata, line_color=c[0])\n",
    "p.circle(x, bdata, color=c[0], line_width=5)\n",
    "p.line(x, mdata, line_color=c[1])\n",
    "p.circle(x, mdata, color=c[1], line_width=5)\n",
    "show(p)"
   ]
  },
  {
   "cell_type": "markdown",
   "metadata": {},
   "source": [
    "## 散布図\n",
    "\n",
    "散布図の描画には、点のプロットを `marker` 引数で指定できる **`scatter()`** メソッドが便利です。\n",
    "以下では、ランダムに生成した20個の要素からなる配列 `x`、`y` の各要素の値の組みを点としてプロットした散布図を表示します。\n",
    "プロットする点のマーカは円とし、`size` 引数で大きさを、`alpha` 引数で透明度を設定しています。"
   ]
  },
  {
   "cell_type": "code",
   "execution_count": null,
   "metadata": {},
   "outputs": [],
   "source": [
    "#　グラフのx軸の値となる配列\n",
    "x = np.random.rand(20)\n",
    "#　グラフのy軸の値となる配列\n",
    "y = np.random.rand(20)\n",
    "\n",
    "p = figure()\n",
    "p.scatter(x, y, marker='circle', size=16, alpha=0.5)\n",
    "show(p)"
   ]
  },
  {
   "cell_type": "markdown",
   "metadata": {},
   "source": [
    "これと同じグラフは、単に `circle()` メソッドでプロットをすることでも描画できます。"
   ]
  },
  {
   "cell_type": "code",
   "execution_count": null,
   "metadata": {},
   "outputs": [],
   "source": [
    "p = figure()\n",
    "p.circle(x, y, size=16, alpha=0.5)\n",
    "show(p)"
   ]
  },
  {
   "cell_type": "markdown",
   "metadata": {},
   "source": [
    "## 棒グラフ\n",
    "\n",
    "棒グラフは、**`vbar()`** メソッドを用いて描画できます。\n",
    "次の例では、ランダムに生成した10個の要素からなる配列 `y` の各要素の値を縦の棒グラフで表示しています。\n",
    "`x` は、x軸上で棒グラフのバーの並ぶ位置を示しています。\n",
    "ここでは、`numpy` モジュールの `arange()` 関数を用いて、`1` から `10` の範囲を `1` 刻みでx軸上のバーの並ぶ位置として配列を準備しています。"
   ]
  },
  {
   "cell_type": "code",
   "execution_count": null,
   "metadata": {},
   "outputs": [],
   "source": [
    "# x軸上で棒の並ぶ位置となる配列\n",
    "x = np.arange(1, 11, 1)\n",
    "#　グラフのy軸の値となる配列\n",
    "y = np.random.rand(10)\n",
    "\n",
    "p = figure()\n",
    "p.vbar(x, 0.5, y) # 第2引数は幅\n",
    "show(p)"
   ]
  },
  {
   "cell_type": "markdown",
   "metadata": {},
   "source": [
    "## ヒストグラム\n",
    "\n",
    "ヒストグラムの描画には、**`quad()`** メソッドが便利です。\n",
    "次の例では、`numpy.random.randn()` 関数を用いて、正規分布に基づく 1000 個の数値の要素からなる配列を用意し、**`numpy.histogram()`** 関数を使って20個のビンに分類したヒストグラムを計算しています。\n",
    "その計算結果を、`quad()` メソッドを使って、描画しています。\n",
    "ビンの境界を見やすくするように、`line_color` と `fill_color`（デフォルト色）を別の色にしています。"
   ]
  },
  {
   "cell_type": "code",
   "execution_count": null,
   "metadata": {},
   "outputs": [],
   "source": [
    "# 正規分布に基づく1000個の数値の要素からなる配列 \n",
    "d = np.random.randn(1000)\n",
    "# numpy.histogramで20のビンに分割\n",
    "hist, bin_edges = np.histogram(d, 20)\n",
    "p = figure()\n",
    "p.quad(top=hist, bottom=0, left=bin_edges[:-1], right=bin_edges[1:], line_color='white', alpha=0.5)\n",
    "show(p)"
   ]
  },
  {
   "cell_type": "markdown",
   "metadata": {},
   "source": [
    "## ヒートマップ\n",
    "\n",
    "最後に、複雑な応用例として、ヒートマップの描画方法を示します。\n",
    "次の例は、10x10 のマスに `0.0` 以上 `1.0` 未満の乱数の温度を割り当て、その値に応じた色で塗ったヒートマップです。\n",
    "ここでは、これまでと違って、x軸、y軸、温度の3つの値が必要になります。\n",
    "そこで、**`bokeh.models.ColumnDataSource`** 型を用いて、その3つ組を、`'x'`・`'y'`・`'T'` の属性を持った表データを構築しています。\n",
    "この表データの構築には、7-1で説明するpandasも使えます。\n",
    "\n",
    "ヒートマップでは、温度に応じた階調のある色選択が必要です。\n",
    "そこで、色階調と値を対応付ける **`bokeh.models.LinearColorMapper`** 型の `mapper` を準備します。\n",
    "`rect()` メソッドでは、表データの属性を参照して描画しています。\n",
    "色は、表データの値を `mapper` に適用して色に変化させたものを用いることで、温度に応じた色選択を実現しています。\n",
    "最後に、目盛り付きのカラーバーを生成して、右に配置しています。\n"
   ]
  },
  {
   "cell_type": "code",
   "execution_count": null,
   "metadata": {},
   "outputs": [],
   "source": [
    "from bokeh.models import LinearColorMapper, BasicTicker, PrintfTickFormatter, ColorBar, ColumnDataSource\n",
    "from bokeh.transform import transform\n",
    "\n",
    "# 10行10列のランダム要素からなる行列\n",
    "n = 10\n",
    "data = np.random.rand(n*n)\n",
    "src = ColumnDataSource({'x': [yx % n for yx in range(n*n)], 'y': [yx // n for yx in range(n*n)], 'T' : data})\n",
    "\n",
    "colors = ['#75968f', '#a5bab7', '#c9d9d3', '#e2e2e2', '#dfccce', '#ddb7b1', '#cc7878', '#933b41', '#550b1d']\n",
    "mapper = LinearColorMapper(palette=colors, low=data.min(), high=data.max())\n",
    "p = figure()\n",
    "p.rect('x', 'y', 1, 1, source=src, line_color=None, fill_color=transform('T', mapper))\n",
    "color_bar = ColorBar(color_mapper=mapper, location=(0, 0),\n",
    "                     ticker=BasicTicker(desired_num_ticks=len(colors)),\n",
    "                     formatter=PrintfTickFormatter(format='%2.1f'))\n",
    "p.add_layout(color_bar, 'right')\n",
    "show(p)"
   ]
  },
  {
   "cell_type": "markdown",
   "metadata": {},
   "source": [
    "## グラフのファイル出力\n",
    "\n",
    "これまで表示されてきたグラフには画像保存ボタンがあるので、それをクリックすればPNG形式の画像を保存できます。\n",
    "\n",
    "**`bokeh.plotting.output_file()`** を用いると、グラフ単独をHTMLファイルとして保存できるようになります。\n",
    "ただし、既に `output_notebook()` を読んでいる場合、**`bokeh.plotting.reset_output()`** で状態をリセットする必要があります。"
   ]
  },
  {
   "cell_type": "code",
   "execution_count": null,
   "metadata": {},
   "outputs": [],
   "source": [
    "from bokeh.plotting import save, output_file, reset_output\n",
    "x = np.arange(-2*np.pi, 2*np.pi, 0.1)\n",
    "p = figure(title='sin Curves', x_axis_label='x', y_axis_label='y')\n",
    "p.line(x, np.sin(x))\n",
    "\n",
    "reset_output() # output_notebook()の効果を消す\n",
    "output_file('sin.html') # 出力先の設定\n",
    "save(p) # グラフを保存するだけ\n",
    "show(p) # 保存した上でブラウザを開く"
   ]
  },
  {
   "cell_type": "markdown",
   "metadata": {},
   "source": [
    "***注意***：`output_notebook()` を呼んだ状態と `output_file()` を呼んだ状態が重なると、`show()` でエラーが起きます。"
   ]
  },
  {
   "cell_type": "code",
   "execution_count": null,
   "metadata": {},
   "outputs": [],
   "source": []
  }
 ],
 "metadata": {
  "kernelspec": {
   "display_name": "Python 3",
   "language": "python",
   "name": "python3"
  },
  "language_info": {
   "name": "python"
  }
 },
 "nbformat": 4,
 "nbformat_minor": 2
}
