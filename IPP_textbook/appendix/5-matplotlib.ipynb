{
 "cells": [
  {
   "cell_type": "markdown",
   "metadata": {},
   "source": [
    "# ▲Matplotlibライブラリ\n",
    "Matplotlibライブラリについて説明します。\n",
    "\n",
    "参考\n",
    "\n",
    "- https://matplotlib.org/\n",
    "\n",
    "**Matplotlib**ライブラリにはグラフを可視化するためのモジュールが含まれています。以下では、Matplotlibライブラリのモジュールを使った、グラフの基本的な描画について説明します。\n",
    "\n",
    "Matoplotlibライブラリを使用するには、まず `matplotlib` のモジュールをインポートします。ここでは、基本的なグラフを描画するための `matplotlib.pyplot` モジュールをインポートします。慣例として、同モジュールを `plt` と別名をつけてコードの中で使用します。また、グラフで可視化するデータはリストや配列を用いることが多いため、5-3で使用した `numpy` モジュールも併せてインポートします。なお、`%matplotlib inline` はノートブック内でグラフを表示するために必要です。\n",
    "\n",
    "`matplotlib` では、通常 `show()` 関数を呼ぶと描画を行いますが、`inline` 表示指定の場合、`show()` 関数を省略できます。"
   ]
  },
  {
   "cell_type": "code",
   "execution_count": null,
   "metadata": {},
   "outputs": [],
   "source": [
    "import numpy as np\n",
    "import matplotlib.pyplot as plt\n",
    "%matplotlib inline"
   ]
  },
  {
   "cell_type": "markdown",
   "metadata": {},
   "source": [
    "## 線グラフ\n",
    "\n",
    "`pyplot` モジュールの **`plot()`** 関数を用いて、リストの要素の数値をy軸の値として**グラフ**を描画します。y軸の値に対応するx軸の値は、リストの各要素のインデックスとなっています。\n",
    "\n",
    "具体的には、次のようにすることで `リストA` のインデックス `i` に対して、`(i, リストA[i])` の位置に点を打ち、各点を線でつなぎます。\n",
    "\n",
    "---\n",
    "```Python\n",
    "plt.plot(リストA)\n",
    "```\n",
    "---\n",
    "\n",
    "たとえば、次のようになります。"
   ]
  },
  {
   "cell_type": "code",
   "execution_count": null,
   "metadata": {},
   "outputs": [],
   "source": [
    "# plotするデータ\n",
    "d =[0, 1, 4, 9, 16]\n",
    "\n",
    "# plot関数で描画\n",
    "plt.plot(d); \n",
    "# セルの最後に評価されたオブジェクトの出力表示を抑制するために、以下ではセルの最後の行にセミコロン (`;`) をつけています。\n",
    "# 試しにセミコロンを消した場合も試してみてください。"
   ]
  },
  {
   "cell_type": "markdown",
   "metadata": {},
   "source": [
    "`plot()` 関数では、x, y の両方の軸の値を引数に渡すこともできます。\n",
    "\n",
    "具体的には、次のように `リストX` と `リストY` を引数として与えると、各 `i` に対して、 `(リストX[i], リストY[i])` の位置に点を打ち、各点を線でつなぎます。\n",
    "\n",
    "---\n",
    "```Python\n",
    "plt.plot(リストX, リストY)\n",
    "```\n",
    "---\n"
   ]
  },
  {
   "cell_type": "code",
   "execution_count": null,
   "metadata": {},
   "outputs": [],
   "source": [
    "# plotするデータ\n",
    "x =[0, 1, 2, 3, 4]\n",
    "y =[0, 3, 6, 9, 12]\n",
    "\n",
    "# plot関数で描画\n",
    "plt.plot(x,y); "
   ]
  },
  {
   "cell_type": "markdown",
   "metadata": {},
   "source": [
    "リストの代わりに**NumPy**ライブラリの配列を与えても同じ結果が得られます。"
   ]
  },
  {
   "cell_type": "code",
   "execution_count": null,
   "metadata": {},
   "outputs": [],
   "source": [
    "# plotするデータ\n",
    "x =[0, 1, 2, 3, 4]\n",
    "aryx = np.array(x) # リストから配列を作成\n",
    "y =[0, 3, 6, 9, 12]\n",
    "aryy = np.array(y) # リストから配列を作成\n",
    "\n",
    "# plot関数で描画\n",
    "plt.plot(aryx, aryy); "
   ]
  },
  {
   "cell_type": "markdown",
   "metadata": {},
   "source": [
    "以下のようにグラフを複数まとめて表示することもできます。複数のグラフを表示すると、線ごとに異なる色が自動で割り当てられます。"
   ]
  },
  {
   "cell_type": "code",
   "execution_count": null,
   "metadata": {},
   "outputs": [],
   "source": [
    "# plotするデータ\n",
    "data =[0, 1, 4, 9, 16]\n",
    "x =[0, 1, 2, 3, 4]\n",
    "y =[0, 1, 2, 3, 4]\n",
    "# plot関数で描画。\n",
    "plt.plot(x, y)\n",
    "plt.plot(data);"
   ]
  },
  {
   "cell_type": "markdown",
   "metadata": {},
   "source": [
    "`plot()` 関数ではグラフの線の色、形状、データポイントのマーカの種類を、それぞれ以下のように `linestyle`, `color`, `marker` 引数で指定して変更することができます。それぞれの引数で指定可能な値は以下を参照してください。\n",
    "\n",
    "- [linestyle](https://matplotlib.org/api/_as_gen/matplotlib.lines.Line2D.html#matplotlib.lines.Line2D.set_linestyle)\n",
    "- [color](https://matplotlib.org/api/colors_api.html?highlight=color#module-matplotlib.colors)\n",
    "- [marker](https://matplotlib.org/api/markers_api.html#module-matplotlib.markers)"
   ]
  },
  {
   "cell_type": "code",
   "execution_count": null,
   "metadata": {},
   "outputs": [],
   "source": [
    "# plotするデータ\n",
    "data =[0, 1, 4, 9, 16]\n",
    "x =[0, 1, 2, 3, 4]\n",
    "y =[0, 1, 2, 3, 4]\n",
    "\n",
    "# plot関数で描画。線の形状、色、データポイントのマーカ指定\n",
    "plt.plot(x,y, linestyle='--', color='blue', marker='o') \n",
    "plt.plot(data, linestyle=':', color='green', marker='*');"
   ]
  },
  {
   "cell_type": "markdown",
   "metadata": {},
   "source": [
    "`plot()` 関数の `label` 引数にグラフの各線の凡例を文字列として渡し、**`legend()`** 関数を呼ぶことで、グラフ内に凡例を表示できます。`legend()` 関数の `loc` 引数で凡例を表示する位置を指定することができます。引数で指定可能な値は以下を参照してください。\n",
    "\n",
    "- [lengend()関数](https://matplotlib.org/api/_as_gen/matplotlib.pyplot.legend.html#matplotlib.pyplot.legend)"
   ]
  },
  {
   "cell_type": "code",
   "execution_count": null,
   "metadata": {},
   "outputs": [],
   "source": [
    "# plotするデータ\n",
    "data =[0, 1, 4, 9, 16]\n",
    "x =[0, 1, 2, 3, 4]\n",
    "y =[0, 1, 2, 3, 4]\n",
    "\n",
    "# plot関数で描画。線の形状、色、データポイントのマーカ指定\n",
    "plt.plot(x,y, linestyle='--', color='blue', marker='o', label='linear') \n",
    "plt.plot(data, linestyle=':', color='green', marker='*', label='quad')\n",
    "#凡例を表示\n",
    "plt.legend();"
   ]
  },
  {
   "cell_type": "markdown",
   "metadata": {},
   "source": [
    "`pyplot` モジュールでは、以下のようにグラフのタイトルと各軸のラベルを指定して表示することができます。タイトル、x軸のラベル、y軸のラベル、はそれぞれ **`title()`** 関数、**`xlabel()`** 関数、**`ylabel()`** 関数に文字列を渡して指定します。また、**`grid()`** 関数を用いるとグリッドを併せて表示することもできます。グリッドを表示させたい場合は、`grid()` 関数に `True` を渡してください。"
   ]
  },
  {
   "cell_type": "code",
   "execution_count": null,
   "metadata": {},
   "outputs": [],
   "source": [
    "# plotするデータ\n",
    "data =[0, 1, 4, 9, 16]\n",
    "x =[0, 1, 2, 3, 4]\n",
    "y =[0, 1, 2, 3, 4]\n",
    "\n",
    "# plot関数で描画。線の形状、色、データポイントのマーカ、凡例を指定\n",
    "plt.plot(x,y, linestyle='--', color='blue', marker='o', label='linear') \n",
    "plt.plot(data, linestyle=':', color='green', marker='*', label='quad')\n",
    "plt.legend()\n",
    "\n",
    "plt.title('My First Graph') # グラフのタイトル\n",
    "plt.xlabel('x') #x軸のラベル\n",
    "plt.ylabel('y') #y軸のラベル\n",
    "plt.grid(True); #グリッドの表示"
   ]
  },
  {
   "cell_type": "markdown",
   "metadata": {},
   "source": [
    "グラフを描画するときのプロット数を増やすことで任意の曲線のグラフを作成することもできます。以下では、`numpy` モジュールの `arange()` 関数を用いて、$- \\pi$ から $\\pi$ の範囲を `0.1` 刻みでx軸の値を配列として準備しています。そのx軸の値に対して、`numpy` モジュールの `cos()` 関数と `sin()` 関数を用いて、y軸の値をそれぞれ準備し、cosカーブとsinカーブを描画しています。"
   ]
  },
  {
   "cell_type": "code",
   "execution_count": null,
   "metadata": {},
   "outputs": [],
   "source": [
    "#　グラフのx軸の値となる配列\n",
    "x = np.arange(-np.pi, np.pi, 0.1)\n",
    "\n",
    "# 上記配列をcos, sin関数に渡し, y軸の値として描画\n",
    "plt.plot(x,np.cos(x))\n",
    "plt.plot(x,np.sin(x))\n",
    "\n",
    "plt.title('cos ans sin Curves')  # グラフのタイトル\n",
    "plt.xlabel('x') #x軸のラベル\n",
    "plt.ylabel('y') #y軸のラベル\n",
    "plt.grid(True); #グリッドの表示"
   ]
  },
  {
   "cell_type": "markdown",
   "metadata": {},
   "source": [
    "プロットの数を少なくすると、曲線は直線をつなぎ合わせることで描画されていることがわかります。"
   ]
  },
  {
   "cell_type": "code",
   "execution_count": null,
   "metadata": {},
   "outputs": [],
   "source": [
    "x = np.arange(-np.pi, np.pi, 0.5)\n",
    "plt.plot(x,np.cos(x), marker='o')\n",
    "plt.plot(x,np.sin(x), marker='o')\n",
    "plt.title('cos ans sin Curves')\n",
    "plt.xlabel('x')\n",
    "plt.ylabel('y')\n",
    "plt.grid(True);"
   ]
  },
  {
   "cell_type": "markdown",
   "metadata": {},
   "source": [
    "### グラフの例：ソートアルゴリズムにおける比較回数"
   ]
  },
  {
   "cell_type": "code",
   "execution_count": null,
   "metadata": {},
   "outputs": [],
   "source": [
    "import random\n",
    "\n",
    "def bubble_sort(lst):\n",
    "    n = 0\n",
    "    for j in range(len(lst) - 1):\n",
    "        for i in range(len(lst) - 1 - j):\n",
    "            n = n + 1\n",
    "            if lst[i] > lst[i+1]:\n",
    "                lst[i + 1], lst[i] = lst[i], lst[i+1]\n",
    "    return n\n",
    "\n",
    "def merge_sort_rec(data, l, r, work):\n",
    "    if l+1 >= r: \n",
    "        return 0\n",
    "    m = l+(r-l)//2\n",
    "    n1 = merge_sort_rec(data, l, m, work)\n",
    "    n2 = merge_sort_rec(data, m, r, work)\n",
    "    n = 0\n",
    "    i1 = l\n",
    "    i2 = m\n",
    "    for i in range(l, r):\n",
    "        from1 = False\n",
    "        if i2 >= r:\n",
    "            from1 = True\n",
    "        elif i1 < m:\n",
    "            n = n + 1\n",
    "            if data[i1] <= data[i2]:\n",
    "                from1 = True\n",
    "        if from1:\n",
    "            work[i] = data[i1]\n",
    "            i1 = i1 + 1\n",
    "        else:\n",
    "            work[i] = data[i2]\n",
    "            i2 = i2 + 1\n",
    "    for i in range(l, r):\n",
    "        data[i] = work[i]\n",
    "    return n1+n2+n\n",
    "\n",
    "def merge_sort(data):\n",
    "    return merge_sort_rec(data, 0, len(data), [0]*len(data))"
   ]
  },
  {
   "cell_type": "code",
   "execution_count": null,
   "metadata": {},
   "outputs": [],
   "source": [
    "x = np.arange(100, 1100, 100)\n",
    "bdata = np.array([bubble_sort([random.randint(1,10000) for i in range(k)]) for k in x])\n",
    "mdata = np.array([merge_sort([random.randint(1,10000) for i in range(k)]) for k in x])"
   ]
  },
  {
   "cell_type": "code",
   "execution_count": null,
   "metadata": {},
   "outputs": [],
   "source": [
    "plt.plot(x, bdata, marker='o')\n",
    "plt.plot(x, mdata, marker='o')\n",
    "plt.title('bubble sort vs. merge sort')\n",
    "plt.xlabel('number of items')\n",
    "plt.ylabel('number of comparisons')\n",
    "plt.grid(True);"
   ]
  },
  {
   "cell_type": "markdown",
   "metadata": {},
   "source": [
    "## 練習\n",
    "\n",
    "`-2` から `2` の範囲を `0.1` 刻みでx軸の値を配列として作成し、そのx軸の値に対して `numpy` モジュールの `exp()` 関数を用いてy軸の値を作成し、$y=e^{x}$ のグラフを描画する関数 `plot_exp` を作成してください。ただし、そのグラフに任意のタイトル、x軸、y軸の任意のラベル、任意の凡例、グリッドを表示させてください。"
   ]
  },
  {
   "cell_type": "code",
   "execution_count": null,
   "metadata": {
    "tags": [
     "raises-exception"
    ]
   },
   "outputs": [],
   "source": [
    "import ...\n",
    "...\n",
    "def plot_exp():\n",
    "    ..."
   ]
  },
  {
   "cell_type": "markdown",
   "metadata": {},
   "source": [
    "上のセルで解答を作成した後、以下のセルを実行し、実行結果が全て `True` になることを確認してください。"
   ]
  },
  {
   "cell_type": "code",
   "execution_count": null,
   "metadata": {
    "tags": [
     "raises-exception"
    ]
   },
   "outputs": [],
   "source": [
    "res_x = plot_exp()\n",
    "print(len(res_x) == 41, int(res_x[0]) == -2, int(res_x[9]) == -1)"
   ]
  },
  {
   "cell_type": "markdown",
   "metadata": {},
   "source": [
    "## 練習\n",
    "\n",
    "4-csvで説明したように、`tokyo-temps.csv` には、気象庁のオープンデータからダウンロードした、東京の平均気温のデータが入っています。具体的には、各行の第2列に気温の値が格納されており、47行目に1875年6月の、48行目に1875年7月の、…、53行目に1875年12月の、54行目に1876年1月の、…という風に2017年1月のデータまでが格納されています。\n",
    "\n",
    "そこで、2つの整数 `year` と `month` を引数として取り、 `year` 年以降の `month` 月の平均気温の値をy軸に、年をx軸に描画した線グラフを表示するとともに、描画したx軸とy軸の値をタプルに格納して返す関数 `plot_tokyotemps` を作成してください。 \n",
    "\n",
    "以下のセルの `...` のところを書き換えて解答してください。"
   ]
  },
  {
   "cell_type": "code",
   "execution_count": null,
   "metadata": {
    "tags": [
     "raises-exception"
    ]
   },
   "outputs": [],
   "source": [
    "import ...\n",
    "...\n",
    "def plot_tokyotemps(year, month):\n",
    "    ..."
   ]
  },
  {
   "cell_type": "markdown",
   "metadata": {},
   "source": [
    "上のセルで解答を作成した後、以下のセルを実行し、実行結果が全て `True` になることを確認してください。"
   ]
  },
  {
   "cell_type": "code",
   "execution_count": null,
   "metadata": {
    "tags": [
     "raises-exception"
    ]
   },
   "outputs": [],
   "source": [
    "res_years, res_temps = plot_tokyotemps(1875, 7)\n",
    "print(len(res_years) == 142, len(res_temps) == 142, res_years[0] == 1875, res_temps[0] == 26.0)\n",
    "res_years, res_temps = plot_tokyotemps(1875, 6)\n",
    "print(len(res_years) == 142, len(res_temps) == 142, res_years[0] == 1875, res_temps[0] == 22.3)\n",
    "res_years, res_temps = plot_tokyotemps(1875, 12)\n",
    "print(len(res_years) == 142, len(res_temps) == 142, res_years[0] == 1875, res_temps[0] == 4.6)\n",
    "res_years, res_temps = plot_tokyotemps(1876, 1)\n",
    "print(len(res_years) == 142, len(res_temps) == 142, res_years[0] == 1876, res_temps[0] == 1.6)\n",
    "res_years, res_temps = plot_tokyotemps(1876, 6)\n",
    "print(len(res_years) == 141, len(res_temps) == 141, res_years[0] == 1876, res_temps[0] == 18.5)\n",
    "res_years, res_temps = plot_tokyotemps(1900, 6)\n",
    "print(len(res_years) == 117, len(res_temps) == 117, res_years[0] == 1900, res_temps[0] == 19.3)"
   ]
  },
  {
   "cell_type": "markdown",
   "metadata": {},
   "source": [
    "## 散布図\n",
    "**散布図**は、`pyplot` モジュールの **`scatter()`** 関数を用いて描画できます。\n",
    "\n",
    "\n",
    "具体的には、次のように `リストX` と `リストY` （もしくは、 `配列X` と `配列Y`）を引数として与えると、各 `i` に対して、 `(リストX[i], リストY[i])` の位置に点を打ちます。\n",
    "\n",
    "---\n",
    "```Python\n",
    "plt.scatter(リストX, リストY)\n",
    "```\n",
    "---\n",
    "\n",
    "以下では、ランダムに生成した20個の要素からなる配列 x, y の各要素の値の組を点としてプロットした散布図を表示しています。プロットする点のマーカの色や形状は、線グラフの時と同様に、 `color`, `marker` 引数で指定して変更することができます。加えて、`s`, `alpha` 引数で、それぞれマーカの大きさと透明度を指定することができます。"
   ]
  },
  {
   "cell_type": "code",
   "execution_count": null,
   "metadata": {},
   "outputs": [],
   "source": [
    "#　グラフのx軸の値となる配列\n",
    "x = np.random.rand(20)\n",
    "#　グラフのy軸の値となる配列\n",
    "y = np.random.rand(20)\n",
    "\n",
    "# scatter関数で散布図を描画\n",
    "plt.scatter(x, y, s=100, alpha=0.5);"
   ]
  },
  {
   "cell_type": "markdown",
   "metadata": {},
   "source": [
    "以下のように、`plot()` 関数を用いても同様の散布図を表示することができます。具体的には、3番目の引数にプロットする点のマーカの形状を指定することにより実現します。"
   ]
  },
  {
   "cell_type": "code",
   "execution_count": null,
   "metadata": {},
   "outputs": [],
   "source": [
    "x = np.random.rand(20)\n",
    "y = np.random.rand(20)\n",
    "plt.plot(x, y, '*', color='blue');"
   ]
  },
  {
   "cell_type": "markdown",
   "metadata": {},
   "source": [
    "## 練習\n",
    "\n",
    "`tokyo-temps.csv` には、気象庁のオープンデータからダウンロードした、東京の平均気温のデータが入っています。具体的には、各行の第2列に気温の値が格納されており、47行目に1875年6月の、48行目に1875年7月の、…、53行目に1875年12月の、54行目に1876年1月の、…という風に2017年1月のデータまでが格納されています。\n",
    "\n",
    "そこで、1875年以降の平均気温の値をy軸に、月の値をx軸に描画した散布図を表示するとともに、描画したx軸とy軸の値をタプルに格納して返す関数 `scatter_tokyotemps` を作成してください。 \n",
    "\n",
    "以下のセルの `...` のところを書き換えて解答してください。"
   ]
  },
  {
   "cell_type": "code",
   "execution_count": null,
   "metadata": {
    "tags": [
     "raises-exception"
    ]
   },
   "outputs": [],
   "source": [
    "import ...\n",
    "...\n",
    "def scatter_tokyotemps():\n",
    "    ..."
   ]
  },
  {
   "cell_type": "markdown",
   "metadata": {},
   "source": [
    "上のセルで解答を作成した後、以下のセルを実行し、実行結果が全て `True` になることを確認してください。"
   ]
  },
  {
   "cell_type": "code",
   "execution_count": null,
   "metadata": {
    "tags": [
     "raises-exception"
    ]
   },
   "outputs": [],
   "source": [
    "res_months, res_temps = scatter_tokyotemps()\n",
    "print(len(res_months) == 1700, len(res_temps) == 1700, res_months[0] == 6, res_months[1] == 7, res_months[12] == 6, res_months[13] == 7)\n",
    "print(res_temps[0] == 22.3, res_temps[1] == 26.0, res_temps[12] == 18.5, res_temps[13] == 24.3)"
   ]
  },
  {
   "cell_type": "markdown",
   "metadata": {},
   "source": [
    "## 棒グラフ\n",
    "**棒グラフ**は、`pyplot` モジュールの **`bar()`** 関数を用いて描画できます。以下では、ランダムに生成した10個の要素からなる配列 `y` の各要素の値を縦の棒グラフで表示しています。`x` は、x軸上で棒グラフのバーの並ぶ位置を示しています。ここでは、`numpy` モジュールの `arange()` 関数を用いて、`1` から `10` の範囲を `1` 刻みでx軸上のバーの並ぶ位置として配列を準備しています。"
   ]
  },
  {
   "cell_type": "code",
   "execution_count": null,
   "metadata": {},
   "outputs": [],
   "source": [
    "# x軸上で棒の並ぶ位置となる配列\n",
    "x = np.arange(1, 11, 1)\n",
    "#　グラフのy軸の値となる配列\n",
    "y = np.random.rand(10)\n",
    "\n",
    "# bar関数で棒グラフを描画\n",
    "#print(x, y)\n",
    "plt.bar(x,y);"
   ]
  },
  {
   "cell_type": "markdown",
   "metadata": {},
   "source": [
    "## 練習\n",
    "\n",
    "`tokyo-temps.csv` には、気象庁のオープンデータからダウンロードした、東京の平均気温のデータが入っています。具体的には、各行の第2列に気温の値が格納されており、47行目に1875年6月の、48行目に1875年7月の、…、53行目に1875年12月の、54行目に1876年1月の、…という風に2017年1月のデータまでが格納されています。\n",
    "\n",
    "そこで、4つの引数 `year1`, `month1`, `year2`, `month2` を引数に取り、 `year1` 年 `month1` 月から `year2` 年 `month2` 月までの各月の平均気温の値をy軸に、年月の値（`tokyo-temps.csv` の1列目の値）をx軸に描画した棒グラフを表示するとともに、描画したx軸とy軸の値をタプルに格納して返す関数 `bar_tokyotemps` を作成してください。 \n",
    "\n",
    "以下のセルの `...` のところを書き換えて解答してください。"
   ]
  },
  {
   "cell_type": "code",
   "execution_count": null,
   "metadata": {
    "tags": [
     "raises-exception"
    ]
   },
   "outputs": [],
   "source": [
    "import ...\n",
    "...\n",
    "def bar_tokyotemps(year1, month1, year2, month2):\n",
    "    ..."
   ]
  },
  {
   "cell_type": "markdown",
   "metadata": {},
   "source": [
    "上のセルで解答を作成した後、以下のセルを実行し、実行結果が全て `True` になることを確認してください。"
   ]
  },
  {
   "cell_type": "code",
   "execution_count": null,
   "metadata": {
    "tags": [
     "raises-exception"
    ]
   },
   "outputs": [],
   "source": [
    "res_months, res_temps = bar_tokyotemps(2000, 6, 2001, 6)\n",
    "print(len(res_months) == 13, res_months[0] == '2000/6', res_temps[0] == 22.5, res_months[12] == '2001/6', res_temps[12] == 23.1)"
   ]
  },
  {
   "cell_type": "markdown",
   "metadata": {},
   "source": [
    "## ヒストグラム\n",
    "\n",
    "**ヒストグラム**は、`pyplot` モジュールの **`hist()`** 関数を用いて描画できます。\n",
    "以下では、`numpy` モジュールの `random.randn()` 関数を用いて、正規分布に基づく1000個の数値の要素からなる配列を用意し、ヒストグラムとして表示しています。\n",
    "`hist()` 関数の `bins` 引数でヒストグラムの箱（ビン）の数を指定します。"
   ]
  },
  {
   "cell_type": "code",
   "execution_count": null,
   "metadata": {},
   "outputs": [],
   "source": [
    "# 正規分布に基づく1000個の数値の要素からなる配列 \n",
    "d = np.random.randn(1000)\n",
    "\n",
    "# hist関数でヒストグラムを描画\n",
    "plt.hist(d, bins=20);"
   ]
  },
  {
   "cell_type": "markdown",
   "metadata": {},
   "source": [
    "## 練習\n",
    "\n",
    "`tokyo-temps.csv` には、気象庁のオープンデータからダウンロードした、東京の平均気温のデータが入っています。具体的には、各行の第2列に気温の値が格納されており、47行目に1875年6月の、48行目に1875年7月の、…、53行目に1875年12月の、54行目に1876年1月の、…という風に2017年1月のデータまでが格納されています。\n",
    "\n",
    "そこで、5つの引数 `year1`, `month1`, `year2`, `month2`, `mybin` を引数に取り、 `year1` 年 `month1` 月から `year2` 年 `month2` 月までの各月の平均気温の値を格納したリスト `temps` から `mybin` 個のヒストグラムを表示するとともに、 `temps` を返す関数 `hist_tokyotemps` を作成してください。 \n",
    "\n",
    "以下のセルの `...` のところを書き換えて解答してください。"
   ]
  },
  {
   "cell_type": "code",
   "execution_count": null,
   "metadata": {
    "tags": [
     "raises-exception"
    ]
   },
   "outputs": [],
   "source": [
    "import ...\n",
    "...\n",
    "def hist_tokyotemps(year1, month1, year2, month2, mybin):\n",
    "    ..."
   ]
  },
  {
   "cell_type": "markdown",
   "metadata": {},
   "source": [
    "上のセルで解答を作成した後、以下のセルを実行し、実行結果が全て `True` になることを確認してください。"
   ]
  },
  {
   "cell_type": "code",
   "execution_count": null,
   "metadata": {
    "tags": [
     "raises-exception"
    ]
   },
   "outputs": [],
   "source": [
    "res_temps = hist_tokyotemps(1875, 6, 2000, 6, 50)\n",
    "print(len(res_temps) == 1501, res_temps[0] == 22.3, res_temps[1500] == 22.5)"
   ]
  },
  {
   "cell_type": "markdown",
   "metadata": {},
   "source": [
    "## ヒートマップ\n",
    "`impshow()` 関数を用いると、以下のように行列の要素の値に応じて色の濃淡を変えることで、行列を**ヒートマップ**として可視化することができます。`colorbar()` 関数は行列の値と色の濃淡の対応を表示します。"
   ]
  },
  {
   "cell_type": "code",
   "execution_count": null,
   "metadata": {},
   "outputs": [],
   "source": [
    "# 10行10列のランダム要素からなる行列\n",
    "ary1 = np.random.rand(100)\n",
    "ary2 = ary1.reshape(10,10)\n",
    "#ary2 = np.random.rand(100).reshape(10,10) #と同じ\n",
    "\n",
    "# imshow関数でヒートマップを描画\n",
    "im=plt.imshow(ary2)\n",
    "plt.colorbar(im);"
   ]
  },
  {
   "cell_type": "markdown",
   "metadata": {},
   "source": [
    "## 練習\n",
    "\n",
    "`tokyo-temps.csv` には、気象庁のオープンデータからダウンロードした、東京の平均気温のデータが入っています。具体的には、各行の第2列に気温の値が格納されており、47行目に1875年6月の、48行目に1875年7月の、…、53行目に1875年12月の、54行目に1876年1月の、…という風に2017年1月のデータまでが格納されています。\n",
    "\n",
    "そこで、30×12のNumPyの配列 `ary1` を作成し、各月の平均気温を整数に丸めた値を求めて、月ごとにその値の数を数えて配列 `ary1` に格納して、 `ary1` からなるヒートマップを表示しつつ、 `ary1` を返す関数 `heat_tokyotemps` を作成してください。 ただし、厳密には `x` が `0` 以上 `11` 以下の任意の整数とし、`y` を `0` 以上 `29` 以下の整数とするとき、 `ary1[y][x]` には、 `y` ℃以上、 `y+1` ℃より小さい平均気温を持つ `x+1` 月の数が格納されているものとします。\n",
    "\n",
    "以下のセルの `...` のところを書き換えて解答してください。"
   ]
  },
  {
   "cell_type": "code",
   "execution_count": null,
   "metadata": {
    "tags": [
     "raises-exception"
    ]
   },
   "outputs": [],
   "source": [
    "import ...\n",
    "...\n",
    "def heat_tokyotemps():\n",
    "    ..."
   ]
  },
  {
   "cell_type": "markdown",
   "metadata": {},
   "source": [
    "上のセルで解答を作成した後、以下のセルを実行し、実行結果が全て `True` になることを確認してください。"
   ]
  },
  {
   "cell_type": "code",
   "execution_count": null,
   "metadata": {
    "tags": [
     "raises-exception"
    ]
   },
   "outputs": [],
   "source": [
    "ary1 = heat_tokyotemps()\n",
    "print(ary1[0][0] == 2, ary1[1][1] == 2, ary1[2][0] == 28)\n",
    "#画像の向きが気になる人は、以下の2行を同時に実行してみてください\n",
    "#ary1 = np.flip(ary1, axis=0) \n",
    "#im=plt.imshow(ary1)"
   ]
  },
  {
   "cell_type": "markdown",
   "metadata": {},
   "source": [
    "## グラフの画像ファイル出力\n",
    "**`savefig()`** 関数を用いると、以下のように作成したグラフを画像としてファイルに保存することができます。"
   ]
  },
  {
   "cell_type": "code",
   "execution_count": null,
   "metadata": {},
   "outputs": [],
   "source": [
    "x = np.arange(-np.pi, np.pi, 0.1)\n",
    "plt.plot(x,np.cos(x), label='cos')\n",
    "plt.plot(x,np.sin(x), label='sin')\n",
    "plt.legend()\n",
    "plt.title('cos ans sin Curves')  \n",
    "plt.xlabel('x') \n",
    "plt.ylabel('y') \n",
    "plt.grid(True)\n",
    "\n",
    "# savefig関数でグラフを画像保存\n",
    "plt.savefig('cos_sin.png'); "
   ]
  },
  {
   "cell_type": "markdown",
   "metadata": {},
   "source": [
    "## 練習の解答"
   ]
  },
  {
   "cell_type": "code",
   "execution_count": null,
   "metadata": {},
   "outputs": [],
   "source": [
    "import numpy as np\n",
    "import matplotlib.pyplot as plt\n",
    "%matplotlib inline\n",
    "\n",
    "def plot_exp():\n",
    "    x = np.arange(-2, 2.1, 0.1)\n",
    "    y = np.exp(x)\n",
    "    plt.plot(x, y, linestyle='--', color='blue', marker='x', label='exp(x)')\n",
    "    plt.title('y = exp(x)') # タイトル\n",
    "    plt.xlabel('x') # x軸のラベル\n",
    "    plt.ylabel('exp(x)') # y軸のラベル\n",
    "    plt.grid(True); # グリッドを表示\n",
    "    plt.legend() # 盆例を表示\n",
    "    return x"
   ]
  },
  {
   "cell_type": "code",
   "execution_count": null,
   "metadata": {},
   "outputs": [],
   "source": [
    "import numpy as np\n",
    "import matplotlib.pyplot as plt\n",
    "%matplotlib inline\n",
    "import csv\n",
    "\n",
    "def plot_tokyotemps(year, month):\n",
    "    with open('tokyo-temps.csv', 'r', encoding='sjis') as f:\n",
    "        dataReader = csv.reader(f) # csvリーダを作成\n",
    "        n=0\n",
    "        # 1875年6月が47行目なので、指定されたyear年6月のデータの行番号をまず求める\n",
    "        init_row = (year - 1875) * 12 + 47 \n",
    "        # その上で、year年month月のデータの行番号を求める\n",
    "        init_row = init_row + month - 6\n",
    "        years = [] # 年\n",
    "        temps = [] # 平均気温\n",
    "        for row in dataReader: # CSVファイルの中身を1行ずつ読み込み\n",
    "            n = n+1\n",
    "            if n >= init_row and (n - init_row) % 12 == 0: # init_row行目からはじめて12か月ごとにif内を実行\n",
    "                years.append(year)\n",
    "                temp = float(row[1]) # float関数で実数のデータ型に変換する\n",
    "                temps.append(temp)\n",
    "                year = year + 1\n",
    "    #print(years)\n",
    "    #print(temps)\n",
    "    plt.plot(years, temps)\n",
    "    return years, temps"
   ]
  },
  {
   "cell_type": "code",
   "execution_count": null,
   "metadata": {},
   "outputs": [],
   "source": [
    "import numpy as np\n",
    "import matplotlib.pyplot as plt\n",
    "%matplotlib inline\n",
    "import csv\n",
    "\n",
    "def scatter_tokyotemps():\n",
    "    with open('tokyo-temps.csv', 'r', encoding='sjis') as f:\n",
    "        dataReader = csv.reader(f) # csvリーダを作成\n",
    "        n=0\n",
    "        months = [] # 月\n",
    "        temps = [] # 平均気温\n",
    "        month = 6 # 47行目は6月\n",
    "        for row in dataReader: # CSVファイルの中身を1行ずつ読み込み\n",
    "            n = n+1\n",
    "            if n >= 47: # 47行目からif内を実行\n",
    "                months.append(month)\n",
    "                temp = float(row[1]) # float関数で実数のデータ型に変換する\n",
    "                temps.append(temp)\n",
    "                month = month + 1\n",
    "                if month > 12:\n",
    "                    month = 1\n",
    "    #print(months)\n",
    "    #print(temps)\n",
    "    plt.scatter(months, temps, alpha=0.5)\n",
    "    return months, temps"
   ]
  },
  {
   "cell_type": "code",
   "execution_count": null,
   "metadata": {},
   "outputs": [],
   "source": [
    "import numpy as np\n",
    "import matplotlib.pyplot as plt\n",
    "%matplotlib inline\n",
    "import csv\n",
    "\n",
    "def bar_tokyotemps(year1, month1, year2, month2):\n",
    "    with open('tokyo-temps.csv', 'r', encoding='sjis') as f:\n",
    "        dataReader = csv.reader(f) # csvリーダを作成\n",
    "        n=0\n",
    "        months = [] # \n",
    "        temps = [] # 平均気温\n",
    "        init_row = (year1 - 1875) * 12 - 6 + month1 + 47\n",
    "        end_row = (year2 - 1875) * 12 - 6 + month2 + 47\n",
    "        for row in dataReader: # CSVファイルの中身を1行ずつ読み込み\n",
    "            n = n+1\n",
    "            if n >= init_row and n <= end_row: # init_row行目から、end_row行までif内を実行\n",
    "                months.append(row[0])\n",
    "                temp = float(row[1]) # float関数で実数のデータ型に変換する\n",
    "                temps.append(temp)\n",
    "    #print(months)\n",
    "    #print(temps)\n",
    "    plt.bar(months, temps)\n",
    "    return months, temps"
   ]
  },
  {
   "cell_type": "code",
   "execution_count": null,
   "metadata": {},
   "outputs": [],
   "source": [
    "import numpy as np\n",
    "import matplotlib.pyplot as plt\n",
    "%matplotlib inline\n",
    "import csv\n",
    "\n",
    "def hist_tokyotemps(year1, month1, year2, month2, mybin):\n",
    "    with open('tokyo-temps.csv', 'r', encoding='sjis') as f:\n",
    "        dataReader = csv.reader(f) # csvリーダを作成\n",
    "        n=0\n",
    "        months = [] # \n",
    "        temps = [] # 平均気温\n",
    "        init_row = (year1 - 1875) * 12 - 6 + month1 + 47\n",
    "        end_row = (year2 - 1875) * 12 - 6 + month2 + 47\n",
    "        for row in dataReader: # CSVファイルの中身を1行ずつ読み込み\n",
    "            n = n+1\n",
    "            if n >= init_row and n <= end_row: # init_row行目から、end_row行までif内を実行\n",
    "                temp = float(row[1]) # float関数で実数のデータ型に変換する\n",
    "                temps.append(temp)\n",
    "    #print(months)\n",
    "    #print(temps)\n",
    "    plt.hist(temps, bins=mybin)\n",
    "    return temps"
   ]
  },
  {
   "cell_type": "code",
   "execution_count": null,
   "metadata": {},
   "outputs": [],
   "source": [
    "import numpy as np\n",
    "import matplotlib.pyplot as plt\n",
    "%matplotlib inline\n",
    "import csv\n",
    "\n",
    "def heat_tokyotemps():\n",
    "    ary1 = np.zeros(30*12, dtype=int) # 30×12の配列を作成\n",
    "    ary1 = ary1.reshape(30, 12)\n",
    "    with open('tokyo-temps.csv', 'r', encoding='sjis') as f:\n",
    "        dataReader = csv.reader(f) # csvリーダを作成\n",
    "        n=0\n",
    "        month = 6 # 一番最初の月（47行目）は6月\n",
    "        for row in dataReader: # CSVファイルの中身を1行ずつ読み込み\n",
    "            n = n+1\n",
    "            if n >= 47: # 47行目からif内を実行\n",
    "                temp = int(float(row[1])) # まずfloat関数で実数型に変換してから、int関数で整数のデータ型に変換する\n",
    "                ary1[temp][month-1] += 1 # month月の値はmonth-1行目に格納する\n",
    "                month += 1\n",
    "                if month == 13:\n",
    "                    month = 1\n",
    "    im=plt.imshow(ary1)\n",
    "    plt.colorbar(im);\n",
    "    #print(ary1)\n",
    "    return ary1"
   ]
  },
  {
   "cell_type": "code",
   "execution_count": null,
   "metadata": {},
   "outputs": [],
   "source": []
  }
 ],
 "metadata": {
  "kernelspec": {
   "display_name": "Python 3",
   "language": "python",
   "name": "python3"
  },
  "language_info": {
   "name": "python"
  }
 },
 "nbformat": 4,
 "nbformat_minor": 2
}
