{
 "cells": [
  {
   "cell_type": "markdown",
   "metadata": {},
   "source": [
    "# ▲Pythonスクリプトとコマンドライン実行\n",
    "Pythonスクリプトとコマンドライン実行について説明します。\n",
    "\n",
    "参考\n",
    "\n",
    "- https://docs.python.org/ja/3/tutorial/interpreter.html\n",
    "- https://docs.python.org/ja/3/tutorial/modules.html\n",
    "- https://docs.python.org/ja/3/tutorial/appendix.html\n",
    "- https://docs.python.org/ja/3/library/sys.html\n",
    "- https://docs.python.org/ja/3/reference/import.html\n",
    "\n",
    "実は、第4回で紹介したモジュールファイル（拡張子 `.py`）は、それ単独で直接実行可能な自己完結したプログラムです。\n",
    "直接実行されるPythonプログラムコードのことを指して特に、**Pythonスクリプト**と呼びます。\n",
    "モジュールかスクリプトかを区別しないときには、Pythonソースファイルや `.py` ファイル等と呼ばれます。\n",
    "\n",
    "たとえば、次のコードセルを実行してみてください。"
   ]
  },
  {
   "cell_type": "code",
   "execution_count": null,
   "metadata": {},
   "outputs": [],
   "source": [
    "a1 = 10\n",
    "print('a1 contains the value of', a1)"
   ]
  },
  {
   "cell_type": "markdown",
   "metadata": {},
   "source": [
    "この内容と全く同じコードを記述したPythonスクリプトファイル `sample.py` を教材として用意しました。 \n",
    "\n",
    "オペレーティングシステム（実際にはシェル）から `sample.py` を実行するには、以下のようにします。\n",
    "\n",
    "```console\n",
    ">>> python sample.py\n",
    "```\n",
    "\n",
    "あるいは\n",
    "\n",
    "```console\n",
    ">>> python3 sample.py\n",
    "```\n",
    "\n",
    "ここで、`>>> ` は、シェルのプロンプト（コマンド入力を促す記号）を意味します。\n",
    "後に示す具体例を見るとわかるように、環境によっては `>` であったり、`$` であったりします。\n",
    "\n",
    "このようにスクリプトをシェルから実行することを、**コマンドライン実行**と呼びます。"
   ]
  },
  {
   "cell_type": "markdown",
   "metadata": {},
   "source": [
    "## コマンドライン実行の具体例\n",
    "\n",
    "`sample.py` をコマンドライン実行する具体例を、実行環境毎に説明します。"
   ]
  },
  {
   "cell_type": "markdown",
   "metadata": {},
   "source": [
    "### Jupyter Notebook での実行方法\n",
    "\n",
    "ファイルマネージャ画面で、\n",
    "\n",
    "New ⇒ Terminal\n",
    "\n",
    "を選択すると、ターミナルのタブが生成されます。\n",
    "\n",
    "![ターミナルタブ](fig/terminal_in_menu.png)\n",
    "\n",
    "Windows 10 の環境（ユーザーアカウント名 `sato`）では、次のように表示されます。\n",
    "\n",
    "![コンソール](fig/console_in_browser.png)\n",
    "\n",
    "次の例では、`cd` コマンドで `sample.py` が存在するディレクトリ `materials/5/` に移動し、その上で `sample.py` を実行しています。\n",
    "\n",
    "![sample.py](fig/sample_py_browser.png)\n",
    "\n",
    "Jupyter Notebook 上で開かれるターミナルは、環境によって違います。\n",
    "デフォルトでは、Windows 10 ではPowerShellが起動し、macOSならばbashが起動するでしょう。"
   ]
  },
  {
   "cell_type": "markdown",
   "metadata": {},
   "source": [
    "### Windowsでの実行方法\n",
    "\n",
    "以下をクリックすれば、ターミナルが開いて `python` をコマンドとして実行できます。\n",
    "\n",
    "Start メニュー ⇒ Anaonda3(64-bit) ⇒ Anaconda Prompt \n",
    "\n",
    "![Anaconda Prompt](fig/sample_py_win_1.png)\n",
    "\n",
    "下記のようなウインドウが表示されます。\n",
    "\n",
    "![Anaconda Prompt2](fig/sample_py_win_2.png)\n",
    "\n",
    "Windowsのユーザーアカウント名のついたフォルダ（画像では、KMK）の中に `pythontest` というフォルダを作成し、その中に `sample.py` を格納した場合の実行例を示します。\n",
    "\n",
    "例では、`cd` というコマンドで `sample.py` を格納したフォルダ `pythontest` に移動し、その上で `sample.py` を実行しています。\n",
    "\n",
    "![Anaconda sample](fig/sample_py_win_3.png)\n"
   ]
  },
  {
   "cell_type": "markdown",
   "metadata": {},
   "source": [
    "### macOS での実行方法\n",
    "\n",
    "Application ⇒ Utilities ⇒ Terminal.app を起動します。\n",
    "\n",
    "アプリケーション ⇒ ユーティリティ ⇒ ターミナル.app を起動します。（日本語の場合）\n",
    "        \n",
    "![MacOS FInder](fig/sample_py_mac_1.png)\n",
    "\n",
    "下記のようなウインドウが表示されます。\n",
    "\n",
    "![Terminal.app](fig/sample_py_mac_2.png)\n",
    "\n",
    "\n",
    "ダウンロードフォルダ (`Downloads`) に `sample.py` を格納した場合の実行例を示します。\n",
    "\n",
    "例では、`cd` というコマンドで `sample.py` を格納した `Downloads` フォルダに移動し、その上で `sample.py` を実行しています。\n",
    "\n",
    "![MacOS Sample](fig/sample_py_mac_3.png)"
   ]
  },
  {
   "cell_type": "markdown",
   "metadata": {},
   "source": [
    "## コマンドライン引数\n",
    "\n",
    "コマンドライン実行時には、実行スクリプト名の後に、文字列を書き込むことにより、実行スクリプトへ引数を与えることができます。 \n",
    "この引数のことを、**コマンドライン引数**と呼びます。\n",
    "\n",
    "たとえば、`argsprint.py` というスクリプトファイルをコマンドライン実行することを考えます。\n",
    "\n",
    "```console\n",
    ">>> python argsprint.py\n",
    "```\n",
    "\n",
    "ここで、 `argsprint.py` の後ろに、適当な文字列を付け加えます。たとえば、以下のように3つの文字列 `firstvalue` `secondvalue` `thirdvalue` をスペースで区切って付け加えてみます。 \n",
    "\n",
    "```console\n",
    ">>> python argsprint.py firstvalue secondvalue thirdvalue\n",
    "```\n",
    "\n",
    "このとき、この3つの文字列が `argsprint.py` にコマンドライン引数として与えられることになります。\n",
    "\n",
    "この引数は、`sys` モジュールの `argv` という変数 (`sys.argv`) にリストとして格納されます。\n",
    "\n",
    " `argsprint.py` を次のようなコードからなるファイルとしましょう。\n",
    "\n",
    "---\n",
    "\n",
    "argsprint.py:\n",
    "\n",
    "```Python\n",
    "import sys\n",
    "print(sys.argv) # リスト sys.argv の中身を印字\n",
    "```\n",
    "\n",
    "---\n",
    "\n",
    "このような `argsprint.py` を先の例のように実行すると、以下の画像のような結果が得られます。リスト `sys.argv` に2番目の要素として文字列 `firstvalue` が、3番目の要素として文字列 `secondvalue` が、4番目の要素として文字列 `thirdvalue` が格納されていることを確認してください。また、リストの最初の要素には、実行したスクリプト名（ここでは  `argsprint.py`）が格納されることに注意してください。\n",
    "\n",
    "![argsprint](fig/argsprint.png)"
   ]
  },
  {
   "cell_type": "markdown",
   "metadata": {},
   "source": [
    "### 練習\n",
    "\n",
    "上記に従って `argsprint.py` ファイルを作成して、引数を変更したり、引数の数を増やしたり減らしたりして、表示がどう変わるか調べてください。"
   ]
  },
  {
   "cell_type": "markdown",
   "metadata": {},
   "source": [
    "### 練習\n",
    "\n",
    "コマンドライン実行時に、コマンドライン引数の1番目を印字 (print) する `arg1.py` を作成せよ。"
   ]
  },
  {
   "cell_type": "markdown",
   "metadata": {},
   "source": [
    "### 練習\n",
    "\n",
    "コマンドライン実行時に、スクリプト名を印字する `scriptname.py` を作成してください。"
   ]
  },
  {
   "cell_type": "markdown",
   "metadata": {},
   "source": [
    "### 練習\n",
    "\n",
    "コマンドライン実行時に、コマンドライン引数の数を印字する `numargs.py` を作成してください。"
   ]
  },
  {
   "cell_type": "markdown",
   "metadata": {},
   "source": [
    "### 練習\n",
    "\n",
    "コマンドライン引数として与えられた任意個の整数の和を印字する `sum.py` を作成してください。 \n",
    "\n",
    "たとえば、次のように実行すると、 \n",
    "\n",
    "```console\n",
    ">>> python sum.py 1 2 3\n",
    "```\n",
    "\n",
    "`6` と印字されます。\n",
    "\n",
    "なお、コマンドライン引数は文字列型であることに注意してください。。"
   ]
  },
  {
   "cell_type": "code",
   "execution_count": null,
   "metadata": {},
   "outputs": [],
   "source": [
    "v1 = '100'\n",
    "v2 = '200'\n",
    "int(v1) + int(v2) # 整数加算"
   ]
  },
  {
   "cell_type": "code",
   "execution_count": null,
   "metadata": {},
   "outputs": [],
   "source": [
    "v1 + v2 # 文字列結合"
   ]
  },
  {
   "cell_type": "markdown",
   "metadata": {},
   "source": [
    "## モジュールのコマンドライン実行\n",
    "\n",
    "さて、モジュールファイルは、それ自体が単独で実行可能であると述べました。\n",
    "つまり、Pythonソースファイルは、モジュールとしてインポートされる場合と、スクリプトとしてコマンドライン実行される場合の2通りが考えられるわけです。\n",
    "\n",
    "あるモジュールが、インポートされたのか、スクリプトとしてコマンドライン実行されたのかは、プログラム中の **`__name__`** という組み込み変数を参照することで区別できます。\n",
    "\n",
    "具体的には、モジュール `mod.py` がコマンドライン実行されたとき、`__name__` の値は `'__main__'` になります。\n",
    "一方、`import mod` されたとき、`__name__` の値は `'mod'` になります。\n",
    "\n",
    "これを利用することで、インポートされた場合とコマンドライン実行された場合で、モジュールの振舞いを変えることができます。\n",
    "たとえば、次に示す `factorial.py` モジュールを考えます。\n",
    "\n",
    "---\n",
    "\n",
    "factorial.py:\n",
    "\n",
    "```Python\n",
    "import sys\n",
    "\n",
    "# 階乗n!を返す\n",
    "def fact(n):\n",
    "    prod = 1\n",
    "    for i in range(1, n + 1):\n",
    "        prod *= i\n",
    "    return prod\n",
    "\n",
    "if __name__ == '__main__':\n",
    "    n = int(sys.argv[1]) # 整数nが1番目のコマンドライン引数で与えられる\n",
    "    print(fact(n))       # n!を印字 \n",
    "```\n",
    "\n",
    "---\n",
    "\n",
    "これに対して、`import factorial` すると、階乗を計算する関数 `factorial.fact()` が利用できるようになります。\n",
    "一方、`python factorial.py 6` とコマンドライン実行すると、6の階乗である `720` が印字されます。\n",
    "つまり、このモジュールは、階乗を計算するライブラリとしても、階乗を計算するスクリプトとしても利用できるわけです。\n",
    "\n",
    "もし `if __name__ == '__main__'` の条件分岐が無かったら、モジュールとしてインポートしたときに、インポート元のスクリプトのために与えられたコマンドライン引数を使って、階乗を計算・印字しようとします。\n",
    "これは一般に、望ましい振舞いではありません。\n",
    "\n",
    "このように、`if __name__ == '__main__'` の分岐中には、自己完結したスクリプトとしての振舞いが記述されます。\n",
    "\n",
    "ライブラリモジュールとして使うことのみが想定されている場合、テストコードが記述されることもあります。\n",
    "たとえば、次のように記述すると、\n",
    "\n",
    "---\n",
    "\n",
    "factorial.py:\n",
    "\n",
    "```Python\n",
    "import sys\n",
    "\n",
    "# 階乗n!を返す\n",
    "def fact(n):\n",
    "    prod = 1\n",
    "    for i in range(1, n + 1):\n",
    "        prod *= i\n",
    "    return prod\n",
    "\n",
    "if __name__ == '__main__':\n",
    "    print('test n = 6:', fact(6) == 720) \n",
    "    print('test n = 0:', fact(0) == 1) \n",
    "```\n",
    "\n",
    "---\n",
    "\n",
    "コマンドライン実行したときには、`fact()` が正しく計算されているかテストした結果が印字されます。\n",
    "このテストコードは、ライブラリモジュールとしてimportして利用するときには実行されません。\n",
    "このようにすると、1つのPythonソースファイルの中で、ライブラリ実装とテストをひとまとめにできて、保守しやすくなります。"
   ]
  },
  {
   "cell_type": "markdown",
   "metadata": {},
   "source": [
    "## ソースファイル先頭部分にある宣言\n",
    "\n",
    "### 文字コード宣言\n",
    "\n",
    "PythonソースコードはUTF-8で記述することが[公式に推奨されています](https://www.python.org/dev/peps/pep-0008/#source-file-encoding)。\n",
    "\n",
    "しかし、特にWindows環境では、歴史的事情からShift_JIS (shift_jis) が使われることがあります。\n",
    "このとき、Pythonソースファイルの先頭部分には、次のような**文字コード宣言**が必要です。\n",
    "\n",
    "```Python\n",
    "# -*- coding: shift_jis -*-\n",
    "```\n",
    "\n",
    "これがないと、Pythonインタプリタがエラーを出して止まります。\n",
    "\n",
    "なお、UTF-8で記述されている場合には、文字コード宣言を記述しないことが[公式に推奨されています](https://www.python.org/dev/peps/pep-0008/#source-file-encoding)。\n",
    "\n",
    "### shebang\n",
    "\n",
    "Unix環境（macOSを含む）では、スクリプトファイルの先頭行には、そのスクリプトを実行するコマンドを指定できるようになっています。\n",
    "この先頭行のことは、**shebang**と呼ばれます。\n",
    "\n",
    "Unix環境でPythonスクリプトに用いられる標準的なshebangは次です。\n",
    "```Python\n",
    "#!/usr/bin/env python3\n",
    "```\n",
    "`#!` に続く部分で、コマンドを絶対パスで指定します。\n",
    "`env` コマンドは、その引数（ここでは `python3`）の名前のコマンドを、環境の中から探して実行します。\n",
    "したがって、上のように記述すると、Pythonインタプリタがインストールされている場所を気にせずに、Unix環境におけるPython3系列の標準コマンド名である `python3` を使って実行できるようになります。\n",
    "\n",
    "shebangと文字コード宣言の両方を含む場合は、たとえば、次のようになります。\n",
    "```Python\n",
    "#!/usr/bin/env python3\n",
    "# -*- coding: shift_jis -*-\n",
    "```"
   ]
  },
  {
   "cell_type": "markdown",
   "metadata": {},
   "source": [
    "## 練習の解答\n",
    "\n",
    "各セルのコードを保存した `.py` ファイルが解答です。"
   ]
  },
  {
   "cell_type": "code",
   "execution_count": null,
   "metadata": {},
   "outputs": [],
   "source": [
    "#arg1.py\n",
    "import sys\n",
    "print(sys.argv[1])"
   ]
  },
  {
   "cell_type": "code",
   "execution_count": null,
   "metadata": {},
   "outputs": [],
   "source": [
    "#scriptname.py\n",
    "import sys\n",
    "print(sys.argv[0])"
   ]
  },
  {
   "cell_type": "code",
   "execution_count": null,
   "metadata": {},
   "outputs": [],
   "source": [
    "#numargs.py\n",
    "import sys\n",
    "num = len(sys.argv) - 1 # sys.argv[0]はコマンドライン引数ではないので1減らす\n",
    "print(num)"
   ]
  },
  {
   "cell_type": "code",
   "execution_count": null,
   "metadata": {
    "tags": [
     "raises-exception"
    ]
   },
   "outputs": [],
   "source": [
    "#sum.py\n",
    "import sys\n",
    "s = 0\n",
    "for v in sys.argv[1:]:\n",
    "    s += int(v)\n",
    "print(s)"
   ]
  }
 ],
 "metadata": {
  "kernelspec": {
   "display_name": "Python 3",
   "language": "python",
   "name": "python3"
  },
  "language_info": {
   "name": "python"
  }
 },
 "nbformat": 4,
 "nbformat_minor": 2
}
