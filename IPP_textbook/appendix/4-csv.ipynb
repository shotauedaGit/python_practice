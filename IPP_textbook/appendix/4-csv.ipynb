{
 "cells": [
  {
   "cell_type": "markdown",
   "metadata": {},
   "source": [
    "# ▲CSVファイルの入出力\n",
    "CSVファイルの入出力について説明します。\n",
    "\n",
    "参考\n",
    "\n",
    "- https://docs.python.org/ja/3/library/csv.html\n",
    "\n",
    "## CSV形式とは\n",
    "\n",
    "**CSV**形式とは \"comma-separated values\" の略で、\n",
    "複数の値をコンマで区切って記録するファイル形式です。\n",
    "\n",
    "みなさんExcelを使ったことがあると思いますが、\n",
    "Excelでは1つのセルに1つの値（数値や文字など）が入っていて、\n",
    "その他のセルの値とは独立に扱えますよね。\n",
    "\n",
    "それと同じように、CSV形式では、`,`（コンマ）で区切られた要素はそれぞれ独立の値として扱われます。\n",
    "\n",
    "たとえばサークルのメンバーデータを作ることを考えましょう。\n",
    "メンバーは「鈴木一郎」と「山田花子」の2名で、\n",
    "それぞれ『氏名』『ニックネーム』『出身地』を記録しておきたいと思います。\n",
    "\n",
    "表で表すとこんなデータです。\n",
    "\n",
    "|ID| 氏名 | ニックネーム | 出身地 | \n",
    "|---:|:--------|:---------------|:-------|\n",
    "|user1| 鈴木一郎 | イチロー | 広島 |\n",
    "|user2| 山田花子 | はなこ | 名古屋 |\n",
    "\n",
    "これをCSV形式で表すと次のようになります。"
   ]
  },
  {
   "cell_type": "raw",
   "metadata": {},
   "source": [
    "'user1','鈴木一郎','イチロー','広島'\n",
    "'user2','山田花子','はなこ','名古屋'"
   ]
  },
  {
   "cell_type": "markdown",
   "metadata": {},
   "source": [
    "## CSVファイルの読み込み\n",
    "CSVファイルを読み書きするには、\n",
    "ファイルをオープンして、そのファイルオブジェクトから、\n",
    "CSVリーダを作ります。\n",
    "\n",
    "**CSVリーダ**とは、CSVファイルからデータを読み込むためのオブジェクトで、\n",
    "このオブジェクトのメソッドを呼び出すことにより、CSVファイルからデータを読み込むことができます。\n",
    "\n",
    "CSVリーダを作るには、\n",
    "**`csv`** というモジュールの **`csv.reader`** という関数にファイルオブジェクトを渡します。\n",
    "\n",
    "たとえば、次のような表で表されるCSVファイル `small.csv` を読み込んでみましょう。\n",
    "\n",
    " 0列目 | 1列目 | 2列目 | 3列目 | 4列目 \n",
    "---|---|---|---|---\n",
    " 11 | 12 | 13 | 14 | 15 \n",
    " 21 | 22 | 23 | 24 | 25 \n",
    " 31 | 32 | 33 | 34 | 35 \n"
   ]
  },
  {
   "cell_type": "code",
   "execution_count": null,
   "metadata": {},
   "outputs": [],
   "source": [
    "import csv\n",
    "f = open('small.csv', 'r')\n",
    "dataReader = csv.reader(f)"
   ]
  },
  {
   "cell_type": "markdown",
   "metadata": {},
   "source": [
    "このオブジェクトもイテレータで、`next` という関数を呼び出すことができます。"
   ]
  },
  {
   "cell_type": "code",
   "execution_count": null,
   "metadata": {},
   "outputs": [],
   "source": [
    "next(dataReader)"
   ]
  },
  {
   "cell_type": "markdown",
   "metadata": {},
   "source": [
    "このようにして CSVファイルを読むと、\n",
    "CSVファイルの各行のデータが文字列のリストとなって返されます。"
   ]
  },
  {
   "cell_type": "code",
   "execution_count": null,
   "metadata": {},
   "outputs": [],
   "source": [
    "next(dataReader)"
   ]
  },
  {
   "cell_type": "code",
   "execution_count": null,
   "metadata": {},
   "outputs": [],
   "source": [
    "row = next(dataReader)"
   ]
  },
  {
   "cell_type": "code",
   "execution_count": null,
   "metadata": {},
   "outputs": [],
   "source": [
    "row"
   ]
  },
  {
   "cell_type": "code",
   "execution_count": null,
   "metadata": {},
   "outputs": [],
   "source": [
    "row[2]"
   ]
  },
  {
   "cell_type": "markdown",
   "metadata": {},
   "source": [
    "数値が `''` で囲われている場合、数値ではなく文字列として扱われているので、そのまま計算に使用することができません。\n",
    "\n",
    "文字列が整数を表す場合、**`int`** 関数によって文字列を整数に変換することができます。\n",
    "文字列が小数を含む場合は **`float`** 関数で浮動小数点数型に変換、文字列が複素数を表す場合は **`complex`** 関数で複素数に変換します。"
   ]
  },
  {
   "cell_type": "code",
   "execution_count": null,
   "metadata": {},
   "outputs": [],
   "source": [
    "int(row[2])"
   ]
  },
  {
   "cell_type": "markdown",
   "metadata": {},
   "source": [
    "ファイルの終わりまで達した後に `next` 関数を実行すると、下のようにエラーが返ってきます。"
   ]
  },
  {
   "cell_type": "code",
   "execution_count": null,
   "metadata": {
    "tags": [
     "raises-exception"
    ]
   },
   "outputs": [],
   "source": [
    "next(dataReader)"
   ]
  },
  {
   "cell_type": "markdown",
   "metadata": {},
   "source": [
    "ファイルを使い終わったらクローズすることを忘れないようにしましょう。"
   ]
  },
  {
   "cell_type": "code",
   "execution_count": null,
   "metadata": {},
   "outputs": [],
   "source": [
    "f.close()"
   ]
  },
  {
   "cell_type": "markdown",
   "metadata": {},
   "source": [
    "## CSVファイルに対するfor文\n",
    "CSVリーダもイテレータですので、for文の `in` の後に書くことができます。\n",
    "\n",
    "---\n",
    "```Python\n",
    "for row in dataReader:\n",
    "    ...\n",
    "```\n",
    "---\n",
    "\n",
    "繰り返しの各ステップで、`next(dataReader)` が呼び出されて、\n",
    "`row` にその値が設定され、for文の中身が実行されます。"
   ]
  },
  {
   "cell_type": "code",
   "execution_count": null,
   "metadata": {},
   "outputs": [],
   "source": [
    "f = open('small.csv', 'r')\n",
    "dataReader = csv.reader(f)\n",
    "for row in dataReader:\n",
    "    print(row)\n",
    "f.close()"
   ]
  },
  {
   "cell_type": "markdown",
   "metadata": {},
   "source": [
    "## CSVファイルに対するwith文\n",
    "以下はwith文を使った例です。"
   ]
  },
  {
   "cell_type": "code",
   "execution_count": null,
   "metadata": {},
   "outputs": [],
   "source": [
    "with open('small.csv', 'r') as f:\n",
    "    dataReader = csv.reader(f)\n",
    "    for row in dataReader:\n",
    "        print(row)"
   ]
  },
  {
   "cell_type": "markdown",
   "metadata": {},
   "source": [
    "## CSVファイルの書き込み"
   ]
  },
  {
   "cell_type": "markdown",
   "metadata": {},
   "source": [
    "CSVファイルを作成して書き込むには、CSVライターを作ります。\n",
    "\n",
    "**CSVライター**とは、CSVファイルを作ってデータを書き込むためのオブジェクトで、\n",
    "このオブジェクトのメソッドを呼び出すことにより、データがCSV形式でファイルに書き込まれます。\n",
    "\n",
    "CSVライターを作るには、\n",
    "**`csv`** というモジュールの **`csv.writer`** という関数にファイルオブジェクトを渡します。\n",
    "ここで、半角英数文字以外の文字（たとえば日本語文字や全角英数文字）を書き込み・書き出しする際には、\n",
    "文字コード（たとえば `encoding='utf-8'`）を指定し、\n",
    "また書き出しの際にはさらに改行コードとして `newline=''` を指定しないと文字化けが生じる可能性があります。"
   ]
  },
  {
   "cell_type": "code",
   "execution_count": null,
   "metadata": {},
   "outputs": [],
   "source": [
    "f = open('out.csv', 'w', encoding='utf-8', newline='')"
   ]
  },
  {
   "cell_type": "code",
   "execution_count": null,
   "metadata": {},
   "outputs": [],
   "source": [
    "dataWriter = csv.writer(f)"
   ]
  },
  {
   "cell_type": "code",
   "execution_count": null,
   "metadata": {},
   "outputs": [],
   "source": [
    "dir(dataWriter)"
   ]
  },
  {
   "cell_type": "code",
   "execution_count": null,
   "metadata": {},
   "outputs": [],
   "source": [
    "dataWriter.writerow([1,2,3])"
   ]
  },
  {
   "cell_type": "code",
   "execution_count": null,
   "metadata": {},
   "outputs": [],
   "source": [
    "dataWriter.writerow([21,22,23])"
   ]
  },
  {
   "cell_type": "markdown",
   "metadata": {},
   "source": [
    "書き込みモードの場合も、ファイルを使い終わったらクローズすることを忘れないようにしましょう。"
   ]
  },
  {
   "cell_type": "code",
   "execution_count": null,
   "metadata": {},
   "outputs": [],
   "source": [
    "f.close()"
   ]
  },
  {
   "cell_type": "markdown",
   "metadata": {},
   "source": [
    "読み込みのときと同様、with文を使うこともできます。"
   ]
  },
  {
   "cell_type": "code",
   "execution_count": null,
   "metadata": {},
   "outputs": [],
   "source": [
    "with open('out.csv', 'w', encoding='utf-8', newline='') as f:\n",
    "    dataWriter = csv.writer(f)\n",
    "    dataWriter.writerow([1,2,3])\n",
    "    dataWriter.writerow([21,22,23])"
   ]
  },
  {
   "cell_type": "markdown",
   "metadata": {},
   "source": [
    "### 東京の7月の気温\n",
    "`tokyo-temps.csv` には、気象庁のオープンデータからダウンロードした、\n",
    "東京の7月の平均気温のデータが入っています。\n",
    "\n",
    "http://www.data.jma.go.jp/gmd/risk/obsdl/\n",
    "\n",
    "48行目の第2列に1875年7月の平均気温が入っており、\n",
    "以下、2016年まで、12行ごとに7月の平均気温が入っています。"
   ]
  },
  {
   "cell_type": "markdown",
   "metadata": {},
   "source": [
    "以下は、これを取り出すPythonの簡単なコードです。"
   ]
  },
  {
   "cell_type": "code",
   "execution_count": null,
   "metadata": {},
   "outputs": [],
   "source": [
    "import csv\n",
    "\n",
    "with open('tokyo-temps.csv', 'r', encoding='shift_jis') as f:\n",
    "    dataReader = csv.reader(f) # csvリーダを作成\n",
    "    n=0\n",
    "    year = 1875\n",
    "    years = []\n",
    "    july_temps = []\n",
    "    for row in dataReader: # CSVファイルの中身を1行ずつ読み込み\n",
    "        n = n+1\n",
    "        if n>=48 and (n-48)%12 == 0: # 48行目からはじめて12か月ごとにif内を実行\n",
    "            years.append(year)\n",
    "            july_temps.append(float(row[1]))\n",
    "            year = year + 1"
   ]
  },
  {
   "cell_type": "markdown",
   "metadata": {},
   "source": [
    "ファイルをオープンするときに、キーワード引数の **`encoding`** が指定されています。\n",
    "このファイルはShift_JISという文字コードで書かれているため、\n",
    "この引数で、ファイルの符号（**文字コード**）を指定します。\n",
    "`'shift_jis'` はShift_JISを意味します。この他に、`'utf-8'`（UTF-8、すなわちビットのUnicode）があります。"
   ]
  },
  {
   "cell_type": "markdown",
   "metadata": {},
   "source": [
    "変数 `years` に年の配列、変数 `july_temps` に対応する年の7月の平均気温の配列が設定されます。"
   ]
  },
  {
   "cell_type": "code",
   "execution_count": null,
   "metadata": {},
   "outputs": [],
   "source": [
    "years"
   ]
  },
  {
   "cell_type": "code",
   "execution_count": null,
   "metadata": {},
   "outputs": [],
   "source": [
    "july_temps"
   ]
  },
  {
   "cell_type": "markdown",
   "metadata": {},
   "source": [
    "ここでは詳しく説明しませんが、**線形回帰**によるフィッティングを行ってみましょう。"
   ]
  },
  {
   "cell_type": "code",
   "execution_count": null,
   "metadata": {},
   "outputs": [],
   "source": [
    "import numpy\n",
    "import matplotlib.pyplot as plt\n",
    "%matplotlib inline\n",
    "\n",
    "fitp = numpy.poly1d(numpy.polyfit(years, july_temps, 1))\n",
    "ma = max(years)\n",
    "mi = min(years)\n",
    "xp = numpy.linspace(mi, ma, (ma - mi))"
   ]
  },
  {
   "cell_type": "code",
   "execution_count": null,
   "metadata": {},
   "outputs": [],
   "source": [
    "plt.plot(years, july_temps, '.', xp, fitp(xp), '-')\n",
    "plt.show()"
   ]
  },
  {
   "cell_type": "markdown",
   "metadata": {},
   "source": [
    "## 練習\n",
    "\n",
    "1. `tokyo-temps.csv` を読み込んで、各行が西暦年と7月の気温のみからなる `'tokyo-july-temps.csv'` という名前のCSVファイルを作成してください。\n",
    "西暦年は1875から2016までとします。\n",
    "\n",
    "2. 作成したCSVファイルをExcelで読み込むとどうなるか確認してください。"
   ]
  },
  {
   "cell_type": "code",
   "execution_count": null,
   "metadata": {},
   "outputs": [],
   "source": []
  },
  {
   "cell_type": "markdown",
   "metadata": {},
   "source": [
    "以下のセルによってテストしてください。（`years` と `july_temps` の値がそのままと仮定しています。）"
   ]
  },
  {
   "cell_type": "code",
   "execution_count": null,
   "metadata": {
    "tags": [
     "raises-exception"
    ]
   },
   "outputs": [],
   "source": [
    "with open('tokyo-july-temps.csv', 'r', encoding='shift_jis') as f:\n",
    "    i = 0\n",
    "    dataReader = csv.reader(f)\n",
    "    for row in dataReader:\n",
    "        if int(row[0]) != years[i] or abs(float(row[1])-july_temps[i])>0.000001:\n",
    "            print('error', int(row[0]), float(row[1]))\n",
    "        i += 1\n",
    "print(i== 142) # 1875年から2016年まで142年間分のデータがあるはずです"
   ]
  },
  {
   "cell_type": "markdown",
   "metadata": {},
   "source": [
    "## 練習\n",
    "\n",
    "整数データのみからなるCSVファイルの名前を受け取ると、そのCSVファイルの各行を読み込んで整数のリストを作り、\n",
    "ファイル全体の内容を、そのようなリストのリストとして返す関数 `csv_matrix(name)` を定義してください。\n",
    "\n",
    "たとえば上で用いた `small.csv` には次のようなデータが入っています。\n",
    "\n",
    "\n",
    " 0列目 | 1列目 | 2列目 | 3列目 | 4列目 \n",
    "---|---|---|---|---\n",
    " 11 | 12 | 13 | 14 | 15 \n",
    " 21 | 22 | 23 | 24 | 25 \n",
    " 31 | 32 | 33 | 34 | 35 \n",
    "\n",
    "この `small.csv` の名前が引数として与えられた場合、\n",
    "\n",
    "```Python\n",
    "[[11, 12, 13, 14, 15], [21, 22, 23, 24, 25], [31, 32, 33, 34, 35]]\n",
    "```\n",
    "\n",
    "というリストを返します。"
   ]
  },
  {
   "cell_type": "code",
   "execution_count": null,
   "metadata": {},
   "outputs": [],
   "source": [
    "def csv_matrix(name):\n",
    "    ..."
   ]
  },
  {
   "cell_type": "markdown",
   "metadata": {},
   "source": [
    "以下のセルによってテストしてください。"
   ]
  },
  {
   "cell_type": "code",
   "execution_count": null,
   "metadata": {
    "tags": [
     "raises-exception"
    ]
   },
   "outputs": [],
   "source": [
    "print(csv_matrix('small.csv') == [[11, 12, 13, 14, 15], [21, 22, 23, 24, 25], [31, 32, 33, 34, 35]])"
   ]
  },
  {
   "cell_type": "markdown",
   "metadata": {},
   "source": [
    "## 練習の解答"
   ]
  },
  {
   "cell_type": "code",
   "execution_count": null,
   "metadata": {},
   "outputs": [],
   "source": [
    "with open('tokyo-july-temps.csv', 'w', encoding='utf-8', newline='') as f:\n",
    "    i = 0\n",
    "    dataWriter = csv.writer(f)\n",
    "    for i in range(len(years)):\n",
    "        dataWriter.writerow([years[i],july_temps[i]])"
   ]
  },
  {
   "cell_type": "code",
   "execution_count": null,
   "metadata": {},
   "outputs": [],
   "source": [
    "def csv_matrix(name):\n",
    "    rows = []\n",
    "    with open(name, 'r') as f:\n",
    "        dataReader = csv.reader(f)\n",
    "        for row in dataReader:\n",
    "            rows.append([int(x) for x in row])\n",
    "    return rows    "
   ]
  },
  {
   "cell_type": "code",
   "execution_count": null,
   "metadata": {},
   "outputs": [],
   "source": []
  }
 ],
 "metadata": {
  "kernelspec": {
   "display_name": "Python 3",
   "language": "python",
   "name": "python3"
  },
  "language_info": {
   "name": "python"
  }
 },
 "nbformat": 4,
 "nbformat_minor": 2
}
