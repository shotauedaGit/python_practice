{
 "cells": [
  {
   "cell_type": "markdown",
   "metadata": {},
   "source": [
    "# 2-2. リスト (list)\n",
    "\n",
    "複数のデータを要素としてまとめて取り扱うデータとして、リストとタプルについて説明します。\n",
    "\n",
    "参考\n",
    "\n",
    "- https://docs.python.org/ja/3/tutorial/introduction.html#lists\n",
    "- https://docs.python.org/ja/3/tutorial/datastructures.html#tuples-and-sequences\n",
    "\n",
    "文字列を構成する要素は文字のみでしたが、**リスト**では構成する要素としてあらゆる型のデータを指定できます。\n",
    "他のプログラミング言語では、リストに相当するものとして**配列**（もしくはアレイ）やベクターなどがあります。\n",
    "\n",
    "リストを作成するには、リストを構成する要素をコンマで区切り全体をかぎ括弧 `[...]` で囲みます。  \n",
    "\n",
    "以下のセルでは数値を要素とするリストを作成して、変数に代入しています。\n",
    "さらに、文字列と同様に組み込み関数 `type` を用いて、変数の値がリストであることを確認しています。"
   ]
  },
  {
   "cell_type": "code",
   "execution_count": null,
   "metadata": {},
   "outputs": [],
   "source": [
    "numbers = [0, 10, 20, 30, 40, 50]\n",
    "numbers"
   ]
  },
  {
   "cell_type": "code",
   "execution_count": null,
   "metadata": {},
   "outputs": [],
   "source": [
    "type(numbers)"
   ]
  },
  {
   "cell_type": "markdown",
   "metadata": {},
   "source": [
    "リストのデータ型は **`list`** です。\n",
    "（なお、後で見るように、`list` は他のデータをリストに変換する関数としても用いられます。）\n",
    "\n",
    "次に文字列を構成要素とするリストを作成してみます。"
   ]
  },
  {
   "cell_type": "code",
   "execution_count": null,
   "metadata": {},
   "outputs": [],
   "source": [
    "fruits = ['apple', 'banana', 'chelly']\n",
    "fruits"
   ]
  },
  {
   "cell_type": "markdown",
   "metadata": {},
   "source": [
    "リストの要素としてあらゆる型のデータを指定でき、それらは混在してもかまいません。\n",
    "以下のセルでは、数値と文字列が混在しています。"
   ]
  },
  {
   "cell_type": "code",
   "execution_count": null,
   "metadata": {},
   "outputs": [],
   "source": [
    "numbers_fruits = [10, 'apple', 20, 'banana', 30]\n",
    "numbers_fruits"
   ]
  },
  {
   "cell_type": "markdown",
   "metadata": {},
   "source": [
    "次のように、何も要素を格納していないリスト（**空リスト**）を作成できます。\n",
    "空リストはプログラム実行の途中結果を記録する場合などによく使われています。\n",
    "具体的な例については、後述する `append` メソッドの項を参照してください。"
   ]
  },
  {
   "cell_type": "code",
   "execution_count": null,
   "metadata": {},
   "outputs": [],
   "source": [
    "empty=[]\n",
    "empty"
   ]
  },
  {
   "cell_type": "markdown",
   "metadata": {},
   "source": [
    "なお、`[]` を用いて空リストを作成するたびに、\n",
    "常に新しいオブジェクト（それまでに作られたオブジェクトとは同一でないオブジェクト）が生成されます。\n",
    "詳しくは「▲オブジェクトの等価性と同一性」を参照してください。"
   ]
  },
  {
   "cell_type": "markdown",
   "metadata": {},
   "source": [
    "## リストとインデックス\n",
    "文字列の場合と同様に、インデックスを指定してリストの要素を取り出せます。\n",
    "リストの `x` 番目の要素を取得するには次のような記法を用います。\n",
    "インデックスは 0 から始まることに注意してください。\n",
    "\n",
    "```Python\n",
    "リスト[x-1]\n",
    "```"
   ]
  },
  {
   "cell_type": "code",
   "execution_count": null,
   "metadata": {},
   "outputs": [],
   "source": [
    "abcd = ['a', 'b', 'c', 'd']\n",
    "abcd[2]"
   ]
  },
  {
   "cell_type": "markdown",
   "metadata": {},
   "source": [
    "文字列の場合とは異なり、リストは変更可能なデータです。\n",
    "すなわちインデックスで指定されるリストの要素は、代入によって変更できます。"
   ]
  },
  {
   "cell_type": "code",
   "execution_count": null,
   "metadata": {},
   "outputs": [],
   "source": [
    "abcd = ['a', 'b', 'c', 'd']\n",
    "abcd[2] = 'hello'\n",
    "abcd"
   ]
  },
  {
   "cell_type": "markdown",
   "metadata": {},
   "source": [
    "文字列と同様に、スライスを使った範囲指定も可能です。"
   ]
  },
  {
   "cell_type": "code",
   "execution_count": null,
   "metadata": {},
   "outputs": [],
   "source": [
    "abcd = ['a', 'b', 'c', 'd']\n",
    "abcd[1:3]"
   ]
  },
  {
   "cell_type": "code",
   "execution_count": null,
   "metadata": {},
   "outputs": [],
   "source": [
    "abcd = ['a', 'b', 'c', 'd']\n",
    "abcd[0:4:2]"
   ]
  },
  {
   "cell_type": "markdown",
   "metadata": {},
   "source": [
    "リストのスライスに対しては、代入も可能です。"
   ]
  },
  {
   "cell_type": "code",
   "execution_count": null,
   "metadata": {},
   "outputs": [],
   "source": [
    "abcd = ['a', 'b', 'c', 'd']\n",
    "abcd[1:3] = ['x', 'y', 'z']\n",
    "abcd"
   ]
  },
  {
   "cell_type": "markdown",
   "metadata": {},
   "source": [
    "## 練習\n",
    "リスト `ln` を引数として取り、`ln` の偶数番目のインデックスの値を削除したリストを返す関数 `remove_evenindex` を作成してください（ただし、0 は偶数として扱うものとします）。\n",
    "\n",
    "ヒント：スライスを使います。\n",
    "\n",
    "以下のセルの `...` のところを書き換えて `remove_evenindex(ln)` を作成してください。"
   ]
  },
  {
   "cell_type": "code",
   "execution_count": null,
   "metadata": {},
   "outputs": [],
   "source": [
    "def remove_evenindex(ln):\n",
    "    ..."
   ]
  },
  {
   "cell_type": "markdown",
   "metadata": {},
   "source": [
    "上のセルで解答を作成した後、以下のセルを実行し、実行結果が全て `True` になることを確認してください。"
   ]
  },
  {
   "cell_type": "code",
   "execution_count": null,
   "metadata": {
    "tags": [
     "raises-exception"
    ]
   },
   "outputs": [],
   "source": [
    "print(remove_evenindex(['a', 'b', 'c', 'd', 'e', 'f', 'g']) == ['b', 'd', 'f'] )\n",
    "print(remove_evenindex([1, 2, 3, 4, 5]) == [2, 4])"
   ]
  },
  {
   "cell_type": "markdown",
   "metadata": {},
   "source": [
    "## **多重リスト**\n",
    "リストの要素としてリストを指定することもできます。\n",
    "リストを要素とするリストは多重リストと呼ばれます。\n",
    "次は二重リストの例です。"
   ]
  },
  {
   "cell_type": "code",
   "execution_count": null,
   "metadata": {},
   "outputs": [],
   "source": [
    "lns = [[1, 2, 3], [10, 20, 30], ['a', 'b', 'c']]"
   ]
  },
  {
   "cell_type": "markdown",
   "metadata": {},
   "source": [
    "多重リストの要素指定は複数のインデックスで行います。\n",
    "前の例で外側の `[]` で示されるリストの2番目の要素のリスト、\n",
    "すなわち `[10, 20, 30]` の最初の要素は次のように指定します。 "
   ]
  },
  {
   "cell_type": "code",
   "execution_count": null,
   "metadata": {},
   "outputs": [],
   "source": [
    "lns[1][0]"
   ]
  },
  {
   "cell_type": "markdown",
   "metadata": {},
   "source": [
    "3番目のリストそのものを取り出したいときは、次のように指定します。"
   ]
  },
  {
   "cell_type": "code",
   "execution_count": null,
   "metadata": {},
   "outputs": [],
   "source": [
    "lns[2]"
   ]
  },
  {
   "cell_type": "markdown",
   "metadata": {},
   "source": [
    "以下のようにリストの要素として、リストを値とする変数を指定することもできます。"
   ]
  },
  {
   "cell_type": "code",
   "execution_count": null,
   "metadata": {},
   "outputs": [],
   "source": [
    "lns2 = [lns, ['x', 1, [11, 12, 13]], ['y', [100, 120, 140]] ]\n",
    "lns2"
   ]
  },
  {
   "cell_type": "code",
   "execution_count": null,
   "metadata": {},
   "outputs": [],
   "source": [
    "lns2[0]"
   ]
  },
  {
   "cell_type": "markdown",
   "metadata": {},
   "source": [
    "## リストに対する関数・演算子・メソッド\n",
    "\n",
    "### リストの要素数\n",
    "\n",
    "組み込み関数 **`len`** はリストの長さ、すなわち要素数、を返します。"
   ]
  },
  {
   "cell_type": "code",
   "execution_count": null,
   "metadata": {},
   "outputs": [],
   "source": [
    "numbers = [0, 10, 20, 30, 40, 50]\n",
    "len(numbers)"
   ]
  },
  {
   "cell_type": "markdown",
   "metadata": {},
   "source": [
    "### 練習\n",
    "\n",
    "英語の１文からなる文字列 `str_engsentence` が引数として与えられたとき、`str_engsentence` 中に含まれる単語数を返す関数 `count_words` を作成してください。ただし、文はピリオドで終了し単語は空白で区切られるものとします。\n",
    "\n",
    "ヒント：文字列に対する `split` メソッドを使います。\n",
    "\n",
    "以下のセルの `...` のところを書き換えて `count_words(str_engsentence)` を作成してください。"
   ]
  },
  {
   "cell_type": "code",
   "execution_count": null,
   "metadata": {},
   "outputs": [],
   "source": [
    "def count_words(str_engsentence):\n",
    "    ..."
   ]
  },
  {
   "cell_type": "markdown",
   "metadata": {},
   "source": [
    "上のセルで解答を作成した後、以下のセルを実行し、実行結果が `True` になることを確認してください。"
   ]
  },
  {
   "cell_type": "code",
   "execution_count": null,
   "metadata": {
    "tags": [
     "raises-exception"
    ]
   },
   "outputs": [],
   "source": [
    "print(count_words('From Stettin in the Baltic to Trieste in the Adriatic an iron curtain has descended across the Continent.') == 18)"
   ]
  },
  {
   "cell_type": "markdown",
   "metadata": {},
   "source": [
    "### `max` と `min`\n",
    "\n",
    "リストを引数とする関数は色々とあります。\n",
    "関数 **`max`** は、数のリストが与えられると、その中の最大値を返します。\n",
    "同様に関数 **`min`** はリストの中の最小値を返します。"
   ]
  },
  {
   "cell_type": "code",
   "execution_count": null,
   "metadata": {},
   "outputs": [],
   "source": [
    "numbers = [30, 50, 10, 20, 40, 60]\n",
    "max(numbers)"
   ]
  },
  {
   "cell_type": "code",
   "execution_count": null,
   "metadata": {},
   "outputs": [],
   "source": [
    "numbers = [30, 50, 10, 20, 40, 60]\n",
    "min(numbers)"
   ]
  },
  {
   "cell_type": "markdown",
   "metadata": {},
   "source": [
    "`max` と `min` は文字列のリストに対しても適用できます。文字列の比較は、いわゆる辞書順で行われます。"
   ]
  },
  {
   "cell_type": "code",
   "execution_count": null,
   "metadata": {},
   "outputs": [],
   "source": [
    "characters = ['e', 'd', 'a', 'c', 'f', 'b']\n",
    "min(characters)"
   ]
  },
  {
   "cell_type": "markdown",
   "metadata": {},
   "source": [
    "### `sum`\n",
    "\n",
    "関数 **`sum`** は、数のリストが与えられると、その要素の総和を返します。"
   ]
  },
  {
   "cell_type": "code",
   "execution_count": null,
   "metadata": {},
   "outputs": [],
   "source": [
    "numbers = [30, 50, 10, 20, 40, 60]\n",
    "sum(numbers)"
   ]
  },
  {
   "cell_type": "code",
   "execution_count": null,
   "metadata": {},
   "outputs": [],
   "source": [
    "sum([])"
   ]
  },
  {
   "cell_type": "markdown",
   "metadata": {},
   "source": [
    "### リストと演算子"
   ]
  },
  {
   "cell_type": "markdown",
   "metadata": {},
   "source": [
    "演算子 **`+`** によってリストの連結、**`*`** によって連結における繰り返し回数を指定することができます。"
   ]
  },
  {
   "cell_type": "code",
   "execution_count": null,
   "metadata": {},
   "outputs": [],
   "source": [
    "numbers = [0, 10, 20, 30, 40, 50]\n",
    "numbers + ['a', 'b', 'c']"
   ]
  },
  {
   "cell_type": "code",
   "execution_count": null,
   "metadata": {},
   "outputs": [],
   "source": [
    "numbers*3"
   ]
  },
  {
   "cell_type": "markdown",
   "metadata": {},
   "source": [
    "要素が全て同じ値（たとえば、`0` ）のリストを作る最も簡単な方法は、この `*` 演算子を使う方法です。"
   ]
  },
  {
   "cell_type": "code",
   "execution_count": null,
   "metadata": {},
   "outputs": [],
   "source": [
    "zero10 = [0] * 10\n",
    "zero10"
   ]
  },
  {
   "cell_type": "markdown",
   "metadata": {},
   "source": [
    "`*` は `+` を繰り返し行うのと同じ結果を返します。\n",
    "たとえば、`x*3` は `x+x+x` と同じ結果を返します。\n",
    "\n",
    "`x` が多重リストのとき、`x` の要素であるリストが `y` の中に複数回現れます。"
   ]
  },
  {
   "cell_type": "code",
   "execution_count": null,
   "metadata": {},
   "outputs": [],
   "source": [
    "x = [[0, 1], [2, 3]]\n",
    "y = x*3\n",
    "y"
   ]
  },
  {
   "cell_type": "markdown",
   "metadata": {},
   "source": [
    "このとき、`x` の要素が変更されると、`y` の中では複数箇所に変化が起こるので、注意してください。"
   ]
  },
  {
   "cell_type": "code",
   "execution_count": null,
   "metadata": {},
   "outputs": [],
   "source": [
    "x[0][0] = 99\n",
    "y"
   ]
  },
  {
   "cell_type": "markdown",
   "metadata": {},
   "source": [
    "これは、`y` の中の複数個所にあるオブジェクトが同一だからです。\n",
    "詳しくは、以下の「▲オブジェクトの等価性と同一性」を参照してください。"
   ]
  },
  {
   "cell_type": "markdown",
   "metadata": {},
   "source": [
    "演算子 **`in`** は、左辺の要素がリストに含まれれば `True` を、それ以外では `False` を返します。"
   ]
  },
  {
   "cell_type": "code",
   "execution_count": null,
   "metadata": {},
   "outputs": [],
   "source": [
    "10 in numbers"
   ]
  },
  {
   "cell_type": "markdown",
   "metadata": {},
   "source": [
    "リストに対する `in` 演算子は、論理演算 `or` を簡潔に記述するのに用いることもできます。 たとえば、\n",
    "\n",
    "---\n",
    "```Python\n",
    "a1 == 1 or a1 == 3 or a1 == 7:\n",
    "```\n",
    "---\n",
    "\n",
    "は\n",
    "\n",
    "---\n",
    "```Python\n",
    "a1 in [1, 3, 7]:\n",
    "```\n",
    "---\n",
    "\n",
    "と同じ結果を得られます。 `or` の数が多くなる場合は、`in` を用いた方がより読みやすいプログラムを書くことができます。"
   ]
  },
  {
   "cell_type": "code",
   "execution_count": null,
   "metadata": {},
   "outputs": [],
   "source": [
    "a1 = 1\n",
    "print(a1 == 1 or a1 == 3 or a1 == 7, a1 in [1, 3, 7])\n",
    "a1 = 3\n",
    "print(a1 == 1 or a1 == 3 or a1 == 7, a1 in [1, 3, 7])\n",
    "a1 = 5\n",
    "print(a1 == 1 or a1 == 3 or a1 == 7, a1 in [1, 3, 7])"
   ]
  },
  {
   "cell_type": "markdown",
   "metadata": {},
   "source": [
    "`in` 演算子は、左辺の要素がリストに含まれるかどうかを、\n",
    "リストの要素を最初から順に調べることで判定しています。\n",
    "したがって、リストの長さに比例した時間がかかります。\n",
    "つまり、リストの長さが大きければ、それなりの時間がかかることに注意してください。\n",
    "\n",
    "**`not in`** 演算子は、`in` 演算子の逆を意味します。"
   ]
  },
  {
   "cell_type": "code",
   "execution_count": null,
   "metadata": {},
   "outputs": [],
   "source": [
    "10 not in numbers"
   ]
  },
  {
   "cell_type": "code",
   "execution_count": null,
   "metadata": {},
   "outputs": [],
   "source": [
    "11 not in numbers"
   ]
  },
  {
   "cell_type": "markdown",
   "metadata": {},
   "source": [
    "### 指定した要素のインデックス取得と数えあげ\n",
    "\n",
    "**`index`** メソッドは引数で指定した要素のインデックスの番号を返します。\n",
    "文字列には `index` に加えてこれと似た `find` メソッドもありましたが、リストでは使えません。"
   ]
  },
  {
   "cell_type": "code",
   "execution_count": null,
   "metadata": {},
   "outputs": [],
   "source": [
    "numbers = [0, 10, 20, 30, 40, 50]\n",
    "numbers.index(20) "
   ]
  },
  {
   "cell_type": "markdown",
   "metadata": {},
   "source": [
    "**`count`** メソッドは指定した要素の数を返します。"
   ]
  },
  {
   "cell_type": "code",
   "execution_count": null,
   "metadata": {},
   "outputs": [],
   "source": [
    "all20 = [20]*3\n",
    "all20.count(20) # 指定した要素のリスト内の数"
   ]
  },
  {
   "cell_type": "markdown",
   "metadata": {},
   "source": [
    "### 並べ替え（**`sort`** メソッド）\n",
    "\n",
    "`sort` メソッドはリスト内の要素を並べ替えます。\n",
    "引数に何も指定しなければ昇順でとなります。"
   ]
  },
  {
   "cell_type": "code",
   "execution_count": null,
   "metadata": {},
   "outputs": [],
   "source": [
    "numbers = [30, 50, 10, 20, 40, 60]\n",
    "numbers.sort()"
   ]
  },
  {
   "cell_type": "code",
   "execution_count": null,
   "metadata": {},
   "outputs": [],
   "source": [
    "numbers"
   ]
  },
  {
   "cell_type": "code",
   "execution_count": null,
   "metadata": {},
   "outputs": [],
   "source": [
    "characters = ['e', 'd', 'a', 'c', 'f', 'b']\n",
    "characters.sort()\n",
    "characters"
   ]
  },
  {
   "cell_type": "markdown",
   "metadata": {},
   "source": [
    "`reverse = True` オプションを指定すれば、要素を降順に並べ替えることもできます。\n",
    "（これは 3.3 のキーワード引数と呼ばれるものですが、ここでは天下り的に、\n",
    "並べ替えの方法を指定する情報と理解しておいてください。）"
   ]
  },
  {
   "cell_type": "code",
   "execution_count": null,
   "metadata": {},
   "outputs": [],
   "source": [
    "numbers = [30, 50, 10, 20, 40, 60]\n",
    "numbers.sort(reverse = True)\n",
    "numbers"
   ]
  },
  {
   "cell_type": "markdown",
   "metadata": {},
   "source": [
    "### 並べ替え（**`sorted`** 組み込み関数）\n",
    "\n",
    "関数 `sorted` ではリストを引数に取って、そのリスト内の要素を昇順に並べ替えた結果をリストとして返します。\n",
    "\n",
    "---\n",
    "```Python\n",
    "sorted(リスト)\n",
    "```\n",
    "---"
   ]
  },
  {
   "cell_type": "code",
   "execution_count": null,
   "metadata": {},
   "outputs": [],
   "source": [
    "numbers = [30, 50, 10, 20, 40, 60]\n",
    "sorted(numbers)"
   ]
  },
  {
   "cell_type": "markdown",
   "metadata": {},
   "source": [
    "文字列の比較は、いわゆる辞書順で行われます。"
   ]
  },
  {
   "cell_type": "code",
   "execution_count": null,
   "metadata": {},
   "outputs": [],
   "source": [
    "characters = ['e', 'd', 'a', 'c', 'f', 'b']\n",
    "sorted(characters)"
   ]
  },
  {
   "cell_type": "markdown",
   "metadata": {},
   "source": [
    "`sorted` においても、 `reverse = True` と記述することで要素を降順に並べ替えることができます。"
   ]
  },
  {
   "cell_type": "code",
   "execution_count": null,
   "metadata": {},
   "outputs": [],
   "source": [
    "numbers = [30, 50, 10, 20, 40, 60]\n",
    "sorted(numbers, reverse=True)"
   ]
  },
  {
   "cell_type": "markdown",
   "metadata": {},
   "source": [
    "ついでですが、多重リストをソートするとどのような結果が得られるか確かめてみてください。"
   ]
  },
  {
   "cell_type": "code",
   "execution_count": null,
   "metadata": {},
   "outputs": [],
   "source": [
    "lns = [[20, 5], [10, 30], [40, 20], [30, 10]]\n",
    "lns.sort()\n",
    "lns"
   ]
  },
  {
   "cell_type": "markdown",
   "metadata": {},
   "source": [
    "## 破壊的（インプレース）な操作と非破壊的な生成"
   ]
  },
  {
   "cell_type": "markdown",
   "metadata": {},
   "source": [
    "上記では、`sort` メソッドと `sorted` 関数を紹介しましたが、両者の使い方が異なることに気が付きましたか？\n",
    "\n",
    "具体的には、` sort` メソッドでは元のリストが変更されています。\n",
    "一方、`sorted` 関数では元のリストはそのままになっています。もう一度確認してみましょう。"
   ]
  },
  {
   "cell_type": "code",
   "execution_count": null,
   "metadata": {},
   "outputs": [],
   "source": [
    "numbers = [30, 50, 10, 20, 40, 60]\n",
    "numbers.sort()\n",
    "print('sortメソッドの実行後の元のリスト:', numbers)\n",
    "numbers = [30, 50, 10, 20, 40, 60]\n",
    "sorted(numbers)\n",
    "print('sorted関数の実行後の元のリスト:', numbers)"
   ]
  },
  {
   "cell_type": "markdown",
   "metadata": {},
   "source": [
    "このように、`sort` メソッドは元のリストを変更してしまいます。\n",
    "このような操作を**破壊的**あるいは**インプレース** (**in-place**) であるといいます。\n",
    "\n",
    "一方、`sorted` 関数は新しいリストを生成し元のリストを破壊しません、このような操作は**非破壊的**であるといいます。"
   ]
  },
  {
   "cell_type": "markdown",
   "metadata": {},
   "source": [
    "`sorted` 関数を用いた場合、その返値（並べ替えの結果）は新しい変数に代入して使うことができます。  \n",
    "\n",
    "一方、`sort` メソッドはリストを返さないためそのような使い方はできません。"
   ]
  },
  {
   "cell_type": "code",
   "execution_count": null,
   "metadata": {},
   "outputs": [],
   "source": [
    "numbers = [30, 50, 10, 20, 40, 60]\n",
    "numbers1 = sorted(numbers)\n",
    "print('sorted関数の返値:', numbers1)\n",
    "\n",
    "numbers = [30, 50, 10, 20, 40, 60]\n",
    "numbers2 = numbers.sort()\n",
    "print('sortメソッドの返値:', numbers2)"
   ]
  },
  {
   "cell_type": "markdown",
   "metadata": {},
   "source": [
    "## リストを操作するメソッドなど\n",
    "\n",
    "ここからはリストを操作するためのメソッドなどを紹介していきます。\n",
    "\n",
    "メソッドや組み込み関数が破壊的であるかどうかは、一般にその名称などからは判断できません。\n",
    "それぞれ破壊的かどうか理解してから利用しなければなりません。\n",
    "\n",
    "なお、次の `append` メソッド以外は、必要に応じて参照すればよく、\n",
    "それ以降タプルの項まで飛ばして構いません。\n",
    "\n",
    "### リストに要素を追加する\n",
    "\n",
    "**`append`** メソッドはリストの最後尾に指定した要素を付け加えます。\n",
    "\n",
    "---\n",
    "```Python\n",
    "リスト.append(追加する要素) \n",
    "```\n",
    "---"
   ]
  },
  {
   "cell_type": "code",
   "execution_count": null,
   "metadata": {},
   "outputs": [],
   "source": [
    "numbers = [10, 20, 30, 40, 50]\n",
    "numbers.append(100)\n",
    "numbers"
   ]
  },
  {
   "cell_type": "markdown",
   "metadata": {},
   "source": [
    "`append` は、上述した空のリストと組み合わせて、あるリストから特定の条件を満たす要素のみからなる新たなリストを構成する、というような状況でしばしば用いられます。たとえば、リスト `numbers1 = [10, -10, 20, 30, -20, 40, -30]` から `0` より大きい要素のみを抜き出したリスト `positives` は次のように構成することができます。"
   ]
  },
  {
   "cell_type": "code",
   "execution_count": null,
   "metadata": {},
   "outputs": [],
   "source": [
    "numbers1 = [10, -10, 20, 30, -20, 40, -30] \n",
    "positives = [] # 空のリストを作成する\n",
    "positives.append(numbers1[0])\n",
    "positives.append(numbers1[2])\n",
    "positives.append(numbers1[3])\n",
    "positives.append(numbers1[5])\n",
    "positives"
   ]
  },
  {
   "cell_type": "markdown",
   "metadata": {},
   "source": [
    "### ▲リストにリストの要素を追加する\n",
    "\n",
    " **`extend`** メソッドはリストの最後尾に指定したリストの要素を付け加えます。\n",
    "\n",
    "---\n",
    "```Python\n",
    "リスト.extend(追加するリスト) \n",
    "```\n",
    "---"
   ]
  },
  {
   "cell_type": "code",
   "execution_count": null,
   "metadata": {},
   "outputs": [],
   "source": [
    "numbers = [10, 20, 30, 40, 50]\n",
    "numbers.extend([200, 300, 400, 200]) # numbers += [200, 300, 400, 200] と同じ\n",
    "numbers"
   ]
  },
  {
   "cell_type": "markdown",
   "metadata": {},
   "source": [
    "### ▲リストに要素を挿入する\n",
    "\n",
    "**insert** メソッドはリストのインデックスを指定した位置に新しい要素を挿入します。  \n",
    "\n",
    "---\n",
    "```Python\n",
    "リスト.insert(インデックス, 新しい要素)\n",
    "```\n",
    "---"
   ]
  },
  {
   "cell_type": "code",
   "execution_count": null,
   "metadata": {},
   "outputs": [],
   "source": [
    "numbers = [10, 20, 30, 40, 50]\n",
    "numbers.insert(1, 1000)\n",
    "numbers"
   ]
  },
  {
   "cell_type": "markdown",
   "metadata": {},
   "source": [
    "### ▲リストから要素を削除する\n",
    "\n",
    "**`remove`** メソッドは指定した要素をリストから削除します。  \n",
    "\n",
    "---\n",
    "```Python\n",
    "リスト.remove(削除したい要素)\n",
    "```\n",
    "---\n",
    "\n",
    "ただし、指定した要素が複数個リストに含まれる場合、一番最初の要素が削除されます。また、指定した値がリストに含まれない場合はエラーとなります。"
   ]
  },
  {
   "cell_type": "code",
   "execution_count": null,
   "metadata": {},
   "outputs": [],
   "source": [
    "numbers = [10, 20, 30, 40, 20] \n",
    "numbers.remove(30) # 指定した要素を削除\n",
    "numbers"
   ]
  },
  {
   "cell_type": "code",
   "execution_count": null,
   "metadata": {},
   "outputs": [],
   "source": [
    "numbers.remove(20) # 指定した要素が複数個リストに含まれる場合、一番最初の要素を削除\n",
    "numbers"
   ]
  },
  {
   "cell_type": "code",
   "execution_count": null,
   "metadata": {
    "tags": [
     "raises-exception"
    ]
   },
   "outputs": [],
   "source": [
    "numbers.remove(100) # リストに含まれない値を指定するとエラー"
   ]
  },
  {
   "cell_type": "markdown",
   "metadata": {},
   "source": [
    "### ▲リストからインデックスで指定した要素を削除する\n",
    "\n",
    "**`pop`** メソッドはリストから指定したインデックスを削除し、その要素を返します。\n",
    "\n",
    "---\n",
    "```Python\n",
    "リスト.pop(削除したい要素のインデックス)\n",
    "```\n",
    "---"
   ]
  },
  {
   "cell_type": "code",
   "execution_count": null,
   "metadata": {},
   "outputs": [],
   "source": [
    "numbers = [10, 20, 20, 30, 20, 40]\n",
    "print(numbers.pop(3))\n",
    "print(numbers)"
   ]
  },
  {
   "cell_type": "markdown",
   "metadata": {},
   "source": [
    "インデックスを指定しない場合、最後尾の要素を削除して返します。\n",
    "\n",
    "---\n",
    "```Python\n",
    "リスト.pop()\n",
    "```\n",
    "---"
   ]
  },
  {
   "cell_type": "code",
   "execution_count": null,
   "metadata": {},
   "outputs": [],
   "source": [
    "ln = [10, 20, 30, 20, 40]\n",
    "print(ln.pop())\n",
    "print(ln)"
   ]
  },
  {
   "cell_type": "markdown",
   "metadata": {},
   "source": [
    "### ▲リスト要素を削除する\n",
    "\n",
    "**`del`** 文は指定するリストの要素を削除します。具体的には以下のように削除したい要素をインデックスで指定します。  \n",
    "`del` も破壊的であることに注意してください。\n",
    "\n",
    "---\n",
    "```Python\n",
    "del リスト[x]\n",
    "```\n",
    "---"
   ]
  },
  {
   "cell_type": "code",
   "execution_count": null,
   "metadata": {},
   "outputs": [],
   "source": [
    "numbers = [10, 20, 30, 40, 50]\n",
    "del numbers[2]\n",
    "numbers"
   ]
  },
  {
   "cell_type": "markdown",
   "metadata": {},
   "source": [
    "スライスを使うことも可能です。\n",
    "\n",
    "---\n",
    "```Python\n",
    "del リスト[x:y]\n",
    "```\n",
    "---\n"
   ]
  },
  {
   "cell_type": "code",
   "execution_count": null,
   "metadata": {},
   "outputs": [],
   "source": [
    "numbers = [10, 20, 30, 40, 50]\n",
    "del numbers[2:4]\n",
    "numbers"
   ]
  },
  {
   "cell_type": "markdown",
   "metadata": {},
   "source": [
    "### ▲リストの要素を逆順にする\n",
    "\n",
    "**`reverse`** メソッドはリスト内の要素の順序を逆順にします。"
   ]
  },
  {
   "cell_type": "code",
   "execution_count": null,
   "metadata": {},
   "outputs": [],
   "source": [
    "characters = ['e', 'd', 'a', 'c', 'f', 'b']\n",
    "characters.reverse()\n",
    "characters"
   ]
  },
  {
   "cell_type": "markdown",
   "metadata": {},
   "source": [
    "### ▲ **`copy`**\n",
    "リストを複製します。\n",
    "すなわち、`ln` の値がリストであるとき、`ln.copy()` は `ln` と同じ長さのリストを新たに作って、\n",
    "`ln` の要素を新しいリストに同じ順番で格納して、その新しいリストを返します。\n",
    "\n",
    "複製されたリストに変更を加えたとしても、もとのリストは影響を受けません。"
   ]
  },
  {
   "cell_type": "code",
   "execution_count": null,
   "metadata": {},
   "outputs": [],
   "source": [
    "numbers = [10, 20, 30, 40, 50]\n",
    "numbers2 = numbers.copy()\n",
    "del numbers[1:3]\n",
    "numbers.reverse()\n",
    "print(numbers)\n",
    "print(numbers2)"
   ]
  },
  {
   "cell_type": "markdown",
   "metadata": {},
   "source": [
    "一方、代入を用いた場合には影響を受けることに注意してください。"
   ]
  },
  {
   "cell_type": "code",
   "execution_count": null,
   "metadata": {},
   "outputs": [],
   "source": [
    "numbers = [10, 20, 30, 40, 50]\n",
    "numbers2 = numbers\n",
    "del numbers[1:3]\n",
    "numbers.reverse()\n",
    "print(numbers)\n",
    "print(numbers2)"
   ]
  },
  {
   "cell_type": "markdown",
   "metadata": {},
   "source": [
    "## タプル (tuple)\n",
    "\n",
    "**タプル**は、リストと同じようにデータの並びであり、あらゆる種類のデータを要素にできます。\n",
    "ただし、リストと違ってタプルは一度設定した要素を変更できません（文字列も同様でした）。\n",
    "すなわち、タプルは変更不可能なデータです。\n",
    "したがって、リストの項で説明したメソッドの多く、要素を操作するもの、は適用できないのですが、\n",
    "逆にいうと、作成した後で要素を変更する必要がない場合は、\n",
    "タプルの方が実装の効率がよいので、リストよりもタプルを使うべきです。\n",
    "\n",
    "たとえば、関数が複数の値をリストにして返し、呼び出し側がすぐにリストをばらばらにして値を取り出すような場合は、\n",
    "リストよりもタプルを使うべきです。\n",
    "また、平面上の点を表そうとするとき、x座標とy座標を別々に変化させる必要がなければ、\n",
    "`(3, 5)` のようなタプルを使うのが自然です。\n",
    "このように、タプルを作成するには数学におけるのと同様に要素を丸括弧 `(...)` で囲みます。\n",
    "\n",
    "例を見ましょう。"
   ]
  },
  {
   "cell_type": "code",
   "execution_count": null,
   "metadata": {},
   "outputs": [],
   "source": [
    "x = 3\n",
    "y = 5\n",
    "point = (x, y)"
   ]
  },
  {
   "cell_type": "code",
   "execution_count": null,
   "metadata": {},
   "outputs": [],
   "source": [
    "point"
   ]
  },
  {
   "cell_type": "code",
   "execution_count": null,
   "metadata": {},
   "outputs": [],
   "source": [
    "type(point)"
   ]
  },
  {
   "cell_type": "code",
   "execution_count": null,
   "metadata": {},
   "outputs": [],
   "source": [
    "numbers3 = (1, 2, 3)\n",
    "numbers3"
   ]
  },
  {
   "cell_type": "markdown",
   "metadata": {},
   "source": [
    "実は、丸括弧なしでもタプルを作成できます。"
   ]
  },
  {
   "cell_type": "code",
   "execution_count": null,
   "metadata": {},
   "outputs": [],
   "source": [
    "numbers3 = 1,2,3\n",
    "numbers3"
   ]
  },
  {
   "cell_type": "markdown",
   "metadata": {},
   "source": [
    "要素が1つだけの場合は、 `t = (1)` ではなく、次のようにします。"
   ]
  },
  {
   "cell_type": "code",
   "execution_count": null,
   "metadata": {},
   "outputs": [],
   "source": [
    "onlyone = (1,)\n",
    "onlyone"
   ]
  },
  {
   "cell_type": "markdown",
   "metadata": {},
   "source": [
    "`t = (1)` だと、`t = 1` と同じになってしまいます。"
   ]
  },
  {
   "cell_type": "code",
   "execution_count": null,
   "metadata": {},
   "outputs": [],
   "source": [
    "onlyone = (1)\n",
    "onlyone"
   ]
  },
  {
   "cell_type": "markdown",
   "metadata": {},
   "source": [
    "何も要素を格納していないタプル（**空タプル**）は `()` で作成できます。"
   ]
  },
  {
   "cell_type": "code",
   "execution_count": null,
   "metadata": {},
   "outputs": [],
   "source": [
    "empty = ()\n",
    "empty"
   ]
  },
  {
   "cell_type": "markdown",
   "metadata": {},
   "source": [
    "リストや文字列と同様に、インデックスや組み込み関数を使った操作が可能です。"
   ]
  },
  {
   "cell_type": "code",
   "execution_count": null,
   "metadata": {},
   "outputs": [],
   "source": [
    "numbers3 = (1, 2, 3)\n",
    "numbers3[1] # インデックスの指定による値の取得"
   ]
  },
  {
   "cell_type": "code",
   "execution_count": null,
   "metadata": {},
   "outputs": [],
   "source": [
    "len(numbers3) # lenはタプルを構成する要素の数"
   ]
  },
  {
   "cell_type": "code",
   "execution_count": null,
   "metadata": {},
   "outputs": [],
   "source": [
    "numbers3[1:3] # スライス"
   ]
  },
  {
   "cell_type": "markdown",
   "metadata": {},
   "source": [
    "上述しましたが、一度作成したタプルの要素を後から変更することはできません。\n",
    "したがって以下のプログラムはエラーとなります。\n",
    "\n",
    "---\n",
    "```Python\n",
    "numbers3 = (1, 2, 3)\n",
    "numbers3[1] = 5\n",
    "```"
   ]
  },
  {
   "cell_type": "markdown",
   "metadata": {},
   "source": [
    "組み込み関数 **`list`** を使って、タプルをリストに変換できます。\n",
    "（`list` はリストのデータ型でもあります。）"
   ]
  },
  {
   "cell_type": "code",
   "execution_count": null,
   "metadata": {},
   "outputs": [],
   "source": [
    "numbers3 = (1, 2, 3)\n",
    "list(numbers3)"
   ]
  },
  {
   "cell_type": "markdown",
   "metadata": {},
   "source": [
    "組み込み関数 **`tuple`** を使って、逆にリストをタプルに変換できます。\n",
    "（`tuple` はタプルのデータ型でもあります。）"
   ]
  },
  {
   "cell_type": "code",
   "execution_count": null,
   "metadata": {},
   "outputs": [],
   "source": [
    "numbers2 = [1, 2]\n",
    "tuple(numbers2)"
   ]
  },
  {
   "cell_type": "markdown",
   "metadata": {},
   "source": [
    "## 練習\n",
    "整数の要素からなるリスト `ln` を引数として取り、\n",
    "`ln` に含まれる要素を逆順に格納したタプルを返す関数 `reverse_totuple` を作成してください。\n",
    "\n",
    "以下のセルの `...` のところを書き換えて `reverse_totuple(ln)` を作成してください。"
   ]
  },
  {
   "cell_type": "code",
   "execution_count": null,
   "metadata": {},
   "outputs": [],
   "source": [
    "def reverse_totuple(ln):\n",
    "    ..."
   ]
  },
  {
   "cell_type": "markdown",
   "metadata": {},
   "source": [
    "上のセルで解答を作成した後、以下のセルを実行し、実行結果が `True` になることを確認してください。"
   ]
  },
  {
   "cell_type": "code",
   "execution_count": null,
   "metadata": {
    "tags": [
     "raises-exception"
    ]
   },
   "outputs": [],
   "source": [
    "print(reverse_totuple([1, 2, 3, 4, 5]) == (5, 4, 3, 2, 1))"
   ]
  },
  {
   "cell_type": "markdown",
   "metadata": {},
   "source": [
    "## 多重代入\n",
    "**多重代入**では、左辺に複数の変数などを指定してタプルやリストの全ての要素を一度の操作で代入することができます。"
   ]
  },
  {
   "cell_type": "code",
   "execution_count": null,
   "metadata": {},
   "outputs": [],
   "source": [
    "numbers = [0, 10, 20, 30, 40]\n",
    "[a, b, c, d, e] = numbers\n",
    "b"
   ]
  },
  {
   "cell_type": "markdown",
   "metadata": {},
   "source": [
    "以下のようにしても同じ結果を得られます。"
   ]
  },
  {
   "cell_type": "code",
   "execution_count": null,
   "metadata": {
    "tags": [
     "raises-exception"
    ]
   },
   "outputs": [],
   "source": [
    "a, b, c, d, e = numbers\n",
    "b"
   ]
  },
  {
   "cell_type": "markdown",
   "metadata": {},
   "source": [
    "多重代入は文字列に対しても実行可能です。"
   ]
  },
  {
   "cell_type": "code",
   "execution_count": null,
   "metadata": {},
   "outputs": [],
   "source": [
    "a, b, c, d, e = 'hello'\n",
    "d"
   ]
  },
  {
   "cell_type": "markdown",
   "metadata": {},
   "source": [
    "タプルに対しても実行可能です。"
   ]
  },
  {
   "cell_type": "code",
   "execution_count": null,
   "metadata": {},
   "outputs": [],
   "source": [
    "numbers3 = (1, 2, 3)\n",
    "(x,y,z) = numbers3\n",
    "y"
   ]
  },
  {
   "cell_type": "markdown",
   "metadata": {},
   "source": [
    "以下のように様々な書き方が可能です。"
   ]
  },
  {
   "cell_type": "code",
   "execution_count": null,
   "metadata": {},
   "outputs": [],
   "source": [
    "x,y,z = numbers3\n",
    "print(y)\n",
    "(x,y,z) = (1, 2, 3)\n",
    "print(y)\n",
    "x,y,z = (1, 2, 3)\n",
    "print(y)\n",
    "(x,y,z) = 1, 2, 3\n",
    "print(y)\n",
    "x,y,z = 1, 2, 3\n",
    "print(y)"
   ]
  },
  {
   "cell_type": "markdown",
   "metadata": {},
   "source": [
    "多重代入を使うことで、2つの変数に格納された値の入れ替えを行う手続きはしばしば用いられます。"
   ]
  },
  {
   "cell_type": "code",
   "execution_count": null,
   "metadata": {},
   "outputs": [],
   "source": [
    "x = 'apple'\n",
    "y = 'pen'\n",
    "x, y = y, x \n",
    "print(x, y) #w = x; x = y; y = w と同じ結果が得られる"
   ]
  },
  {
   "cell_type": "markdown",
   "metadata": {},
   "source": [
    "## リストやタプルの比較演算\n",
    "数値などを比較するのに用いた比較演算子を用いて、2つのリストやタプルを比較することもできます。"
   ]
  },
  {
   "cell_type": "code",
   "execution_count": null,
   "metadata": {},
   "outputs": [],
   "source": [
    "print([1, 2, 3] == [1, 2, 3])\n",
    "print([1, 2] == [1, 2, 3])"
   ]
  },
  {
   "cell_type": "code",
   "execution_count": null,
   "metadata": {},
   "outputs": [],
   "source": [
    "print((1, 2, 3) == (1, 2, 3))\n",
    "print((1, 2) == (1, 2, 3))"
   ]
  },
  {
   "cell_type": "code",
   "execution_count": null,
   "metadata": {},
   "outputs": [],
   "source": [
    "print([1, 2, 3] != [1, 2, 3])\n",
    "print([1, 2] != [1, 2, 3])"
   ]
  },
  {
   "cell_type": "code",
   "execution_count": null,
   "metadata": {},
   "outputs": [],
   "source": [
    "print((1, 2, 3) != (1, 2, 3))\n",
    "print((1, 2) != (1, 2, 3))"
   ]
  },
  {
   "cell_type": "markdown",
   "metadata": {},
   "source": [
    "大小の比較は、いわゆる辞書式による比較で、リストやタプルの最初の要素から順に比較して大小を決めます。\n",
    "片方がもう片方を拡張したものであれば、拡張した方を大きいとします。"
   ]
  },
  {
   "cell_type": "code",
   "execution_count": null,
   "metadata": {},
   "outputs": [],
   "source": [
    "print([1, 2, 3] <= [1, 2, 3])\n",
    "print([1, 2, 3] < [1, 2, 3])\n",
    "print([1, 2, 3] < [1, 2, 4])\n",
    "print([1, 2] < [1, 2, 3])"
   ]
  },
  {
   "cell_type": "code",
   "execution_count": null,
   "metadata": {},
   "outputs": [],
   "source": [
    "print((1, 2, 3) <= (1, 2, 3))\n",
    "print((1, 2, 3) < (1, 2, 3))\n",
    "print((1, 2, 3) < (1, 2, 4))\n",
    "print((1, 2) < (1, 2, 3))"
   ]
  },
  {
   "cell_type": "markdown",
   "metadata": {},
   "source": [
    "## for文による繰り返しとリスト・タプル\n",
    "\n",
    "きまった操作の繰り返しはコンピュータが最も得意とする処理のひとつです。\n",
    "リストのそれぞれの要素にわたって操作を繰り返したい場合は**for文**を用います。\n",
    "\n",
    "リスト `ls` の要素全てに対して、`実行文` を繰り返すには次のように書きます。\n",
    "\n",
    "---\n",
    "```Python\n",
    "for value in ls:\n",
    "    実行文\n",
    "```\n",
    "---\n",
    "\n",
    "`for` で始まる行の `in` の後に処理対象となるリスト `ls` が、`in` の前に変数 `value` が書かれます。\n",
    "\n",
    "`ls` の最初の要素、すなわち `ls[0]` が `value` に代入され `実行文` が処理されます。\n",
    "`実行文` の処理が終われば、`ls` の次の要素が `value` に代入され、処理が繰り返されます。\n",
    "このようにして、`ls` の要素に対する処理が `len(ls)` 回繰り返されると、for文の処理が終了します。　\n",
    "\n",
    "ここでの `in` の働きは、先に説明したリスト要素の有無を検査する `in` とは異なることに、\n",
    "そして、if文と同様、 `実行文` の前にはスペースが必要であることに注意してください。\n",
    "\n",
    "次に具体例を示します。\n",
    "3つの要素を持つリスト `ls` から1つずつ要素を取り出し、変数 `value` に代入しています。\n",
    "`実行文` では `value` を用いて取り出した要素を参照しています。"
   ]
  },
  {
   "cell_type": "code",
   "execution_count": null,
   "metadata": {},
   "outputs": [],
   "source": [
    "ls = [0,1,2]\n",
    "\n",
    "for value in ls:\n",
    "    print('For loop:', value)"
   ]
  },
  {
   "cell_type": "markdown",
   "metadata": {},
   "source": [
    "`in` の後に直接リストを記述することもできます。"
   ]
  },
  {
   "cell_type": "code",
   "execution_count": null,
   "metadata": {},
   "outputs": [],
   "source": [
    "for value in [0,1,2]:\n",
    "    print('For loop:', value)"
   ]
  },
  {
   "cell_type": "markdown",
   "metadata": {},
   "source": [
    "`実行文` の前にスペースがないとエラーが出ます。"
   ]
  },
  {
   "cell_type": "code",
   "execution_count": null,
   "metadata": {
    "tags": [
     "raises-exception"
    ]
   },
   "outputs": [],
   "source": [
    "for value in  [0,1,2]:\n",
    "print('For loop:', value)"
   ]
  },
  {
   "cell_type": "markdown",
   "metadata": {},
   "source": [
    "エラーが出れば意図した通りにプログラムが組めていないのにすぐ気が付きますが、\n",
    "エラーが出ないために意図したプログラムが組めていないことに気が付かないことがあります。\n",
    "たとえば、次のような内容を実行しようとしていたとします。"
   ]
  },
  {
   "cell_type": "code",
   "execution_count": null,
   "metadata": {},
   "outputs": [],
   "source": [
    "for value in  [0,1,2]:\n",
    "    print('During for loop:', value)\n",
    "    print('During for loop, too:', value)"
   ]
  },
  {
   "cell_type": "markdown",
   "metadata": {},
   "source": [
    "後者の `print` の行のスペースの数が間違ってると、次のような結果になる場合がありますので注意してください。"
   ]
  },
  {
   "cell_type": "code",
   "execution_count": null,
   "metadata": {},
   "outputs": [],
   "source": [
    "for value in [0,1,2]:\n",
    "    print('During for loop:', value)\n",
    "print('During for loop, too:', value) #この行のスペースの数が間違っていたがエラーは出ない"
   ]
  },
  {
   "cell_type": "markdown",
   "metadata": {},
   "source": [
    "タプルの要素にまたがる処理もリストと同様に行えます。"
   ]
  },
  {
   "cell_type": "code",
   "execution_count": null,
   "metadata": {},
   "outputs": [],
   "source": [
    "for value in (0,1,2):\n",
    "    print('For loop:', value)"
   ]
  },
  {
   "cell_type": "markdown",
   "metadata": {},
   "source": [
    "以下はリストに対するfor文の典型例です。`numbers` は数のリストとします。"
   ]
  },
  {
   "cell_type": "code",
   "execution_count": null,
   "metadata": {},
   "outputs": [],
   "source": [
    "numbers = [0,1,2,3,4,5]"
   ]
  },
  {
   "cell_type": "markdown",
   "metadata": {},
   "source": [
    "以下のようにして、このリストの要素の自乗から成るリストを求めることができます。"
   ]
  },
  {
   "cell_type": "code",
   "execution_count": null,
   "metadata": {},
   "outputs": [],
   "source": [
    "squares1 = []\n",
    "for x in numbers:\n",
    "    squares1.append(x**2)\n",
    "squares1"
   ]
  },
  {
   "cell_type": "markdown",
   "metadata": {},
   "source": [
    "`squares1` には最初に空リストが代入されます。\n",
    "そして、`numbers` の各要素の自乗がこのリストに次々と追加されます。"
   ]
  },
  {
   "cell_type": "markdown",
   "metadata": {},
   "source": [
    "## 練習\n",
    "整数の要素からなるリスト `ln` を引数として取り、`ln` の要素の総和を返す関数 `sum_list` を作成してください。\n",
    "\n",
    "以下のセルの `...` のところを書き換えて `sum_list(ln)` を作成してください。"
   ]
  },
  {
   "cell_type": "code",
   "execution_count": null,
   "metadata": {},
   "outputs": [],
   "source": [
    "def sum_list(ln):\n",
    "    ..."
   ]
  },
  {
   "cell_type": "markdown",
   "metadata": {},
   "source": [
    "上のセルで解答を作成した後、以下のセルを実行し、実行結果が全て True になることを確認してください。"
   ]
  },
  {
   "cell_type": "code",
   "execution_count": null,
   "metadata": {},
   "outputs": [],
   "source": [
    "print(sum_list([10, 20, 30]) == 60)\n",
    "print(sum_list([-1, 2, -3, 4, -5]) == -3)"
   ]
  },
  {
   "cell_type": "markdown",
   "metadata": {},
   "source": [
    "##  for文による繰り返しと文字列\n",
    "\n",
    "for文を使うと文字列全体にまたがる処理も可能です。\n",
    "文字列 `str1` をまたがって一文字ずつの繰り返し処理を行う場合は次のように書きます。\n",
    "ここで、`c` には取り出された一文字（の文字列）が代入されています。\n",
    "\n",
    "---\n",
    "```Python\n",
    "for c in str1:\n",
    "    実行文\n",
    "```\n",
    "---\n",
    "\n",
    "`str1` で与えられる文字列を一文字ずつ大文字で出力する処理は以下のようになります。"
   ]
  },
  {
   "cell_type": "code",
   "execution_count": null,
   "metadata": {},
   "outputs": [],
   "source": [
    "str1 = 'Apple and pen'\n",
    "for c in str1:\n",
    "    print(c.upper())"
   ]
  },
  {
   "cell_type": "markdown",
   "metadata": {},
   "source": [
    "## 練習\n",
    "\n",
    "ATGCの4種類の文字から成る文字列 `str_atgc` が引数として与えられたとき、次のようなリスト `list_count` を返す関数 `atgc_countlist` を作成してください。ただし、 `list_count` の要素は、各塩基 `bp` に対して `str_atgc` 中の `bp` の出現回数と `bp` の名前を格納した（長さ2の）リストとします。\n",
    "\n",
    "ヒント：文字列 `'ATGC'` に対する繰り返しを用いることができます。\n",
    "\n",
    "以下のセルの `...` のところを書き換えて `atgc_countlist(str_atgc)` を作成してください。"
   ]
  },
  {
   "cell_type": "code",
   "execution_count": null,
   "metadata": {},
   "outputs": [],
   "source": [
    "def atgc_countlist(str_atgc):\n",
    "    ..."
   ]
  },
  {
   "cell_type": "markdown",
   "metadata": {},
   "source": [
    "上のセルで解答を作成した後、以下のセルを実行し、実行結果が `True` になることを確認してください。"
   ]
  },
  {
   "cell_type": "code",
   "execution_count": null,
   "metadata": {
    "tags": [
     "raises-exception"
    ]
   },
   "outputs": [],
   "source": [
    "print(sorted(atgc_countlist('AAGCCCCATGGTAA')) == sorted([[5, 'A'], [2, 'T'], [3, 'G'], [4, 'C']]))"
   ]
  },
  {
   "cell_type": "markdown",
   "metadata": {},
   "source": [
    "## for文によるリスト初期化の短縮記法\n",
    "\n",
    "先に、リストの要素の自乗から成るリストを求める例を説明しました。"
   ]
  },
  {
   "cell_type": "code",
   "execution_count": null,
   "metadata": {},
   "outputs": [],
   "source": [
    "numbers = [0,1,2,3,4,5]\n",
    "\n",
    "squares1 = []\n",
    "for x in numbers:\n",
    "    squares1.append(x**2)\n",
    "squares1"
   ]
  },
  {
   "cell_type": "markdown",
   "metadata": {},
   "source": [
    "詳しくは6-1で説明されますが、**内包表記**を用いて書き換えると、以下のように1行で書くことができます。"
   ]
  },
  {
   "cell_type": "code",
   "execution_count": null,
   "metadata": {},
   "outputs": [],
   "source": [
    "squares2 = [x**2 for x in numbers]\n",
    "squares2"
   ]
  },
  {
   "cell_type": "markdown",
   "metadata": {},
   "source": [
    "すなわち、\n",
    "```Python\n",
    "[x を含む式 for x in リストを返す式]\n",
    "```\n",
    "という式は、\"リストを返す式\" が返したリストの各要素を `x` に代入して \"`x` を含む式\" を計算し、\n",
    "その結果をリストにして返します。\n",
    "もちろん、変数は `x` でなくてもよいです。"
   ]
  },
  {
   "cell_type": "code",
   "execution_count": null,
   "metadata": {},
   "outputs": [],
   "source": [
    "[y**2 for y in numbers]"
   ]
  },
  {
   "cell_type": "markdown",
   "metadata": {},
   "source": [
    "## ▲オブジェクトの等価性と同一性\n",
    "\n",
    "1-3で、Pythonにおける値はオブジェクトと総称されますと述べました。\n",
    "ここでは、オブジェクトの等価性と同一性について説明します。\n",
    "\n",
    "既に見てきたように、演算子 `==` を用いて**オブジェクトの等価性**を判定できます。"
   ]
  },
  {
   "cell_type": "code",
   "execution_count": null,
   "metadata": {},
   "outputs": [],
   "source": [
    "a = []\n",
    "b = []"
   ]
  },
  {
   "cell_type": "markdown",
   "metadata": {},
   "source": [
    "このとき、`a` と `b` の値はどちらも空リストなので、以下のように `a` の値と `b` の値は等価です。"
   ]
  },
  {
   "cell_type": "code",
   "execution_count": null,
   "metadata": {},
   "outputs": [],
   "source": [
    "a == b"
   ]
  },
  {
   "cell_type": "markdown",
   "metadata": {},
   "source": [
    "しかし、`[`  で始まり `]` で終わる式を評価すると、\n",
    "必ず新しいリスト（オブジェクト）が作られて返されるので、\n",
    "`a` と `b` の値は同一ではありません。\n",
    "\n",
    "**オブジェクトの同一性**は演算子 **`is`** を用いて判定できます。"
   ]
  },
  {
   "cell_type": "code",
   "execution_count": null,
   "metadata": {},
   "outputs": [],
   "source": [
    "a is b"
   ]
  },
  {
   "cell_type": "markdown",
   "metadata": {},
   "source": [
    "リストの要素はオブジェクトなので、要素ごとに等価性と同一性が定まります。\n",
    "\n",
    "例として、`a` と `b` を要素とするリスト `c` を作ります。"
   ]
  },
  {
   "cell_type": "code",
   "execution_count": null,
   "metadata": {},
   "outputs": [],
   "source": [
    "c = [a, b]\n",
    "c"
   ]
  },
  {
   "cell_type": "code",
   "execution_count": null,
   "metadata": {},
   "outputs": [],
   "source": [
    "c[0] is c[1]"
   ]
  },
  {
   "cell_type": "markdown",
   "metadata": {},
   "source": [
    "`a` を変化させてみましょう。"
   ]
  },
  {
   "cell_type": "code",
   "execution_count": null,
   "metadata": {},
   "outputs": [],
   "source": [
    "a.append(1)\n",
    "a"
   ]
  },
  {
   "cell_type": "markdown",
   "metadata": {},
   "source": [
    "すると `c` は以下のようになります。"
   ]
  },
  {
   "cell_type": "code",
   "execution_count": null,
   "metadata": {},
   "outputs": [],
   "source": [
    "c"
   ]
  },
  {
   "cell_type": "markdown",
   "metadata": {},
   "source": [
    "ここで、`a` と `b` は等価でなくなりました。"
   ]
  },
  {
   "cell_type": "code",
   "execution_count": null,
   "metadata": {},
   "outputs": [],
   "source": [
    "a == b"
   ]
  },
  {
   "cell_type": "markdown",
   "metadata": {},
   "source": [
    "次に、`b` を要素として二重に含むリスト `d` を作ります。"
   ]
  },
  {
   "cell_type": "code",
   "execution_count": null,
   "metadata": {},
   "outputs": [],
   "source": [
    "d = [b, b]\n",
    "d"
   ]
  },
  {
   "cell_type": "code",
   "execution_count": null,
   "metadata": {},
   "outputs": [],
   "source": [
    "d[0] is d[1]"
   ]
  },
  {
   "cell_type": "markdown",
   "metadata": {},
   "source": [
    "`b` を変化させてみましょう。"
   ]
  },
  {
   "cell_type": "code",
   "execution_count": null,
   "metadata": {},
   "outputs": [],
   "source": [
    "b.append(1)\n",
    "b"
   ]
  },
  {
   "cell_type": "markdown",
   "metadata": {},
   "source": [
    "すると `d` は以下のようになります。"
   ]
  },
  {
   "cell_type": "code",
   "execution_count": null,
   "metadata": {},
   "outputs": [],
   "source": [
    "d"
   ]
  },
  {
   "cell_type": "markdown",
   "metadata": {},
   "source": [
    "演算子 `==` でリストを比較すると、要素まで見て等価性を判定します。"
   ]
  },
  {
   "cell_type": "code",
   "execution_count": null,
   "metadata": {},
   "outputs": [],
   "source": [
    "print(a, b)\n",
    "a == b"
   ]
  },
  {
   "cell_type": "markdown",
   "metadata": {},
   "source": [
    "演算子 `==` は、要素の比較も `==` で行います。"
   ]
  },
  {
   "cell_type": "code",
   "execution_count": null,
   "metadata": {},
   "outputs": [],
   "source": [
    "print(c, d)\n",
    "c == d"
   ]
  },
  {
   "cell_type": "markdown",
   "metadata": {},
   "source": [
    "一方、オブジェクトの同一性は変化しません。"
   ]
  },
  {
   "cell_type": "code",
   "execution_count": null,
   "metadata": {},
   "outputs": [],
   "source": [
    "a is b"
   ]
  },
  {
   "cell_type": "markdown",
   "metadata": {},
   "source": [
    "`==` の否定形は `!=` で、`is` の否定形は **`is not`** です。\n",
    "`not x == y` は `x != y` と書けます。`not x is y` は `x is not y` と書けます。\n",
    "`is not` はこれで1つの演算子なので注意してください。"
   ]
  },
  {
   "cell_type": "code",
   "execution_count": null,
   "metadata": {},
   "outputs": [],
   "source": [
    "c != d"
   ]
  },
  {
   "cell_type": "code",
   "execution_count": null,
   "metadata": {},
   "outputs": [],
   "source": [
    "a is not b"
   ]
  },
  {
   "cell_type": "markdown",
   "metadata": {},
   "source": [
    "## 練習の解答"
   ]
  },
  {
   "cell_type": "code",
   "execution_count": null,
   "metadata": {},
   "outputs": [],
   "source": [
    "def remove_evenindex(ln):\n",
    "    ln2 = ln[1::2]\n",
    "    return ln2\n",
    "#remove_evenindex(['a', 'b', 'c', 'd', 'e', 'f', 'g'])"
   ]
  },
  {
   "cell_type": "code",
   "execution_count": null,
   "metadata": {},
   "outputs": [],
   "source": [
    "def count_words(str_engsentences):\n",
    "    list_str1 = str_engsentences.split(' ')\n",
    "    return len(list_str1)\n",
    "#count_words('From Stettin in the Baltic to Trieste in the Adriatic an iron curtain has descended across the Continent.')"
   ]
  },
  {
   "cell_type": "code",
   "execution_count": null,
   "metadata": {},
   "outputs": [],
   "source": [
    "def reverse_totuple(ln):\n",
    "    ln.reverse()\n",
    "    tup = tuple(ln)\n",
    "    return tup\n",
    "#reverse_totuple([1, 2, 3, 4, 5])"
   ]
  },
  {
   "cell_type": "code",
   "execution_count": null,
   "metadata": {},
   "outputs": [],
   "source": [
    "def sum_list(ln):\n",
    "    int_sum = 0\n",
    "    for value in ln:\n",
    "        int_sum += value\n",
    "    return int_sum\n",
    "#sum_list([10, 20, 30])"
   ]
  },
  {
   "cell_type": "code",
   "execution_count": null,
   "metadata": {},
   "outputs": [],
   "source": [
    "def atgc_countlist(str_atgc):\n",
    "    list_count = []\n",
    "    for value in 'ATGC':\n",
    "        int_bpcnt = str_atgc.count(value)\n",
    "        list_count.append([int_bpcnt, value])\n",
    "    return list_count\n",
    "#atgc_countlist('AAGCCCCATGGTAA') "
   ]
  },
  {
   "cell_type": "code",
   "execution_count": null,
   "metadata": {},
   "outputs": [],
   "source": []
  }
 ],
 "metadata": {
  "kernelspec": {
   "display_name": "Python 3",
   "language": "python",
   "name": "python3"
  },
  "language_info": {
   "name": "python"
  }
 },
 "nbformat": 4,
 "nbformat_minor": 2
}
