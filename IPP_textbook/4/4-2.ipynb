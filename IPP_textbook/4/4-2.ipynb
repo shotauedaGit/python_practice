{
 "cells": [
  {
   "cell_type": "markdown",
   "metadata": {},
   "source": [
    "# 4-2. イテレータ\n",
    "イテレータについて簡単に説明します。\n",
    "\n",
    "参考\n",
    "\n",
    "- https://docs.python.org/ja/3/tutorial/classes.html#iterators"
   ]
  },
  {
   "cell_type": "markdown",
   "metadata": {},
   "source": [
    "## `next`\n",
    "\n",
    "ファイルオブジェクトは、**イテレータ**と呼ばれるオブジェクトの一種です。\n",
    "（1-3で説明があったように、Pythonにおける値はオブジェクトと総称されます。）\n",
    "iterateは繰り返すという意味ですよね。\n",
    "イテレータは、その要素を1つずつ取り出す処理が可能なオブジェクトで、\n",
    "**`next`** という関数でその処理を1回分行うことができます。\n",
    "\n",
    "変数 `f` にファイルオブジェクトが入っているとすると、\n",
    "`next(f)` は、ファイルから新たに1行を読んで文字列として返します。"
   ]
  },
  {
   "cell_type": "code",
   "execution_count": null,
   "metadata": {},
   "outputs": [],
   "source": [
    "f = open('sample.txt', 'r')"
   ]
  },
  {
   "cell_type": "code",
   "execution_count": null,
   "metadata": {},
   "outputs": [],
   "source": [
    "next(f)"
   ]
  },
  {
   "cell_type": "code",
   "execution_count": null,
   "metadata": {},
   "outputs": [],
   "source": [
    "next(f)"
   ]
  },
  {
   "cell_type": "code",
   "execution_count": null,
   "metadata": {},
   "outputs": [],
   "source": [
    "next(f)"
   ]
  },
  {
   "cell_type": "code",
   "execution_count": null,
   "metadata": {
    "tags": [
     "raises-exception"
    ]
   },
   "outputs": [],
   "source": [
    "next(f)"
   ]
  },
  {
   "cell_type": "markdown",
   "metadata": {},
   "source": [
    "`f` をファイルオブジェクトとしたとき、\n",
    "`f.readline()` と `next(f)` は、ほぼ同じで、\n",
    "ファイルから新たに1行を読んで文字列として返します。\n",
    "\n",
    "ただし、`f.readline()` と `next(f)` では、ファイルの終わりに来たときの挙動が異なります。\n",
    "`f.readline()` は `''` という空文字列を返すのですが、\n",
    "`next(f)` は **`StopIteration`** というエラーを発します。\n",
    "以下で説明するfor文は、このエラーを検知しています。\n",
    "つまり、`next(f)` が `StopIteration` を発したらforループから抜け出します。\n",
    "\n",
    "このように、関数 `next` が適用できて、\n",
    "`next` が何らかの値を返すか、`StopIteration` を発するようなオブジェクトを、\n",
    "イテレータと呼びます。"
   ]
  },
  {
   "cell_type": "code",
   "execution_count": null,
   "metadata": {},
   "outputs": [],
   "source": [
    "f.close()"
   ]
  },
  {
   "cell_type": "markdown",
   "metadata": {},
   "source": [
    "## for文による繰り返しとファイルオブジェクト\n",
    "\n",
    "一般に、イテレータは、for文の `in` の後に指定することができます。\n",
    "\n",
    "したがって、以下のように、ファイルオブジェクトを値とする変数 `f` を、\n",
    "for文の `in` の後に指定することができます。\n",
    "\n",
    "---\n",
    "```Python\n",
    "for line in f:\n",
    "    ...\n",
    "```\n",
    "---\n",
    "\n",
    "繰り返しの各ステップで、`next(f)` が呼び出されて、\n",
    "変数 `line` にその値が設定され、for文の中身が実行されます。\n",
    "\n",
    "以下の例を見てください。"
   ]
  },
  {
   "cell_type": "code",
   "execution_count": null,
   "metadata": {},
   "outputs": [],
   "source": [
    "with open('sample.txt', 'r') as f:\n",
    "    for line in f:\n",
    "        print(line)"
   ]
  },
  {
   "cell_type": "markdown",
   "metadata": {},
   "source": [
    "ファイルオブジェクトに対して、一度for文で処理をすると、\n",
    "繰り返し処理がファイルの終わりまで達しているので、\n",
    "もう一度同じファイルオブジェクトをfor文に与えても何も実行されません。"
   ]
  },
  {
   "cell_type": "code",
   "execution_count": null,
   "metadata": {},
   "outputs": [],
   "source": [
    "with open('sample.txt', 'r') as f:\n",
    "    print('---- 最初 ----')\n",
    "    for line in f:\n",
    "        print(line)\n",
    "    print('---- もう一度 ----')\n",
    "    for line in f:\n",
    "        print(line)"
   ]
  },
  {
   "cell_type": "markdown",
   "metadata": {},
   "source": [
    "ファイルをfor文によって二度読みたい場合は、\n",
    "もう一度ファイルをオープンして、ファイルのオブジェクトを新たに生成してください。"
   ]
  },
  {
   "cell_type": "markdown",
   "metadata": {},
   "source": [
    "## 練習\n",
    "文字列 `name` をファイル名とするファイルの最後の行を文字列として返す関数 `last_line(name)` を、\n",
    "ファイルオブジェクトに対するfor文を用いて定義してください。"
   ]
  },
  {
   "cell_type": "code",
   "execution_count": null,
   "metadata": {},
   "outputs": [],
   "source": [
    "def last_line(name):\n",
    "    ..."
   ]
  },
  {
   "cell_type": "markdown",
   "metadata": {},
   "source": [
    "上のセルで解答を作成した後、以下のセルを実行し、実行結果が `True` になることを確認してください。"
   ]
  },
  {
   "cell_type": "code",
   "execution_count": null,
   "metadata": {
    "tags": [
     "raises-exception"
    ]
   },
   "outputs": [],
   "source": [
    "print(last_line('sample.txt')==\"Excepteur sint occaecat cupidatat non proident, sunt in culpa qui officia deserunt mollit anim id est laborum.\\n\")"
   ]
  },
  {
   "cell_type": "markdown",
   "metadata": {},
   "source": [
    "## `iter`\n",
    "\n",
    "いうまでもなく、リスト対してfor文を用いることができますが、リストはイテレータでしょうか。"
   ]
  },
  {
   "cell_type": "code",
   "execution_count": null,
   "metadata": {
    "tags": [
     "raises-exception"
    ]
   },
   "outputs": [],
   "source": [
    "next([1,2,3])"
   ]
  },
  {
   "cell_type": "markdown",
   "metadata": {},
   "source": [
    "リストに対して `next` を適用するとエラーになってしまいます。\n",
    "したがって、リストはイテレータではありません。\n",
    "\n",
    "では、なぜリストに対してfor文が適用できるのでしょう。\n",
    "\n",
    "実は、for文の `in` の後に指定されたオブジェクトに対しては、\n",
    "必ず **`iter`** という組み込み関数が適用される、という仕掛けになっているのです。\n",
    "\n",
    "実際に、リストに `iter` を適用してみましょう。"
   ]
  },
  {
   "cell_type": "code",
   "execution_count": null,
   "metadata": {},
   "outputs": [],
   "source": [
    "it = iter([1,2,3])"
   ]
  },
  {
   "cell_type": "markdown",
   "metadata": {},
   "source": [
    "変数 `it` には、リスト `[1,2,3]` から作ったイテレータが入っています。"
   ]
  },
  {
   "cell_type": "code",
   "execution_count": null,
   "metadata": {},
   "outputs": [],
   "source": [
    "it"
   ]
  },
  {
   "cell_type": "code",
   "execution_count": null,
   "metadata": {},
   "outputs": [],
   "source": [
    "next(it)"
   ]
  },
  {
   "cell_type": "code",
   "execution_count": null,
   "metadata": {},
   "outputs": [],
   "source": [
    "next(it)"
   ]
  },
  {
   "cell_type": "code",
   "execution_count": null,
   "metadata": {},
   "outputs": [],
   "source": [
    "next(it)"
   ]
  },
  {
   "cell_type": "code",
   "execution_count": null,
   "metadata": {
    "tags": [
     "raises-exception"
    ]
   },
   "outputs": [],
   "source": [
    "next(it)"
   ]
  },
  {
   "cell_type": "markdown",
   "metadata": {},
   "source": [
    "ここで、もう一度イテレータを作り直しましょう。"
   ]
  },
  {
   "cell_type": "code",
   "execution_count": null,
   "metadata": {},
   "outputs": [],
   "source": [
    "it = iter([1,2,3])"
   ]
  },
  {
   "cell_type": "markdown",
   "metadata": {},
   "source": [
    "このイテレータに対して以下のようにfor文を用いると、もとのリストの要素が網羅されます。"
   ]
  },
  {
   "cell_type": "code",
   "execution_count": null,
   "metadata": {},
   "outputs": [],
   "source": [
    "for x in it:\n",
    "    print(x)"
   ]
  },
  {
   "cell_type": "markdown",
   "metadata": {},
   "source": [
    "ファイルの場合と同様に、もう一回for文を回しても何も出力されません。"
   ]
  },
  {
   "cell_type": "code",
   "execution_count": null,
   "metadata": {},
   "outputs": [],
   "source": [
    "for x in it:\n",
    "    print(x)"
   ]
  },
  {
   "cell_type": "markdown",
   "metadata": {},
   "source": [
    "もう一度説明すると、for文の `in` の後に指定されたオブジェクトに対しては、\n",
    "必ず `iter` という組み込み関数が適用されて、イテレータが得られます。\n",
    "そして、そのイテレータに対して `next` が次々と呼ばれます。\n",
    "\n",
    "では、for文の `in` の後にイテレータが指定されるとどうなるでしょうか。\n",
    "やはり、`iter` が適用されるのですが、\n",
    "Pythonでは、イテレータに対して `iter` が適用されても、\n",
    "そのイテレータ自身が返ります。"
   ]
  },
  {
   "cell_type": "code",
   "execution_count": null,
   "metadata": {},
   "outputs": [],
   "source": [
    "with open('sample.txt', 'r') as f:\n",
    "    print(f is iter(f))"
   ]
  },
  {
   "cell_type": "markdown",
   "metadata": {},
   "source": [
    "**`is`** は、2-2に説明がありますが、その両辺が同じオブジェクトかどうかを調べる演算子です。"
   ]
  },
  {
   "cell_type": "markdown",
   "metadata": {},
   "source": [
    "## 練習\n",
    "\n",
    "リストをもらって、そのイテレータを作り、最初の要素だけ取り出した後、\n",
    "そのイテレータを返す関数 `but_first(ls)` を定義してください。"
   ]
  },
  {
   "cell_type": "code",
   "execution_count": null,
   "metadata": {},
   "outputs": [],
   "source": [
    "def but_first(ls):\n",
    "    ..."
   ]
  },
  {
   "cell_type": "markdown",
   "metadata": {},
   "source": [
    "上のセルで解答を作成した後、以下のセルを実行し、実行結果が `True` になることを確認してください。"
   ]
  },
  {
   "cell_type": "code",
   "execution_count": null,
   "metadata": {
    "tags": [
     "raises-exception"
    ]
   },
   "outputs": [],
   "source": [
    "it = but_first([0,2,4,6,8])\n",
    "print(type(it) == type(iter([])))\n",
    "print(list(it) == [2,4,6,8])"
   ]
  },
  {
   "cell_type": "markdown",
   "metadata": {},
   "source": [
    "## イテラブル\n",
    "\n",
    "一般に、関数 `iter` が適用できるオブジェクトを**イテラブル**と呼びます。\n",
    "イテラブルは、for文の `in` の後に指定することができます。\n",
    "\n",
    "イテレータに `iter` を適用すると自分自身が返るので、イテレータはイテラブルでもあります。\n",
    "\n",
    "リストはイテラブルですが、イテレータではありません。"
   ]
  },
  {
   "cell_type": "code",
   "execution_count": null,
   "metadata": {},
   "outputs": [],
   "source": [
    "ln = [1,2,3]\n",
    "for x in ln:\n",
    "    print(x)\n",
    "for x in ln:\n",
    "    print(x)"
   ]
  },
  {
   "cell_type": "markdown",
   "metadata": {},
   "source": [
    "上の例では、2つのfor文ごとに、`ln` に `iter` が適用されて、別々のイテレータが作られたのです。\n",
    "\n",
    "関数 **`range`** が返すオブジェクトもイテラブルですが、イテレータではありません。"
   ]
  },
  {
   "cell_type": "code",
   "execution_count": null,
   "metadata": {},
   "outputs": [],
   "source": [
    "r = range(3)\n",
    "for x in r:\n",
    "    print(x)\n",
    "for x in r:\n",
    "    print(x)"
   ]
  },
  {
   "cell_type": "markdown",
   "metadata": {},
   "source": [
    "## イテレータを返す `enumerate`\n",
    "\n",
    "3-2で紹介した組み込み関数の **`enumerate()`** は、イテレータを返します。"
   ]
  },
  {
   "cell_type": "code",
   "execution_count": null,
   "metadata": {},
   "outputs": [],
   "source": [
    "it = enumerate([10,20,30])"
   ]
  },
  {
   "cell_type": "code",
   "execution_count": null,
   "metadata": {},
   "outputs": [],
   "source": [
    "next(it)"
   ]
  },
  {
   "cell_type": "code",
   "execution_count": null,
   "metadata": {},
   "outputs": [],
   "source": [
    "for x in it:\n",
    "    print(x)"
   ]
  },
  {
   "cell_type": "code",
   "execution_count": null,
   "metadata": {},
   "outputs": [],
   "source": [
    "for i, c in enumerate('ACDB'):\n",
    "    print(i, '番目の文字 =', c)"
   ]
  },
  {
   "cell_type": "markdown",
   "metadata": {},
   "source": [
    "一方、`enumerate` はイテラブルを引数として受け取ります。上の例で、リストも文字列もイテラブルです。\n",
    "\n",
    "イテレータもイテラブルなので、`enumerate` の引数になり得ます。\n",
    "たとえば、ファイルオブジェクトはイテレータなので、以下のように `enumerate` の引数になります。"
   ]
  },
  {
   "cell_type": "code",
   "execution_count": null,
   "metadata": {},
   "outputs": [],
   "source": [
    "with open('sample.txt', 'r') as f:\n",
    "    for i, s in enumerate(f):\n",
    "        print(i, '行目:')\n",
    "        print(s)"
   ]
  },
  {
   "cell_type": "markdown",
   "metadata": {},
   "source": [
    "変数 `i` は `0` から順に増えていきます。変数 `s` には各行の文字列が代入されます。\n",
    "`i` は `0` から始まりますが、各行の行番号と考えられます。"
   ]
  },
  {
   "cell_type": "markdown",
   "metadata": {},
   "source": [
    "## 練習の解答"
   ]
  },
  {
   "cell_type": "code",
   "execution_count": null,
   "metadata": {},
   "outputs": [],
   "source": [
    "def last_line(name):\n",
    "    f = open(name, 'r')\n",
    "    for line in f:\n",
    "        pass\n",
    "    f.close()\n",
    "    return line"
   ]
  },
  {
   "cell_type": "code",
   "execution_count": null,
   "metadata": {},
   "outputs": [],
   "source": [
    "def but_first(ls):\n",
    "    it = iter(ls)\n",
    "    next(it)\n",
    "    return it"
   ]
  },
  {
   "cell_type": "code",
   "execution_count": null,
   "metadata": {},
   "outputs": [],
   "source": []
  }
 ],
 "metadata": {
  "kernelspec": {
   "display_name": "Python 3",
   "language": "python",
   "name": "python3"
  },
  "language_info": {
   "name": "python"
  }
 },
 "nbformat": 4,
 "nbformat_minor": 2
}
