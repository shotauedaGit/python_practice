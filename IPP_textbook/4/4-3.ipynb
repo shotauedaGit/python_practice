{
 "cells": [
  {
   "cell_type": "markdown",
   "metadata": {},
   "source": [
    "# 4-3. コンピュータにおけるファイルやディレクトリの配置\n",
    "\n",
    "木構造のデータ形式について説明します。\n",
    "この内容はPython言語に限らず、WindowsやMac、Linuxなどの一般的なOSにおいて共通する概念です。\n",
    "Colaboratoryでは、同様の構造が仮想環境上に作られます。\n",
    "\n",
    "みなさん、Windowsではエクスプローラ、MacではFinderを使ってファイルを階層的に保存していますよね。\n",
    "\n",
    "下の例では、Windowsで `ドキュメント`（`Documents`) という名前のフォルダの中に\n",
    "`Python入門` というフォルダを作り、\n",
    "その下にこの教材を置いた時の、エクスプローラの様子を表しています。\n",
    "\n",
    "![エクスプローラ](fig/Explore.png)\n"
   ]
  },
  {
   "cell_type": "markdown",
   "metadata": {},
   "source": [
    "これは Jupyter Notebook では以下のように見えます。\n",
    "\n",
    "![Jupyter Notebook](fig/jupyterTree.png)"
   ]
  },
  {
   "cell_type": "markdown",
   "metadata": {},
   "source": [
    "このようなデータ形式は以下のような図で表すこともできます。\n",
    "まるで木を逆さにしたような形に見えますね。\n",
    "ですからこのようなデータの形式を「木構造」と呼びます。\n",
    "\n",
    "また、一番根っこにあたるデータを「ルート（根）」、先端にあたるデータを「リーフ（葉）」、その間にあるデータを「ノード（節）」と呼びます。\n",
    "\n",
    "![Jupyter Notebook tree](fig/jupyterTreeIllust.png) \n",
    "\n",
    "\n",
    "データの保存においては、ファイルはリーフ（葉）に相当し、フォルダはノード（節）に相当します。\n",
    "ルートはハードディスクやUSBメモリなど記録媒体自体に対応することが多いです。\n",
    "ハードディスクに入っているファイルと、USBメモリに入っているファイルは、それぞれ違う木に属するデータということです。"
   ]
  },
  {
   "cell_type": "markdown",
   "metadata": {},
   "source": [
    "## カレントディレクトリ\n",
    "\n",
    "4-1で `sample.txt` という名前のファイルをオープンするときに、以下のように書きました。\n",
    "\n",
    "---\n",
    "\n",
    "```python\n",
    "f = open('sample.txt', 'r')\n",
    "```\n",
    "\n",
    "---\n",
    "\n",
    "このとき、この `sample.txt` というファイルはどこにあるのでしょうか？\n",
    "\n",
    "実は、プログラムを実行するときは、どこかのディレクトリを**カレントディレクトリ**としています。\n",
    "Jupyter Notebook では、そのノートブックが置かれているディレクトリをカレントディレクトリとします。\n",
    "Colaboratoryでも同様です。\n",
    "\n",
    "`sample.txt` が、このノートブックと同じディレクトリの中に置かれているならば（実際、置かれています）、\n",
    "上のようにして `sample.txt` を開くことができました。\n",
    "\n",
    "一方、`novel.txt` はこのノートブックと同じフォルダではなく、そこに置かれた `text` という名前のフォルダの中に\n",
    "置かれているファイルです。\n",
    "ですから、そのままファイル名だけを指定して開こうとすると以下のようにエラーが出て、ファイルのオープンに失敗します。"
   ]
  },
  {
   "cell_type": "markdown",
   "metadata": {},
   "source": [
    "---\n",
    "\n",
    "```python\n",
    "f = open('novel.txt', 'r', encoding='utf-8')\n",
    "```\n",
    "\n",
    "---\n",
    "\n",
    "```\n",
    "---------------------------------------------------------------------------\n",
    "FileNotFoundError                         Traceback (most recent call last)\n",
    "<ipython-input-1-6094f6eff0eb> in <module>\n",
    "----> 1 f = open('novel.txt', 'r', encoding='utf-8')\n",
    "\n",
    "FileNotFoundError: [Errno 2] No such file or directory: 'novel.txt'\n",
    "```"
   ]
  },
  {
   "cell_type": "markdown",
   "metadata": {},
   "source": [
    "ではどうやったら「カレントディレクトリの下の `text` の下」にある「`novel.txt`」を開けるのでしょうか？\n",
    "\n",
    "これは次のように行います。\n",
    "\n",
    "---\n",
    "\n",
    "```python\n",
    "f = open('text/novel.txt', 'r', encoding='utf-8')\n",
    "```\n",
    "\n",
    "---\n",
    "\n",
    "このようにすることによって、「カレントディレクトリの下の `text` の下にある `novel.txt` を開いてください」と指示することができます。\n",
    "\n",
    "これは、カレントディレクトリから「`novel.txt`」までの経路（行き方）を表したものなので**パス**とも呼びます。"
   ]
  },
  {
   "cell_type": "code",
   "execution_count": null,
   "metadata": {},
   "outputs": [],
   "source": [
    "f = open('text/novel.txt', 'r', encoding='utf-8')\n",
    "print(f.read())\n",
    "f.close()"
   ]
  },
  {
   "cell_type": "markdown",
   "metadata": {},
   "source": [
    "## 相対パスと絶対パス\n",
    "\n",
    "`text/novel.txt` という表現では、カレントディレクトリから `novel.txt` までのパスを表しています。\n",
    "ここで、カレントディレクトリはノートブックの場所になるので、\n",
    "どの場所に置かれたノートブックを開いているかによってカレントディレクトリが変わり、\n",
    "それに応じて、同じファイルでもパスが変わります。\n",
    "\n",
    "このようなパスの表現を**相対パス**と呼びます。\n",
    "\n",
    "一方、\n",
    "\n",
    "* Windowsの場合: `C:\\Users\\hagiya\\Douments\\Python入門\\novel1.txt`\n",
    "* macOSの場合: `/Users/hagiya/Documents/Python入門/novel1.txt`\n",
    "\n",
    "のように、ルートからのパスを記した場合、\n",
    "カレントディレクトリの場所に関わらず、常に同じファイルを指すことができます。\n",
    "\n",
    "このようなパスの表現を**絶対パス**と呼びます。\n",
    "\n",
    "ところで、カレントディレクトリより下にあるファイルは、\n",
    "そこまでに入るディレクトリ名を（Windowsであっても）`/` で区切って書けばよいですが、\n",
    "その下にないファイルを指すにはどうしたらよいでしょうか？ \n",
    "\n",
    "たとえば下の図のようにカレントディレクトリが\n",
    "\n",
    "* Windows: `C:\\Users\\hagiya\\Douments\\Python入門`\n",
    "* macOS: `/Users/hagiya/Documents/Python入門`\n",
    "\n",
    "のとき、\n",
    "\n",
    "* Windows: `C:\\Users\\hagiya\\Douments\\メディアプログラミング入門\\imagelist.csv`\n",
    "* macOS: `/Users/hagiya/Douments/メディアプログラミング入門/imagelist.csv`\n",
    "\n",
    "を開きたい場合はどうしたらよいでしょう？\n",
    "\n",
    "![Jupyter Notebook tree](fig/jupyterTreeIllust2.png)\n",
    "\n",
    "実は、1つ上のディレクトリを `..`（ピリオド2つ）で表現することができます。\n",
    "上の例だと、  \n",
    "\n",
    "---\n",
    "\n",
    "```python\n",
    "f = open('../メディアプログラミング入門/imagelist.csv', 'r')\n",
    "```\n",
    "\n",
    "---\n",
    "\n",
    "とすれば、\n",
    "\n",
    "* Windows: `C:\\Users\\hagiya\\Douments\\メディアプログラミング入門\\imagelist.csv`\n",
    "* macOS: `/Users/hagiya/Douments/メディアプログラミング入門/imagelist.csv`\n",
    "\n",
    "を開くことができます。\n",
    "`..` によって、`Python入門` から1段上の `Documents` に戻り、\n",
    "そこから `メディアプログラミング入門` の下の `imagelist.csv` と辿っているわけです。"
   ]
  },
  {
   "cell_type": "markdown",
   "metadata": {},
   "source": [
    "## 木構造によるデータ表現\n",
    "\n",
    "木構造はファイルやディレクトリの保存形式だけでなく、データの表現として幅広く利用されます。\n",
    "たとえば家系図も木構造による表現です。「家系図」は英語で \"family tree\" ですよね。\n",
    "\n",
    "![Family tree](fig/FamilyTree.png)\n",
    "\n",
    "このような構造を持つデータでは、まるで家系図のように、\n",
    "上位下位関係にあるデータ同士を「親子 (parent/child)」と呼んだり、\n",
    "同位関係にあるものを「兄妹 (sibling)」と呼んだりします。\n",
    "「祖先 (ancestor)」や「子孫 (desendant)」という表現も使われます。\n",
    "\n",
    "データのこのような表現は、実際に親子関係にあるかは関係ありません。\n",
    "たとえば下の図は四肢動物の系統樹です。\n",
    "\n",
    "![tree](fig/PhylogeneticTree.png)\n",
    "\n",
    "データ構造的には、「有羊膜類」と「哺乳類」は親子関係にあるというわけです。"
   ]
  },
  {
   "cell_type": "code",
   "execution_count": null,
   "metadata": {},
   "outputs": [],
   "source": []
  }
 ],
 "metadata": {
  "kernelspec": {
   "display_name": "Python 3",
   "language": "python",
   "name": "python3"
  },
  "language_info": {
   "name": "python"
  }
 },
 "nbformat": 4,
 "nbformat_minor": 2
}
