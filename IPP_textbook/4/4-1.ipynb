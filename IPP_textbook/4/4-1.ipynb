{
 "cells": [
  {
   "cell_type": "markdown",
   "metadata": {},
   "source": [
    "# 4-1. ファイル入出力の基本\n",
    "ファイル入出力の基本について説明します。\n",
    "\n",
    "参考\n",
    "\n",
    "- https://docs.python.org/ja/3/tutorial/inputoutput.html#reading-and-writing-files\n",
    "\n",
    "## ファイルのオープン\n",
    "**ファイル**から文字列を読み込んだり、ファイルに書き込んだりするには、\n",
    "まず、**`open()`** という関数によってファイルを**オープン**する（開く）必要があります。"
   ]
  },
  {
   "cell_type": "code",
   "execution_count": null,
   "metadata": {},
   "outputs": [],
   "source": [
    "f = open('sample.txt', 'r')"
   ]
  },
  {
   "cell_type": "markdown",
   "metadata": {},
   "source": [
    "変数 `f` には、ファイルを読み書きするためのデータが入ります。\n",
    "これを**ファイルオブジェクト**と呼びます。"
   ]
  },
  {
   "cell_type": "markdown",
   "metadata": {},
   "source": [
    "`'sample.txt'` はファイル名で、そのファイルの絶対パス名か、このノートブックからの相対パス名を指定します。\n",
    "\n",
    "ここでは、`sample.txt` という名前のファイルがこのノートブックと同じディレクトリにあることを想定しています。\n",
    "\n",
    "たとえば、`novel.txt` というファイルが、ノートブックの1段上のディレクトリ（このディレクトリが入っているディレクトリ）にあるならば、`'../novel.txt'` と指定します。\n",
    "ノートブックの1段上のディレクトリに置かれている `data` というディレクトリにあるならば、`'../data/novel.txt'` となります\n",
    "（4-3にもう少し詳しい解説があります）。"
   ]
  },
  {
   "cell_type": "markdown",
   "metadata": {},
   "source": [
    "`'r'` はファイルをどのモードで開くかを指しており、`'r'`は**読み込みモード**を意味します。\n",
    "このモードで開いたファイルに書き込みすることはできません。\n",
    "\n",
    "モードには次のような種類があります。\n",
    "\n",
    "記号| モード\n",
    "---|:---\n",
    "r | 読み込み\n",
    "w | 書き込み\n",
    "a | 追記\n",
    "+ | 読み書き両方を指定したい場合に使用\n",
    "\n",
    "書き込みについては後でも説明します。"
   ]
  },
  {
   "cell_type": "markdown",
   "metadata": {},
   "source": [
    "## ファイルのクローズ\n",
    "\n",
    "ファイルオブジェクトを使い終わったら、原則として、**`close()`** メソッドを呼び出して、**クローズ**する（閉じる）必要があります。"
   ]
  },
  {
   "cell_type": "code",
   "execution_count": null,
   "metadata": {},
   "outputs": [],
   "source": [
    "f.close()"
   ]
  },
  {
   "cell_type": "markdown",
   "metadata": {},
   "source": [
    "`close()` を呼び出さずに放置すると、そのファイルがまだ使用中だと認識されてしまいます。\n",
    "これは、同じファイルを利用しようとする他のプログラムの働きを阻害します。（個室のトイレをイメージしてください。）\n",
    "\n",
    "`close()` の呼び出しは重要ですが、忘れがちなものでもあります。\n",
    "後述するwith文を使うのが安全です。"
   ]
  },
  {
   "cell_type": "markdown",
   "metadata": {},
   "source": [
    "## 行の読み込み\n",
    "ファイルオブジェクトには、**`readline()`** というメソッドを適用することができます。\n",
    "ファイルから新たに1行を読んで文字列として返します。\n",
    "この「1行」というのは、正確には、ファイルの先頭もしくは改行文字の次の文字から、ファイルの終わりもしくは改行文字までの文字列です。\n",
    "1行は必ずしも改行文字で終わらないという点に注意して下さい。\n",
    "\n",
    "ファイルの終わりに来たとき、`readline()` は `''` という空文字列を返します。\n",
    "\n",
    "以下のようにして `readline()` を使ってファイルを行単位で読んでみましょう。\n",
    "\n",
    "ファイルを読み終わると空文字列が返ることを確認してください。"
   ]
  },
  {
   "cell_type": "code",
   "execution_count": null,
   "metadata": {},
   "outputs": [],
   "source": [
    "f = open('sample.txt', 'r')"
   ]
  },
  {
   "cell_type": "code",
   "execution_count": null,
   "metadata": {},
   "outputs": [],
   "source": [
    "f.readline()"
   ]
  },
  {
   "cell_type": "code",
   "execution_count": null,
   "metadata": {},
   "outputs": [],
   "source": [
    "f.readline()"
   ]
  },
  {
   "cell_type": "code",
   "execution_count": null,
   "metadata": {},
   "outputs": [],
   "source": [
    "f.readline()"
   ]
  },
  {
   "cell_type": "code",
   "execution_count": null,
   "metadata": {},
   "outputs": [],
   "source": [
    "f.readline()"
   ]
  },
  {
   "cell_type": "code",
   "execution_count": null,
   "metadata": {},
   "outputs": [],
   "source": [
    "f.close()"
   ]
  },
  {
   "cell_type": "markdown",
   "metadata": {},
   "source": [
    "`readline()` メソッドの呼び出しは、ファイルオブジェクトを消費します。\n",
    "改めて読み出したいときには、再度オープンして新しいオブジェクトを使ってください。"
   ]
  },
  {
   "cell_type": "markdown",
   "metadata": {},
   "source": [
    "## 練習\n",
    "文字列 `name` をファイル名とするファイルの最後の行を文字列として返す関数 `last_line(name)` を定義してください。"
   ]
  },
  {
   "cell_type": "code",
   "execution_count": null,
   "metadata": {},
   "outputs": [],
   "source": [
    "def last_line(name):\n",
    "    ..."
   ]
  },
  {
   "cell_type": "markdown",
   "metadata": {},
   "source": [
    "上のセルで解答を作成した後、以下のセルを実行し、実行結果が `True` になることを確認してください。"
   ]
  },
  {
   "cell_type": "code",
   "execution_count": null,
   "metadata": {
    "tags": [
     "raises-exception"
    ]
   },
   "outputs": [],
   "source": [
    "print(last_line('sample.txt')==\"Excepteur sint occaecat cupidatat non proident, sunt in culpa qui officia deserunt mollit anim id est laborum.\\n\")"
   ]
  },
  {
   "cell_type": "markdown",
   "metadata": {},
   "source": [
    "## ファイル全体の読み込み\n",
    "\n",
    "ファイル全体を一括で読み込んで、1つの文字列を取得したいときには、**`read()`** メソッドを利用します。"
   ]
  },
  {
   "cell_type": "code",
   "execution_count": null,
   "metadata": {},
   "outputs": [],
   "source": [
    "f = open('sample.txt', 'r')\n",
    "f.read()"
   ]
  },
  {
   "cell_type": "markdown",
   "metadata": {},
   "source": [
    "一度 `read()` を呼ぶと、ファイルの終端に達するので、それ以降は空文字列を返します。"
   ]
  },
  {
   "cell_type": "code",
   "execution_count": null,
   "metadata": {},
   "outputs": [],
   "source": [
    "f.read()"
   ]
  },
  {
   "cell_type": "code",
   "execution_count": null,
   "metadata": {},
   "outputs": [],
   "source": [
    "f.close()"
   ]
  },
  {
   "cell_type": "markdown",
   "metadata": {},
   "source": [
    "`read()` メソッドは、内部的には `readline()` メソッドを呼んでいます。\n",
    "したがって、`read()` メソッドも同様にファイルオブジェクトを消費します。"
   ]
  },
  {
   "cell_type": "markdown",
   "metadata": {},
   "source": [
    "## 練習\n",
    "\n",
    "文字列 `name` をファイル名とするファイルをオープンして、\n",
    "`read()` メソッドによってファイル全体を文字列として読み込み、\n",
    "その文字数を返す関数 `number_of_characters(name)` を作成してください。\n",
    "\n",
    "注意：`return` する前にファイルをクローズすることを忘れないようにしてください。"
   ]
  },
  {
   "cell_type": "code",
   "execution_count": null,
   "metadata": {},
   "outputs": [],
   "source": [
    "def  number_of_characters(name):\n",
    "    ..."
   ]
  },
  {
   "cell_type": "markdown",
   "metadata": {},
   "source": [
    "上のセルで解答を作成した後、以下のセルを実行し、実行結果が `True` になることを確認してください。"
   ]
  },
  {
   "cell_type": "code",
   "execution_count": null,
   "metadata": {
    "tags": [
     "raises-exception"
    ]
   },
   "outputs": [],
   "source": [
    "print(number_of_characters('sample.txt') == 446)"
   ]
  },
  {
   "cell_type": "markdown",
   "metadata": {},
   "source": [
    "## 編集中のファイルの動作\n",
    "\n",
    "プログラムでファイルを開くと、そのプログラム内でそのファイルを閉じるまでは、他のプログラムでそのファイルを編集することはできません。 \n",
    "\n",
    "下のセルを実行した後で、Windowsならエクスプローラ、macOSならFinderで上のファイルを探して、削除してみてください。\n",
    "「ファイルを閉じてから再実行してください。（Windowsの場合）」といったメッセージが出て、削除ができないはずです。   "
   ]
  },
  {
   "cell_type": "code",
   "execution_count": null,
   "metadata": {},
   "outputs": [],
   "source": [
    "f = open('test.txt', 'r')"
   ]
  },
  {
   "cell_type": "markdown",
   "metadata": {},
   "source": [
    "下のセルを実行した後だと削除できます。"
   ]
  },
  {
   "cell_type": "code",
   "execution_count": null,
   "metadata": {},
   "outputs": [],
   "source": [
    "f.close()"
   ]
  },
  {
   "cell_type": "markdown",
   "metadata": {},
   "source": [
    "## ファイルに対するwith文"
   ]
  },
  {
   "cell_type": "markdown",
   "metadata": {},
   "source": [
    "ファイルのオブジェクトは、with文に指定することができます。\n",
    "\n",
    "---\n",
    "```Python\n",
    "with ファイルオブジェクト as 変数:\n",
    "    ...\n",
    "\n",
    "```\n",
    "---\n",
    "\n",
    "**`with`** の次には、`open` によってファイルをオープンする式を書きます。\n",
    "\n",
    "また、**`as`** の次には、ファイルのオブジェクトが格納される変数を書きます。\n",
    "\n",
    "with文は処理後にファイルのクローズを自動的にやってくれますので、\n",
    "ファイルに対して `close()` を呼び出す必要がありません。"
   ]
  },
  {
   "cell_type": "code",
   "execution_count": null,
   "metadata": {},
   "outputs": [],
   "source": [
    "with open('sample.txt', 'r') as f:\n",
    "    print(f.read())"
   ]
  },
  {
   "cell_type": "markdown",
   "metadata": {},
   "source": [
    "## ファイルへの書き込み\n",
    "\n",
    "ファイルへの書き込みは、`print` 関数を使って行えます。\n",
    "`file` 引数に書き込み先のファイルオブジェクトを指定します。\n",
    "`file` は3.3で説明されているキーワード引数と呼ばれる引数ですので、\n",
    "以下のように `file=...` という形で指定します。"
   ]
  },
  {
   "cell_type": "code",
   "execution_count": null,
   "metadata": {},
   "outputs": [],
   "source": [
    "with open('print-test.txt', 'w') as f:\n",
    "    print('hello\\nworld', file=f)"
   ]
  },
  {
   "cell_type": "markdown",
   "metadata": {},
   "source": [
    "文字列の中の `\\n` は改行文字を表します。`\\n` は**エスケープシーケンス**（2-1に説明があります）の一種です。\n",
    "エスケープシーケンスには、この他に、復帰文字を表す `\\r` やタブを表す `\\t` などがあります。\n",
    "\n",
    "ファイルの読み書きのモードとしては、**書き込みモード**を意味する `'w'` を指定しています。既に同じ名前のファイルが存在する場合は上書きされます（以前の内容はなくなります）。ファイルがない場合は、新たに作成されます。\n",
    "\n",
    "`'a'` を指定すると、ファイルが存在する場合、既存の内容の後に追記されます。ファイルがない場合は、新たに作成されます。\n",
    "\n",
    "`print` 関数は、デフォルトで、与えられた文字列の末尾に改行文字を加えて印字します。\n",
    "末尾に加える文字は、`end` 引数で指定できます。"
   ]
  },
  {
   "cell_type": "code",
   "execution_count": null,
   "metadata": {},
   "outputs": [],
   "source": [
    "with open('print-test.txt', 'a') as f:\n",
    "    print('hello', 'world\\n', end='', file=f) # 改行文字を加えない"
   ]
  },
  {
   "cell_type": "markdown",
   "metadata": {},
   "source": [
    "また、複数の印字対象を渡すと、デフォルトで、空白文字で区切って印字します。\n",
    "この区切り文字は、`sep` 引数で指定できます。"
   ]
  },
  {
   "cell_type": "code",
   "execution_count": null,
   "metadata": {},
   "outputs": [],
   "source": [
    "with open('print-test.txt', 'a') as f:\n",
    "    print('hello', 'world', sep=', ', file=f) # 'hello, world'が印字される"
   ]
  },
  {
   "cell_type": "markdown",
   "metadata": {},
   "source": [
    "この他にも、ファイルオブジェクトには、より原始的な書き込み用メソッドが用意されています。\n",
    "**`write()`** メソッドは、与えられた1つの文字列を単に書き込みます。\n",
    "次に示すように、`write()` メソッドと `read()` メソッドは、対で使うことが良くあります。"
   ]
  },
  {
   "cell_type": "code",
   "execution_count": null,
   "metadata": {},
   "outputs": [],
   "source": [
    "with open('sample.txt') as src, open('sample.txt.bak', 'w') as dst:\n",
    "    dst.write(src.read())"
   ]
  },
  {
   "cell_type": "markdown",
   "metadata": {},
   "source": [
    "このコードは、`sample.txt` を `sample.txt.bak` にコピーします。"
   ]
  },
  {
   "cell_type": "markdown",
   "metadata": {},
   "source": [
    "## 練習\n",
    "\n",
    "2つのファイル名 `infile`, `outfile` を引数として、`infile` の半角英文字を全て大文字にした結果を `outfile` に書き込む `file_upper(infile, outfile)` という関数を作成してください。   \n",
    "\n",
    "なお、半角英文字の小文字を大文字に変換するには `upper()` というメソッドが使えます。\n",
    "たとえば `line` という名前の変数に半角文字列が入っている場合、`line.upper()` とすれば小文字に変換した文字列を返します。"
   ]
  },
  {
   "cell_type": "code",
   "execution_count": null,
   "metadata": {},
   "outputs": [],
   "source": [
    "def file_upper(infile,outfile):\n",
    "    ..."
   ]
  },
  {
   "cell_type": "markdown",
   "metadata": {},
   "source": [
    "上のセルで解答を作成した後、以下のセルを実行し、実行結果が `True` になることを確認してください。"
   ]
  },
  {
   "cell_type": "code",
   "execution_count": null,
   "metadata": {
    "tags": [
     "raises-exception"
    ]
   },
   "outputs": [],
   "source": [
    "with open('print-test.txt', 'w') as f:\n",
    "    print('hello', 'world', file=f)\n",
    "file_upper('print-test.txt', 'print-test-upper.txt')\n",
    "with open('print-test-upper.txt', 'r') as f:\n",
    "    print(f.read() == 'HELLO WORLD\\n')"
   ]
  },
  {
   "cell_type": "markdown",
   "metadata": {},
   "source": [
    "## ファイルの読み書きにおける文字コード指定\n",
    "\n",
    "`open` でファイルを開くと、通常そのファイルをテキストモードで開きます（テキストモード以外にバイナリモードもあります）。\n",
    "\n",
    "テキストモードでファイルを開くときは、さらに特定の**文字コード**によってそのファイルを開こうとします。\n",
    "文字コードを指定しないと、デフォルトの文字コードでそのファイルを開こうとしますが、\n",
    "この文字コードがファイルを書き込む際に指定したものと異なる場合、エラーが出たり文字化けしてしまいます。\n",
    "\n",
    "デフォルトの文字コードは、WindowsはShift_JIS、macOSやLinuxはUTF-8になっていることが多いです。\n",
    "UTF-8で文字を記録されたファイルをWindowsで、ただ `open('utf-8.txt', 'w')` のように文字コードを指定せずに開くとエラーが出ます。\n",
    "同じく、Shift_JISで文字を記録されたファイルをmacOSで `open('shift_jis.txt', 'w')` として開くとエラーが出ます。\n",
    "\n",
    "なお、この教材の冒頭で `open('sample.txt', 'r')` と、文字コードを指定せずにファイルを開きましたがエラーは出ませんでしたね。\n",
    "これは、`sample.txt` では半角英数字しか使われておらず、半角英数字に関しては、Shift_JISもUTF-8も共通のルールでエンコードされているためです。"
   ]
  },
  {
   "cell_type": "code",
   "execution_count": null,
   "metadata": {
    "tags": [
     "raises-exception"
    ]
   },
   "outputs": [],
   "source": [
    "# macOSならこちらでエラー\n",
    "with open('shift_jis.txt', 'r') as f:\n",
    "    print(f.read())\n",
    "\n",
    "# Windowsならこちらでエラー\n",
    "with open('utf-8.txt', 'r') as f:\n",
    "    print(f.read())"
   ]
  },
  {
   "cell_type": "markdown",
   "metadata": {},
   "source": [
    "特に半角英数以外の文字を記録する際は文字コードを指定すること、またそのようなファイルを開くときは、記録するときに指定した文字コードでファイルを開いてください。\n",
    "\n",
    "文字コードは、`open` のキーワード引数として\n",
    "`encoding='utf-8'`（文字コードにUTF-8を指定する場合）のように指定することができます。 \n",
    "\n",
    "なお、日本語の文字コードには `UTF-8`, `Shift_JIS`, `EUC-JP` などがありますが、PythonではOSの種類に限らず、UTF-8という文字コードがよく使われます。本授業でもUTF-8を推奨します。"
   ]
  },
  {
   "cell_type": "code",
   "execution_count": null,
   "metadata": {
    "tags": [
     "raises-exception"
    ]
   },
   "outputs": [],
   "source": [
    "# 文字コードを指定しないとmacOSならこちらでエラー\n",
    "with open('shift_jis.txt', 'r', encoding='shift_jis') as f:\n",
    "    print(f.read())\n",
    "\n",
    "# 文字コードを指定しないとWindowsならこちらでエラー\n",
    "with open('utf-8.txt', 'r', encoding='utf-8') as f:\n",
    "    print(f.read())\n",
    "\n",
    "# 文字コードを指定してファイルに書き込む場合\n",
    "with open('text.txt', 'w', encoding='utf-8') as f:\n",
    "    f.write('かきくけこ')\n",
    "with open('text.txt', 'r', encoding='utf-8') as f:\n",
    "    print(f.read())"
   ]
  },
  {
   "cell_type": "markdown",
   "metadata": {},
   "source": [
    "## 改行文字の削除\n",
    "\n",
    "ファイルをテキストモードで開いて `read()` や `readline()` を呼び出すと、\n",
    "`str` 型の文字列として読み込まれます。\n",
    "\n",
    "`str` 型の文字列の末尾にある改行文字が不要な場合は、\n",
    "文字列に対して **`rstrip`** というメソッドを\n",
    "`rstrip('\\n')` のようにして呼び出すことにより削除することができます。\n",
    "ここで、カッコ `()` の中にはそのテキストファイルで使われている改行文字を指定します。\n",
    "一般的に、Windowsでは `\\r\\n`、macOSやLinuxでは `\\n` です。\n",
    "また、昔のmacOSで作られたテキストファイルは `\\r` となっているものもあります。"
   ]
  },
  {
   "cell_type": "code",
   "execution_count": null,
   "metadata": {},
   "outputs": [],
   "source": [
    "with open('text/novel.txt', 'r', encoding='utf-8') as f:\n",
    "    while True:\n",
    "        line = f.readline()\n",
    "        if line == '':\n",
    "            break\n",
    "        print(line)\n",
    "\n",
    "print('------ 末尾の改行文字を削除すると以下のようになります-------')\n",
    "with open('text/novel.txt', 'r', encoding='utf-8') as f:\n",
    "    while True:\n",
    "        line = f.readline()\n",
    "        if line == '':\n",
    "            break\n",
    "        print(line.rstrip('\\n'))"
   ]
  },
  {
   "cell_type": "markdown",
   "metadata": {},
   "source": [
    "## 練習の解答"
   ]
  },
  {
   "cell_type": "code",
   "execution_count": null,
   "metadata": {},
   "outputs": [],
   "source": [
    "def  number_of_characters(name):\n",
    "    f = open(name, 'r')\n",
    "    s = f.read()\n",
    "    f.close()\n",
    "    return len(s)"
   ]
  },
  {
   "cell_type": "code",
   "execution_count": null,
   "metadata": {},
   "outputs": [],
   "source": [
    "def last_line(name):\n",
    "    last = ''\n",
    "    with open(name, 'r') as f:\n",
    "        while True:\n",
    "            line = f.readline()\n",
    "            if line == '':\n",
    "                return last\n",
    "            last = line"
   ]
  },
  {
   "cell_type": "code",
   "execution_count": null,
   "metadata": {},
   "outputs": [],
   "source": [
    "def file_upper(infile,outfile):\n",
    "    with open(infile, 'r') as f:\n",
    "        with open(outfile, 'w') as g:\n",
    "            g.write(f.read().upper())"
   ]
  },
  {
   "cell_type": "markdown",
   "metadata": {},
   "source": [
    "以下のように1つのwith文に複数の `open` を書くこともできます。"
   ]
  },
  {
   "cell_type": "code",
   "execution_count": null,
   "metadata": {},
   "outputs": [],
   "source": [
    "def file_upper(infile,outfile):\n",
    "    with open(infile, 'r') as f, open(outfile, 'w') as g:\n",
    "        g.write(f.read().upper())"
   ]
  },
  {
   "cell_type": "code",
   "execution_count": null,
   "metadata": {},
   "outputs": [],
   "source": []
  }
 ],
 "metadata": {
  "kernelspec": {
   "display_name": "Python 3",
   "language": "python",
   "name": "python3"
  },
  "language_info": {
   "name": "python"
  }
 },
 "nbformat": 4,
 "nbformat_minor": 2
}
