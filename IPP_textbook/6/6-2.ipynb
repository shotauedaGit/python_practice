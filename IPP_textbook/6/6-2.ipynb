{
 "cells": [
  {
   "cell_type": "markdown",
   "metadata": {},
   "source": [
    "# 6-2. 高階関数\n",
    "\n",
    "Pythonにおける高階関数について説明します。\n",
    "\n",
    "参考\n",
    "\n",
    "- https://docs.python.org/ja/3/howto/functional.html"
   ]
  },
  {
   "cell_type": "markdown",
   "metadata": {},
   "source": [
    "## `max`\n",
    "\n",
    "例として、関数 **`max`** について考察します。`max` は与えられたリストの要素のうち、最大のものを返します。"
   ]
  },
  {
   "cell_type": "code",
   "execution_count": null,
   "metadata": {},
   "outputs": [],
   "source": [
    "ls = [3,-8,1,0,7,-5]\n",
    "max(ls)"
   ]
  },
  {
   "cell_type": "markdown",
   "metadata": {},
   "source": [
    "`max` に **`key`** というキーワード引数として、たとえば関数 `abs` を与えることができます。\n",
    "（キーワード引数について詳しくは、3-3を参照してください。）"
   ]
  },
  {
   "cell_type": "code",
   "execution_count": null,
   "metadata": {},
   "outputs": [],
   "source": [
    "max(ls, key=abs)"
   ]
  },
  {
   "cell_type": "markdown",
   "metadata": {},
   "source": [
    "この場合、各要素に関数 `abs` が適用されて、その結果が最も大きい要素が返ります。\n",
    "（各要素に `abs` 適用した結果の中の最大値が返るわけではないことに注意してください。）\n",
    "なお、`abs(x)` は `x` の絶対値を返します。\n",
    "\n",
    "この場合、`max` という関数は、関数を引数として受け取っています。\n",
    "\n",
    "一般に、関数を引数として受け取ったり返値として返したりする関数を**高階関数**といいます。"
   ]
  },
  {
   "cell_type": "markdown",
   "metadata": {},
   "source": [
    "## `sorted`\n",
    "\n",
    "**`sorted`** も高階関数で、`max` と同様に **`key`** というキーワード引数を取ります。"
   ]
  },
  {
   "cell_type": "code",
   "execution_count": null,
   "metadata": {},
   "outputs": [],
   "source": [
    "sorted(ls, key=abs)"
   ]
  },
  {
   "cell_type": "markdown",
   "metadata": {},
   "source": [
    "このように、各要素に関数 `abs` を適用した結果によって、各要素をソートします。\n",
    "\n",
    "リストを降順にソートするには、次のような関数を用いればよいです。"
   ]
  },
  {
   "cell_type": "code",
   "execution_count": null,
   "metadata": {},
   "outputs": [],
   "source": [
    "def invert(x):\n",
    "    return -x"
   ]
  },
  {
   "cell_type": "code",
   "execution_count": null,
   "metadata": {},
   "outputs": [],
   "source": [
    "sorted(ls, key=invert)"
   ]
  },
  {
   "cell_type": "markdown",
   "metadata": {},
   "source": [
    "なお、リストを降順にソートするには、**`reverse`** というキーワード引数に `True` を指定するという方法もあります。"
   ]
  },
  {
   "cell_type": "code",
   "execution_count": null,
   "metadata": {},
   "outputs": [],
   "source": [
    "sorted(ls, reverse=True)"
   ]
  },
  {
   "cell_type": "markdown",
   "metadata": {},
   "source": [
    "## ラムダ式\n",
    "\n",
    "上の `invert` のような簡単な関数の場合、\n",
    "いちいち `def` で定義するのは面倒と思いませんか。\n",
    "\n",
    "そのようなときは、**`lambda`** を使った**ラムダ式**（または**無名関数**）を用いることができます。\n",
    "上の例は、以下のように書くことができます。"
   ]
  },
  {
   "cell_type": "code",
   "execution_count": null,
   "metadata": {},
   "outputs": [],
   "source": [
    "sorted(ls, key=lambda x: -x)"
   ]
  },
  {
   "cell_type": "markdown",
   "metadata": {},
   "source": [
    "`lambda x: -x` という式は、`x` をもらって `-x` を返す関数を表します。\n",
    "`return` は書かないことに注意してください。\n",
    "\n",
    "さて、ここまで関数と呼んでいたものは、Pythonでは、オブジェクトの一種に他なりません。\n",
    "実際に、`abs` や `lambda x: -x` という式の値を調べてみてください。"
   ]
  },
  {
   "cell_type": "code",
   "execution_count": null,
   "metadata": {},
   "outputs": [],
   "source": [
    "abs"
   ]
  },
  {
   "cell_type": "code",
   "execution_count": null,
   "metadata": {},
   "outputs": [],
   "source": [
    "lambda x: -x"
   ]
  },
  {
   "cell_type": "markdown",
   "metadata": {},
   "source": [
    "したがって、Pythonでは、関数を他の種類のデータ（数やリストや文字列など）と同様に、\n",
    "関数の引数にしたり、リストの要素にしたり、することができます。"
   ]
  },
  {
   "cell_type": "markdown",
   "metadata": {},
   "source": [
    "## リストからイテラブルへ\n",
    "\n",
    "以上の例では、`max` や `sorted` はリストを受け取っていましたが、\n",
    "リストではなく、タプルでもいいですし、文字列でも構いません。"
   ]
  },
  {
   "cell_type": "code",
   "execution_count": null,
   "metadata": {},
   "outputs": [],
   "source": [
    "max((3,-8,1,0,7,-5))"
   ]
  },
  {
   "cell_type": "code",
   "execution_count": null,
   "metadata": {},
   "outputs": [],
   "source": [
    "sorted((3,-8,1,0,7,-5))"
   ]
  },
  {
   "cell_type": "code",
   "execution_count": null,
   "metadata": {},
   "outputs": [],
   "source": [
    "max('hello world')"
   ]
  },
  {
   "cell_type": "code",
   "execution_count": null,
   "metadata": {},
   "outputs": [],
   "source": [
    "sorted('hello world')"
   ]
  },
  {
   "cell_type": "markdown",
   "metadata": {},
   "source": [
    "すなわち、`max` や `sorted` は、一般にイテラブルを引数に取ることができます。\n",
    "\n",
    "イテラブルについては4-2に説明がありましたが、\n",
    "簡単に言うと、**イテラブル**とはfor文の `in` の後に来ることができるものです。\n",
    "`max` や `sorted` は、イテラブルの各要素を次々と求めて、\n",
    "その中の最大値を求めたり、整列した結果をリストとして返したりします。\n",
    "\n",
    "以下の例では、`max` にファイルオブジェクトが渡されます。\n",
    "ファイルオブジェクトはイテレータですので、イテラブルでもあります。\n",
    "ファイルオブジェクトをfor文の `in` の後に指定すると、\n",
    "ファイルの各行が文字列として得られます。\n",
    "以下の例では、`key` として関数 `len` が指定されていますので、\n",
    "ファイルの中で最も長い行が表示されます。"
   ]
  },
  {
   "cell_type": "code",
   "execution_count": null,
   "metadata": {},
   "outputs": [],
   "source": [
    "with open('jugemu.txt', 'r', encoding='utf-8') as f:\n",
    "    print(max(f, key=len))"
   ]
  },
  {
   "cell_type": "markdown",
   "metadata": {},
   "source": [
    "辞書もイテラブルです。`max` に辞書与えると、最大のキーが返ります。"
   ]
  },
  {
   "cell_type": "code",
   "execution_count": null,
   "metadata": {},
   "outputs": [],
   "source": [
    "max({3:10, 5:2, 9:1})"
   ]
  },
  {
   "cell_type": "markdown",
   "metadata": {},
   "source": [
    "## 練習\n",
    "\n",
    "辞書 `d` が与えられたとき、\n",
    "最大の値を持つキー（複数個ならばそのいずれか）を返す関数 `max_value_key(d)` を、\n",
    "`max` を使って定義してください。\n",
    "\n",
    "ヒント：辞書 `d` のキー `k` に対して、`k` に対応する値を返す関数は `lambda k: d[k]` という式で表すことができます。"
   ]
  },
  {
   "cell_type": "code",
   "execution_count": null,
   "metadata": {},
   "outputs": [],
   "source": [
    "def max_value_key(d):\n",
    "    ..."
   ]
  },
  {
   "cell_type": "markdown",
   "metadata": {},
   "source": [
    "上のセルで解答を作成した後、以下のセルを実行し、実行結果が `True` になることを確認してください。"
   ]
  },
  {
   "cell_type": "code",
   "execution_count": null,
   "metadata": {
    "tags": [
     "raises-exception"
    ]
   },
   "outputs": [],
   "source": [
    "print(max_value_key({3:10, 5:2, 9:1}) == 3)"
   ]
  },
  {
   "cell_type": "markdown",
   "metadata": {},
   "source": [
    "## `map`\n",
    "\n",
    "以下は内包表記の例です。"
   ]
  },
  {
   "cell_type": "code",
   "execution_count": null,
   "metadata": {},
   "outputs": [],
   "source": [
    "[abs(x) for x in [3,-8,1,0,7,-5]]"
   ]
  },
  {
   "cell_type": "markdown",
   "metadata": {},
   "source": [
    "リストの各要素に関数 `abs` が適用された結果がリストになります。\n",
    "\n",
    "同様のことを、高階関数 **`map`** を用いて行うことができます。\n",
    "関数 `map` は、2番目の引数としてイテラブルを取ります。1番目の引数は関数です。\n",
    "例を見ましょう。"
   ]
  },
  {
   "cell_type": "code",
   "execution_count": null,
   "metadata": {},
   "outputs": [],
   "source": [
    "map(abs, [3,-8,1,0,7,-5])"
   ]
  },
  {
   "cell_type": "markdown",
   "metadata": {},
   "source": [
    "何が返ったか、よくわからないと思います。\n",
    "以下のように、`map` の結果をfor文の `in` の後に指定してみましょう。"
   ]
  },
  {
   "cell_type": "code",
   "execution_count": null,
   "metadata": {},
   "outputs": [],
   "source": [
    "for x in map(abs, [3,-8,1,0,7,-5]):\n",
    "    print(x)"
   ]
  },
  {
   "cell_type": "markdown",
   "metadata": {},
   "source": [
    "すなわち、`map` が返すものは**イテレータ**です。\n",
    "このイテレータは、2番目の引数のイテラブル（この例ではリスト）の各要素に\n",
    "関数 `abs` を適用したものを、次々と返すようなイテレータです。\n",
    "\n",
    "内包表記を使えば、以下のようにリストにまとめることができます。"
   ]
  },
  {
   "cell_type": "code",
   "execution_count": null,
   "metadata": {},
   "outputs": [],
   "source": [
    "[x for x in map(abs, [3,-8,1,0,7,-5])]"
   ]
  },
  {
   "cell_type": "markdown",
   "metadata": {},
   "source": [
    "関数 `list` をイテレータに適用してもよいです。"
   ]
  },
  {
   "cell_type": "code",
   "execution_count": null,
   "metadata": {},
   "outputs": [],
   "source": [
    "list(map(abs, [3,-8,1,0,7,-5]))"
   ]
  },
  {
   "cell_type": "markdown",
   "metadata": {},
   "source": [
    "しかし、これでは、イテレータがどのように動くのか、よくわからないと思います。\n",
    "\n",
    "以下では、呼ばれるたびにメッセージを出力する関数 `abs1` を用います。"
   ]
  },
  {
   "cell_type": "code",
   "execution_count": null,
   "metadata": {},
   "outputs": [],
   "source": [
    "def abs1(x):\n",
    "    print('abs called on', x)\n",
    "    return abs(x)"
   ]
  },
  {
   "cell_type": "code",
   "execution_count": null,
   "metadata": {},
   "outputs": [],
   "source": [
    "it = map(abs1, [3,-8,1,0,7,-5])"
   ]
  },
  {
   "cell_type": "markdown",
   "metadata": {},
   "source": [
    "このように、`map` がイテレータを返した時点では、各要素に対する計算は何も行われません。\n",
    "\n",
    "このイテレータに `next` を適用するとどうなるか、見てください。"
   ]
  },
  {
   "cell_type": "code",
   "execution_count": null,
   "metadata": {},
   "outputs": [],
   "source": [
    "next(it)"
   ]
  },
  {
   "cell_type": "code",
   "execution_count": null,
   "metadata": {},
   "outputs": [],
   "source": [
    "next(it)"
   ]
  },
  {
   "cell_type": "markdown",
   "metadata": {},
   "source": [
    "関数 `next` が呼ばれるたびに、次の要素を求める計算が行われていることがわかります。\n",
    "\n",
    "イテレータはイテラブルですから、`map` の結果にさらに `map` を適用することができます。"
   ]
  },
  {
   "cell_type": "code",
   "execution_count": null,
   "metadata": {},
   "outputs": [],
   "source": [
    "list(map(lambda x: x+1, map(abs, [3,-8,1,0,7,-5])))"
   ]
  },
  {
   "cell_type": "markdown",
   "metadata": {},
   "source": [
    "`lambda x: x+1` は、`x` をもらって `x+1` を返す関数です。\n",
    "すなわち、引数に `1` を足した結果を返します。\n",
    "\n",
    "関数 `sum` は、`max` と同様に、イテラブルを受け取って、その要素の総和を返します。\n",
    "したがって、`map` が返したイテレータに対しても適用できます。\n",
    "（イテレータをリストに変換する必要はありません。）"
   ]
  },
  {
   "cell_type": "code",
   "execution_count": null,
   "metadata": {},
   "outputs": [],
   "source": [
    "sum(map(lambda x: x+1, map(abs, [3,-8,1,0,7,-5])))"
   ]
  },
  {
   "cell_type": "markdown",
   "metadata": {},
   "source": [
    "## 練習\n",
    "\n",
    "数のリストが与えられたとき、その要素の絶対値の最大値を返す関数 `max_abs` を、\n",
    "`map` と `max` を使って定義してください。"
   ]
  },
  {
   "cell_type": "code",
   "execution_count": null,
   "metadata": {},
   "outputs": [],
   "source": [
    "def max_abs(ln):\n",
    "    ..."
   ]
  },
  {
   "cell_type": "markdown",
   "metadata": {},
   "source": [
    "上のセルで解答を作成した後、以下のセルを実行し、実行結果が `True` になることを確認してください。"
   ]
  },
  {
   "cell_type": "code",
   "execution_count": null,
   "metadata": {
    "tags": [
     "raises-exception"
    ]
   },
   "outputs": [],
   "source": [
    "print(max_abs([3,-8,1,0,7,-5]) == 8)"
   ]
  },
  {
   "cell_type": "markdown",
   "metadata": {},
   "source": [
    "## `filter`\n",
    "\n",
    "関数 **`filter`** もイテラブルをもらってイテレータを返します。\n",
    "最初の引数としては、真理値を返す関数を指定します。"
   ]
  },
  {
   "cell_type": "code",
   "execution_count": null,
   "metadata": {},
   "outputs": [],
   "source": [
    "def pos(x):\n",
    "    if x>0:\n",
    "        return True\n",
    "    else:\n",
    "        return False"
   ]
  },
  {
   "cell_type": "markdown",
   "metadata": {},
   "source": [
    "この関数 `pos` は、引数が正ならば `True`、そうでなければ `False` を返します。\n",
    "\n",
    "すると、以下のように、`filter` は `pos` を適用すると `True` が返る要素のみからなるイテレータを返します。"
   ]
  },
  {
   "cell_type": "code",
   "execution_count": null,
   "metadata": {},
   "outputs": [],
   "source": [
    "list(filter(pos, [3,-8,1,0,7,-5]))"
   ]
  },
  {
   "cell_type": "markdown",
   "metadata": {},
   "source": [
    "`filter` は、条件付き内包表記に対応しています。\n",
    "同じ計算を以下のようにして行うことができます。"
   ]
  },
  {
   "cell_type": "code",
   "execution_count": null,
   "metadata": {},
   "outputs": [],
   "source": [
    "[x for x in [3,-8,1,0,7,-5] if pos(x)]"
   ]
  },
  {
   "cell_type": "markdown",
   "metadata": {},
   "source": [
    "## 練習\n",
    "\n",
    "数のリスト `ln` と数 `n` を受け取って、`ln` の要素のうち、`n` より大きい個数を返す関数\n",
    "`number_of_big_numbers(ln, n)` を、for文やwhile文を用いずに、`filter` を用いて定義してください。"
   ]
  },
  {
   "cell_type": "code",
   "execution_count": null,
   "metadata": {},
   "outputs": [],
   "source": [
    "def number_of_big_numbers(ln, n):\n",
    "    ..."
   ]
  },
  {
   "cell_type": "markdown",
   "metadata": {},
   "source": [
    "上のセルで解答を作成した後、以下のセルを実行し、実行結果が `True` になることを確認してください。"
   ]
  },
  {
   "cell_type": "code",
   "execution_count": null,
   "metadata": {
    "tags": [
     "raises-exception"
    ]
   },
   "outputs": [],
   "source": [
    "print(number_of_big_numbers([10, 0, 7, 1, 5, 2, 9], 5) == 3)"
   ]
  },
  {
   "cell_type": "markdown",
   "metadata": {},
   "source": [
    "## 練習\n",
    "ファイル名 `file` と整数 `n` を受け取って、そのファイルをオープンし、\n",
    "（改行文字も含めて）長さが `n` より長い行の数を返す関数 `number_of_long_lines(file,n)` を定義してください。\n",
    "（ファイルは `encoding='utf-8'` でオープンしてください。）"
   ]
  },
  {
   "cell_type": "code",
   "execution_count": null,
   "metadata": {},
   "outputs": [],
   "source": [
    "def number_of_long_lines(file, n):\n",
    "    ..."
   ]
  },
  {
   "cell_type": "markdown",
   "metadata": {},
   "source": [
    "上のセルで解答を作成した後、以下のセルを実行し、実行結果が `True` になることを確認してください。"
   ]
  },
  {
   "cell_type": "code",
   "execution_count": null,
   "metadata": {
    "tags": [
     "raises-exception"
    ]
   },
   "outputs": [],
   "source": [
    "print(number_of_long_lines('jugemu.txt', 10) == 6)"
   ]
  },
  {
   "cell_type": "markdown",
   "metadata": {},
   "source": [
    "## 練習の解答"
   ]
  },
  {
   "cell_type": "code",
   "execution_count": null,
   "metadata": {},
   "outputs": [],
   "source": [
    "def max_value_key(d):\n",
    "    return max(d, key=lambda k: d[k])"
   ]
  },
  {
   "cell_type": "code",
   "execution_count": null,
   "metadata": {},
   "outputs": [],
   "source": [
    "def max_abs(ln):\n",
    "    return max(map(abs, ln))"
   ]
  },
  {
   "cell_type": "code",
   "execution_count": null,
   "metadata": {},
   "outputs": [],
   "source": [
    "def number_of_big_numbers(ln, n):\n",
    "    return sum(map(lambda x: 1, filter(lambda x: x>n, ln)))"
   ]
  },
  {
   "cell_type": "code",
   "execution_count": null,
   "metadata": {},
   "outputs": [],
   "source": [
    "def number_of_long_lines(file, n):\n",
    "    with open(file, 'r', encoding='utf-8') as f:\n",
    "        return sum(map(lambda x: 1, filter(lambda x: len(x)>n, f)))"
   ]
  },
  {
   "cell_type": "code",
   "execution_count": null,
   "metadata": {},
   "outputs": [],
   "source": []
  }
 ],
 "metadata": {
  "kernelspec": {
   "display_name": "Python 3",
   "language": "python",
   "name": "python3"
  },
  "language_info": {
   "name": "python"
  }
 },
 "nbformat": 4,
 "nbformat_minor": 2
}
