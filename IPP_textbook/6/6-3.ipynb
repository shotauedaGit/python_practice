{
 "cells": [
  {
   "cell_type": "markdown",
   "metadata": {},
   "source": [
    "# 6-3. クラス\n",
    "\n",
    "Pythonにおけるオブジェクト指向プログラミングのうち、クラスを定義する方法について簡単に説明します。\n",
    "\n",
    "参考\n",
    "\n",
    "- https://docs.python.org/ja/3/tutorial/classes.html\n",
    "- https://docs.python.org/ja/3/reference/datamodel.html"
   ]
  },
  {
   "cell_type": "markdown",
   "metadata": {},
   "source": [
    "## クラス定義\n",
    "\n",
    "Pythonでは全てのデータはオブジェクトなのですが、\n",
    "以下では特に、クラス定義によって作成されたクラスを型とするデータを扱います。\n",
    "このようなデータは、**オブジェクト指向プログラミング**における典型的な**オブジェクト**です。\n",
    "そこで以下では、オブジェクトという用語をもっぱら使います。\n",
    "\n",
    "4-1で見たように、ファイルオブジェクトに対して `readline()` というメソッドを呼び出すと、\n",
    "ファイルの行が文字列として次々と返されます。\n",
    "ここでは、ファイルオブジェクトのようなオブジェクトで、\n",
    "`readline()` というメソッドが呼び出されると、常に `'Hello.\\n'` という文字列を返すようなものを作ってみましょう。\n",
    "\n",
    "そのためには、新しいクラスを定義します。\n",
    "**クラス**とは、オブジェクトの種類を意味します。\n",
    "新しいクラスを定義すると、そのクラスに属するオブジェクトを作ることができるようになります。\n",
    "それらのオブジェクトの型は、その新しいクラスになります。\n",
    "\n",
    "ここでは、ずっと `'Hello.\\n'` を返し続けるので、\n",
    "`HelloForEver` という名前を持つクラスを定義しましょう。\n",
    "そして、`HelloForEver` というクラスを型とするオブジェクトを作ります。"
   ]
  },
  {
   "cell_type": "code",
   "execution_count": null,
   "metadata": {},
   "outputs": [],
   "source": [
    "class HelloForEver:\n",
    "    def readline(self):\n",
    "        return 'Hello.\\n'"
   ]
  },
  {
   "cell_type": "markdown",
   "metadata": {},
   "source": [
    "一般にクラス定義は、以下のような形をしています。\n",
    "\n",
    "---\n",
    "```Python\n",
    "class クラス名:\n",
    "    def メソッド名(self, 引数, ...):\n",
    "        実行文\n",
    "    def メソッド名(self, 引数, ...):\n",
    "        実行文\n",
    "    ...\n",
    "```\n",
    "---\n",
    "メソッド定義は関数定義と同じ形をしていますが、\n",
    "クラス定義の中に入っています。\n",
    "メソッド定義において、その最初の引数には慣例として `self` という名前を付けます。\n",
    "この引数には、メソッドが呼び出されたオブジェクト自身が渡されます。\n",
    "\n",
    "上の例では、`readline` というメソッドが1つ定義されています。\n",
    "\n",
    "以下のようにして、このクラスのオブジェクトを作ることができます。"
   ]
  },
  {
   "cell_type": "code",
   "execution_count": null,
   "metadata": {},
   "outputs": [],
   "source": [
    "f = HelloForEver()"
   ]
  },
  {
   "cell_type": "markdown",
   "metadata": {},
   "source": [
    "`HelloForEver` を型とする新しいオブジェクトが作られて変数 `f` の値となります。\n",
    "\n",
    "一般に、オブジェクトの生成は、\n",
    "\n",
    "---\n",
    "```Python\n",
    "クラス名(式, ...)\n",
    "```\n",
    "---\n",
    "という式で行います。このようにオブジェクトを生成する式は**コンストラクタ**と呼ばれます。\n",
    "なお、上の例では、括弧の中に式は1つもありません。"
   ]
  },
  {
   "cell_type": "markdown",
   "metadata": {},
   "source": [
    "このようにして作ったオブジェクトの型を確認してください。"
   ]
  },
  {
   "cell_type": "code",
   "execution_count": null,
   "metadata": {},
   "outputs": [],
   "source": [
    "type(f)"
   ]
  },
  {
   "cell_type": "markdown",
   "metadata": {},
   "source": [
    "`__main__.HelloForEver` と表示されたでしょう。\n",
    "`__main__` は、ノートブックの式が評価されているモジュールを指すので、\n",
    "このオブジェクトの型が、上で定義した `HelloForEver` クラスであることがわかります。\n",
    "クラスのコンストラクタによって生成されたオブジェクトを、そのクラスの**インスタンス**と言います。\n",
    "上のオブジェクトは `HelloForEver` クラスのインスタンスです。\n",
    "\n",
    "オブジェクトそのものは以下のように表示されます。"
   ]
  },
  {
   "cell_type": "code",
   "execution_count": null,
   "metadata": {},
   "outputs": [],
   "source": [
    "f"
   ]
  },
  {
   "cell_type": "markdown",
   "metadata": {},
   "source": [
    "このオブジェクトに対して、`readline` というメソッドを呼び出すことができます。"
   ]
  },
  {
   "cell_type": "code",
   "execution_count": null,
   "metadata": {},
   "outputs": [],
   "source": [
    "f.readline()"
   ]
  },
  {
   "cell_type": "markdown",
   "metadata": {},
   "source": [
    "この例では、`f` という変数に入っているオブジェクトが `self` という引数に渡されて、\n",
    "`readline` の本体である以下の文が実行されました。\n",
    "\n",
    "---\n",
    "```Python\n",
    "    return 'Hello.\\n'\n",
    "```\n",
    "---\n",
    "（この例では `self` は参照されていません。）\n",
    "\n",
    "何回やっても同じです。"
   ]
  },
  {
   "cell_type": "code",
   "execution_count": null,
   "metadata": {},
   "outputs": [],
   "source": [
    "f.readline()"
   ]
  },
  {
   "cell_type": "code",
   "execution_count": null,
   "metadata": {},
   "outputs": [],
   "source": [
    "f.readline()"
   ]
  },
  {
   "cell_type": "markdown",
   "metadata": {},
   "source": [
    "## 初期化と属性\n",
    "\n",
    "以下の例では、初期化のメソッドが定義され、オブジェクトに属性が与えられます。\n",
    "\n",
    "**初期化**のメソッドは **`__init__`** という名前を持ち、\n",
    "オブジェクトが作られたときに自動的に呼び出されます。\n",
    "`__init__` の引数は、オブジェクト自身と、クラス名の後に与えられる式の値です。"
   ]
  },
  {
   "cell_type": "code",
   "execution_count": null,
   "metadata": {},
   "outputs": [],
   "source": [
    "class HelloFile:\n",
    "    def __init__(self, n):\n",
    "        self.n = n\n",
    "    def readline(self):\n",
    "        if self.n == 0:\n",
    "            return ''\n",
    "        self.n = self.n - 1\n",
    "        return 'Hello.\\n'"
   ]
  },
  {
   "cell_type": "markdown",
   "metadata": {},
   "source": [
    "この例では、以下のようにしてオブジェクトが作られます。"
   ]
  },
  {
   "cell_type": "code",
   "execution_count": null,
   "metadata": {},
   "outputs": [],
   "source": [
    "f = HelloFile(3)"
   ]
  },
  {
   "cell_type": "markdown",
   "metadata": {},
   "source": [
    "すると、`HelloFile` を型とする新しいオブジェクトが作られて、\n",
    "そのオブジェクト自身が `self` に、`3` が `n` に渡されて、\n",
    "`self.n = n` という文が実行されます。\n",
    "\n",
    "`self.n` という式は、このオブジェクトの `n` という名前の属性を表します。\n",
    "\n",
    "一般に、`class` の構文によって定義されたクラスを型とするオブジェクトは、\n",
    "属性を持つことができます。\n",
    "**属性**とは、個々のオブジェクトごとに記録される値であり、\n",
    "オブジェクト内の変数と考えられます。\n",
    "オブジェクトの属性は、オブジェクトに対してその**属性名**を指定して、参照したり設定したりできます。\n",
    "オブジェクトの属性は、`self.属性名` という式で参照されます。\n",
    "`self.属性名` を代入文の左辺に書けば、属性を設定することができます。\n",
    "\n",
    "`self.n = n` のうち、`self.` の次の `n` は属性を表し、\n",
    "右辺の `n` は、`__init__` メソッドの引数を表していますので、\n",
    "混同しないようにしてください。\n",
    "\n",
    "この例では、新しく作られたオブジェクトの `n` という属性が、引数 `n` の値である `3` に設定されます。\n",
    "\n",
    "`readline` メソッドは以下のように定義されています。\n",
    "\n",
    "---\n",
    "```Python\n",
    "    def readline(self):\n",
    "        if self.n == 0:\n",
    "            return ''\n",
    "        self.n = self.n - 1\n",
    "        return 'Hello.\\n'\n",
    "```\n",
    "---\n",
    "オブジェクトの属性 `n` を参照して、それが `0` ならば空文字列を返します。\n",
    "そうでなければ、属性 `n` を `1` 減らしてから文字列 `'Hello.\\n'` を返します。"
   ]
  },
  {
   "cell_type": "code",
   "execution_count": null,
   "metadata": {},
   "outputs": [],
   "source": [
    "f.readline()"
   ]
  },
  {
   "cell_type": "code",
   "execution_count": null,
   "metadata": {},
   "outputs": [],
   "source": [
    "f.readline()"
   ]
  },
  {
   "cell_type": "code",
   "execution_count": null,
   "metadata": {},
   "outputs": [],
   "source": [
    "f.readline()"
   ]
  },
  {
   "cell_type": "code",
   "execution_count": null,
   "metadata": {},
   "outputs": [],
   "source": [
    "f.readline()"
   ]
  },
  {
   "cell_type": "markdown",
   "metadata": {},
   "source": [
    "変数 `f` の値であるオブジェクトの属性 `n` は、`f.n` という式によって参照できます。"
   ]
  },
  {
   "cell_type": "code",
   "execution_count": null,
   "metadata": {},
   "outputs": [],
   "source": [
    "f.n"
   ]
  },
  {
   "cell_type": "markdown",
   "metadata": {},
   "source": [
    "ここでは詳しく説明しませんが、オブジェクトのメソッドも属性の一種です。"
   ]
  },
  {
   "cell_type": "markdown",
   "metadata": {},
   "source": [
    "## 継承\n",
    "\n",
    "**継承**は、既存のクラスをもとにして、変更部分だけを与えることにより、\n",
    "新たなクラスを定義する機能です。\n",
    "\n",
    "以下の例では、`HelloForEver` をもとにして `HelloFile` を定義しています。\n",
    "一般に、新しく定義されるクラスを**子クラス**、そのもとになるクラスを**親クラス**と言います。"
   ]
  },
  {
   "cell_type": "code",
   "execution_count": null,
   "metadata": {},
   "outputs": [],
   "source": [
    "class HelloFile(HelloForEver):\n",
    "    def __init__(self, n):\n",
    "        self.n = n\n",
    "    def readline(self):\n",
    "        if self.n == 0:\n",
    "            return ''\n",
    "        self.n = self.n - 1\n",
    "        return super().readline()"
   ]
  },
  {
   "cell_type": "markdown",
   "metadata": {},
   "source": [
    "ここでは、`__init__` と `readline` を新たに定義しています。\n",
    "\n",
    "`HelloForEver` にも `readline` があります。\n",
    "こちらの `readline` は、`super().readline()` という式で呼び出すことができます。\n",
    "**`super()`** は、子クラスのオブジェクトに対して親クラスのメソッドを呼び出すための構文です。\n",
    "実際に、`HelloFile` の `readline` の中で、\n",
    "`HelloForEver` の `readline` を呼び出しています。"
   ]
  },
  {
   "cell_type": "code",
   "execution_count": null,
   "metadata": {},
   "outputs": [],
   "source": [
    "f = HelloFile(3)"
   ]
  },
  {
   "cell_type": "code",
   "execution_count": null,
   "metadata": {},
   "outputs": [],
   "source": [
    "f.readline()"
   ]
  },
  {
   "cell_type": "markdown",
   "metadata": {},
   "source": [
    "## 特殊メソッド\n",
    "\n",
    "Pythonでは、**特殊メソッド**と呼ばれるメソッドが多数あります。\n",
    "これらのメソッドの名前は `__` で始まり `__` で終わります。\n",
    "\n",
    "クラス定義の中で特殊メソッドを定義すると、そのクラスのオブジェクトに対して、\n",
    "その特殊メソッドに対応する機能が付与されます。\n",
    "初期化メソッド `__init__` も特殊メソッドですが、\n",
    "以下のクラス `HelloFileIterator` では、**`__iter__`** と **`__next__`** という特殊メソッドが定義されています。\n",
    "このクラスは、`HelloFile` を継承して定義されています。\n",
    "\n",
    "`__iter__` メソッドは、オブジェクトに対して関数 `iter` が適用されたときに呼び出されます。\n",
    "`__iter__` メソッドの値が関数 `iter` の値となります。\n",
    "以下の例では、`__iter__` はオブジェクト自身を返しています。\n",
    "したがって、オブジェクトに `iter` が適用されると、オブジェクト自身が返ります。"
   ]
  },
  {
   "cell_type": "code",
   "execution_count": null,
   "metadata": {},
   "outputs": [],
   "source": [
    "class HelloFileIterator(HelloFile):\n",
    "    def __iter__(self):\n",
    "        return self\n",
    "    def __next__(self):\n",
    "        line = self.readline()\n",
    "        if line == '':\n",
    "            raise StopIteration\n",
    "        return line"
   ]
  },
  {
   "cell_type": "code",
   "execution_count": null,
   "metadata": {},
   "outputs": [],
   "source": [
    "f = HelloFileIterator(3)"
   ]
  },
  {
   "cell_type": "code",
   "execution_count": null,
   "metadata": {},
   "outputs": [],
   "source": [
    "print(f is iter(f))"
   ]
  },
  {
   "cell_type": "markdown",
   "metadata": {},
   "source": [
    "上の例で、`iter(f)` として関数 `iter` を呼び出すと、\n",
    "`f.__iter__()` としてメソッド `__iter__` が `f` に対して呼び出され、\n",
    "その結果が `iter(f)` の値となります。\n",
    "したがって、`iter(f)` は `f` と同じ値を返します。\n",
    "\n",
    "`__next__` メソッドも、オブジェクトに対して関数 `next` が適用されたときに呼び出されます。\n",
    "`__next__` メソッドの値が `next` の値となります。\n",
    "\n",
    "上の例では、`self.readline()` として、オブジェクト自身に対してメソッド `readline` を呼び出しています。\n",
    "その値が空文字列ならば、\n",
    "\n",
    "---\n",
    "```Python\n",
    "            raise StopIteration\n",
    "```\n",
    "---\n",
    "という文を実行して、**`StopIteration`** というエラーを投げます。\n",
    "実は、このエラーは、for文が捕まえて繰り返しを止める効果を持ちます。\n",
    "なお、**`raise`** は強制的にエラーを発生させる構文です。"
   ]
  },
  {
   "cell_type": "code",
   "execution_count": null,
   "metadata": {},
   "outputs": [],
   "source": [
    "for line in f:\n",
    "    print(line)"
   ]
  },
  {
   "cell_type": "markdown",
   "metadata": {},
   "source": [
    "4-2で説明したように、上のfor文では、\n",
    "まず `f` のオブジェクトに対して関数 `iter` が適用されます。\n",
    "すると `f` のオブジェクト自身が返ります。\n",
    "そして、このオブジェクトに対して関数 `next` が繰り返し適用されて、\n",
    "その結果が変数 `line` の値となります。\n",
    "`StopIteration` のエラーが検知されると、for文が終了します。"
   ]
  },
  {
   "cell_type": "markdown",
   "metadata": {},
   "source": [
    "## 継承による振舞いの改変\n",
    "\n",
    "上で示された、`HelloFileIterator` の `__next__` メソッドでは、`self.readline()` というメソッド呼び出しがありました。\n",
    "上の例の振舞いから、そのメソッド呼び出しは、`HelloFileIterator` には `readline` メソッドが定義されていないので、親の `HelloFile` を見に行って、そこで定義された `readline` メソッドが使われたように見えます。\n",
    "しかし、それは正確ではありません。\n",
    "\n",
    "`self.readline()` では、その呼び出し場所がどこであるかに関わらず、常にオブジェクト `self` の中のメソッドを探索します。\n",
    "そして、継承があるために、`__next__(self)` における `self` が、`HelloFileIterator` のインスタンスであるとも限りません。\n",
    "次を見てみましょう。"
   ]
  },
  {
   "cell_type": "code",
   "execution_count": null,
   "metadata": {},
   "outputs": [],
   "source": [
    "class EmptyFile(HelloFileIterator):\n",
    "    def readline(self):\n",
    "        return ''\n",
    "    \n",
    "f = EmptyFile(3)\n",
    "next(f)"
   ]
  },
  {
   "cell_type": "markdown",
   "metadata": {},
   "source": [
    "コンストラクタに `3` を与えているので、`HelloFileIterator` と同様に `next` を3回適用できてもよさそうですが、即座に `StopIteration` が生じました。\n",
    "これは、`__next__(self)` における `self` が、`EmptyFile` のインスタンスであり、`self.readline()` が常に `''` を返すからです。\n",
    "\n",
    "このように、継承は、メソッドの部分的な再定義を通じて、再定義されたメソッドを呼び出しているメソッドの振舞いを、間接的に改変することを可能にします。"
   ]
  },
  {
   "cell_type": "markdown",
   "metadata": {},
   "source": [
    "## 練習\n",
    "\n",
    "`'Hello.\\n'` ではなくて、初期時に指定された文字列を繰り返し返すように、\n",
    "新たなクラス `StringFileIterator` を定義してください。\n",
    "\n",
    "`StringFileIterator` は `HelloFileIterator` を継承し、\n",
    "初期化メソッドには、文字列と回数を指定します。"
   ]
  },
  {
   "cell_type": "code",
   "execution_count": null,
   "metadata": {},
   "outputs": [],
   "source": [
    "class StringFileIterator(HelloFileIterator):\n",
    "    def __init__(self, s, n):\n",
    "        ...\n",
    "    ...        "
   ]
  },
  {
   "cell_type": "markdown",
   "metadata": {},
   "source": [
    "上のセルで解答を作成した後、以下のセルを実行し、実行結果が `True` になることを確認してください。"
   ]
  },
  {
   "cell_type": "code",
   "execution_count": null,
   "metadata": {
    "tags": [
     "raises-exception"
    ]
   },
   "outputs": [],
   "source": [
    "f = StringFileIterator('abc', 3)\n",
    "print(list(f) == ['abc','abc','abc'])"
   ]
  },
  {
   "cell_type": "markdown",
   "metadata": {},
   "source": [
    "## ▲with文への対応\n",
    "\n",
    "ここでは詳しく説明しませんが、さらに特殊メソッドである **`__enter__`** と **`__exit__`** を定義すると、\n",
    "**with文**にも対応できます。"
   ]
  },
  {
   "cell_type": "code",
   "execution_count": null,
   "metadata": {},
   "outputs": [],
   "source": [
    "class HelloFileIterator(HelloFile):\n",
    "    def __enter__(self):\n",
    "        return self\n",
    "    def __exit__(self,exception_type,exception_value,traceback):\n",
    "        pass\n",
    "    def __next__(self):\n",
    "        line = self.readline()\n",
    "        if line == '':\n",
    "            raise StopIteration\n",
    "        return line\n",
    "    def __iter__(self):\n",
    "        return self"
   ]
  },
  {
   "cell_type": "code",
   "execution_count": null,
   "metadata": {},
   "outputs": [],
   "source": [
    "with HelloFileIterator(3) as f:\n",
    "    for line in f:\n",
    "        print(line)"
   ]
  },
  {
   "cell_type": "markdown",
   "metadata": {},
   "source": [
    "## 練習の解答"
   ]
  },
  {
   "cell_type": "code",
   "execution_count": null,
   "metadata": {},
   "outputs": [],
   "source": [
    "class StringFileIterator(HelloFileIterator):\n",
    "    def __init__(self, s, n):\n",
    "        self.s = s\n",
    "        self.n = n\n",
    "    def readline(self):\n",
    "        if self.n == 0:\n",
    "            return ''\n",
    "        self.n = self.n - 1\n",
    "        return self.s"
   ]
  },
  {
   "cell_type": "code",
   "execution_count": null,
   "metadata": {},
   "outputs": [],
   "source": []
  }
 ],
 "metadata": {
  "kernelspec": {
   "display_name": "Python 3",
   "language": "python",
   "name": "python3"
  },
  "language_info": {
   "name": "python"
  }
 },
 "nbformat": 4,
 "nbformat_minor": 2
}
