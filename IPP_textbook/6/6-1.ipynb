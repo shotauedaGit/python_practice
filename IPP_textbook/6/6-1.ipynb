{
 "cells": [
  {
   "cell_type": "markdown",
   "metadata": {},
   "source": [
    "# 6-1. 内包表記\n",
    "\n",
    "**内包表記**について説明します。\n",
    "\n",
    "参考:\n",
    "\n",
    "- https://docs.python.org/ja/3/tutorial/datastructures.html#list-comprehensions\n",
    "- https://docs.python.org/ja/3/tutorial/datastructures.html#nested-list-comprehensions\n",
    "\n",
    "## リスト内包表記\n",
    "\n",
    "Pythonでは各種の**内包表記** (comprehension) が利用できます。\n",
    "\n",
    "以下のような整数の自乗を要素に持つリストを作るプログラムでは、"
   ]
  },
  {
   "cell_type": "code",
   "execution_count": null,
   "metadata": {},
   "outputs": [],
   "source": [
    "squares1 = []\n",
    "for x in range(6):\n",
    "    squares1.append(x**2)\n",
    "squares1"
   ]
  },
  {
   "cell_type": "markdown",
   "metadata": {},
   "source": [
    "`squares1` として `[0, 1, 4, 9, 16, 25]` が得られます。\n",
    "これを内包表記を用いて書き換えると、以下のように一行で書け、プログラムが読みやすくなります。"
   ]
  },
  {
   "cell_type": "code",
   "execution_count": 2,
   "metadata": {},
   "outputs": [
    {
     "data": {
      "text/plain": [
       "[0, 1, 4, 9, 16, 25]"
      ]
     },
     "execution_count": 2,
     "metadata": {},
     "output_type": "execute_result"
    }
   ],
   "source": [
    "squares2 = [x**2 for x in range(6)]\n",
    "squares2"
   ]
  },
  {
   "cell_type": "markdown",
   "metadata": {},
   "source": [
    "関数 **`sum`** は与えられた数のリストの総和を求めます。\n",
    "（2-2の練習にあった `sum_list` と同じ機能を持つ組み込みの関数です。）\n",
    "内包表記に対して `sum` を適用すると以下のようになります。"
   ]
  },
  {
   "cell_type": "code",
   "execution_count": null,
   "metadata": {},
   "outputs": [],
   "source": [
    "sum([x**2 for x in range(6)])"
   ]
  },
  {
   "cell_type": "markdown",
   "metadata": {},
   "source": [
    "以下の内包表記は3-2で用いられていました。"
   ]
  },
  {
   "cell_type": "code",
   "execution_count": 5,
   "metadata": {},
   "outputs": [],
   "source": [
    "chr_arr = [chr(i + ord('a')) for i in range(26)]"
   ]
  },
  {
   "cell_type": "markdown",
   "metadata": {},
   "source": [
    "## 練習\n",
    "文字列のリストが変数 `strings` に与えられたとき、\n",
    "それぞれの文字列の長さからなるリストを返す内包表記を記述してください。\n",
    "\n",
    "`strings = ['The', 'quick', 'brown']` のとき、結果は `[3, 5, 5]` となります。"
   ]
  },
  {
   "cell_type": "code",
   "execution_count": 6,
   "metadata": {
    "tags": [
     "raises-exception"
    ]
   },
   "outputs": [
    {
     "data": {
      "text/plain": [
       "[3, 5, 5]"
      ]
     },
     "execution_count": 6,
     "metadata": {},
     "output_type": "execute_result"
    }
   ],
   "source": [
    "strings = ['The', 'quick', 'brown']\n",
    "[len(s) for s in strings]"
   ]
  },
  {
   "cell_type": "markdown",
   "metadata": {},
   "source": [
    "## 練習\n",
    "\n",
    "コンマで区切られた10進数からなる文字列が変数 `str1` に与えられたとき、\n",
    "それぞれの10進数を数に変換して得られるリストを返す内包表記を記述してください。\n",
    "\n",
    "`str1 = '123,45,-3'` のとき、結果は `[123, 45, -3]` となります。\n",
    "\n",
    "なお、コンマで区切られた10進数からなる文字列を、10進数の文字列のリストに変換するには、メソッド `split` を用いることができます。\n",
    "また、10進数の文字列を数に変換するには、**`int`** を関数として用いることができます。"
   ]
  },
  {
   "cell_type": "code",
   "execution_count": 17,
   "metadata": {
    "tags": [
     "raises-exception"
    ]
   },
   "outputs": [
    {
     "name": "stdout",
     "output_type": "stream",
     "text": [
      "['123,45,-3']\n"
     ]
    },
    {
     "data": {
      "text/plain": [
       "[123, 45, -3]"
      ]
     },
     "execution_count": 17,
     "metadata": {},
     "output_type": "execute_result"
    }
   ],
   "source": [
    "str1 = '123,45,-3'\n",
    "print(str1.split())\n",
    "[int(ai) for ai in str1.split(',') ]"
   ]
  },
  {
   "cell_type": "markdown",
   "metadata": {},
   "source": [
    "## 練習\n",
    "\n",
    "数のリストが与えらえたとき、リストの要素の分散を求める関数 `var` を\n",
    "内包表記と関数 `sum` を用いて定義してください。\n",
    "以下のセルの `...` のところを書き換えて `var` を作成してください。"
   ]
  },
  {
   "cell_type": "code",
   "execution_count": 22,
   "metadata": {},
   "outputs": [],
   "source": [
    "def var(lst):\n",
    "    m = sum(lst)/len(lst)\n",
    "    return sum([(a-m)**2 for a in lst])/len(lst)"
   ]
  },
  {
   "cell_type": "markdown",
   "metadata": {},
   "source": [
    "上のセルで解答を作成した後、以下のセルを実行し、実行結果が `True` になることを確認してください。"
   ]
  },
  {
   "cell_type": "code",
   "execution_count": 23,
   "metadata": {
    "tags": [
     "raises-exception"
    ]
   },
   "outputs": [
    {
     "name": "stdout",
     "output_type": "stream",
     "text": [
      "1.25\n",
      "True\n"
     ]
    }
   ],
   "source": [
    "print(var([3,4,1,2]))\n",
    "print(var([3,4,1,2]) == 1.25)"
   ]
  },
  {
   "cell_type": "markdown",
   "metadata": {},
   "source": [
    "## 内包表記の入れ子\n",
    "また内包表記を**入れ子**（**ネスト**）にすることも可能です:"
   ]
  },
  {
   "cell_type": "code",
   "execution_count": 24,
   "metadata": {},
   "outputs": [
    {
     "data": {
      "text/plain": [
       "[[0], [0, 1], [0, 2, 4], [0, 3, 6, 9]]"
      ]
     },
     "execution_count": 24,
     "metadata": {},
     "output_type": "execute_result"
    }
   ],
   "source": [
    "[[x*y for y in range(x+1)] for x in range(4)]"
   ]
  },
  {
   "cell_type": "markdown",
   "metadata": {},
   "source": [
    "ネストした内包表記は、外側から読むとわかりやすいです。\n",
    "`x` を `0` から `3` まで動かしてリストが作られます。\n",
    "そのリストの要素1つ1つは内包表記によるリストになっていて、\n",
    "それぞれのリストは `y` を 0 から `x` まで動かして得られます。\n",
    "\n",
    "以下のリストは、上の2重のリストをフラットにしたものです。\n",
    "この内包表記では、`for` が2重になっていますが、自然に左から読んでください。\n",
    "`x` を `0` から `3` まで動かし、そのそれぞれに対して `y` を `0` から `x` まで動かします。\n",
    "その各ステップで得られた `x*y` の値をリストにします。"
   ]
  },
  {
   "cell_type": "code",
   "execution_count": 25,
   "metadata": {},
   "outputs": [
    {
     "data": {
      "text/plain": [
       "[0, 0, 1, 0, 2, 4, 0, 3, 6, 9]"
      ]
     },
     "execution_count": 25,
     "metadata": {},
     "output_type": "execute_result"
    }
   ],
   "source": [
    "[x*y for x in range(4) for y in range(x+1)]"
   ]
  },
  {
   "cell_type": "markdown",
   "metadata": {},
   "source": [
    "以下の関数は、与えられた文字列の全ての空でない部分文字列からなるリストを返します。"
   ]
  },
  {
   "cell_type": "code",
   "execution_count": 26,
   "metadata": {},
   "outputs": [
    {
     "data": {
      "text/plain": [
       "['a', 'ab', 'abc', 'b', 'bc', 'c']"
      ]
     },
     "execution_count": 26,
     "metadata": {},
     "output_type": "execute_result"
    }
   ],
   "source": [
    "def allsubstrings(s):\n",
    "    return [s[i:j] for i in range(len(s)) for j in range(i+1,len(s)+1)]\n",
    "\n",
    "allsubstrings('abc')"
   ]
  },
  {
   "cell_type": "markdown",
   "metadata": {},
   "source": [
    "## 練習\n",
    "\n",
    "次のような関数 `sum_lists` を作成してください。\n",
    "\n",
    "- `sum_lists` はリスト `list1` を引数とします。\n",
    "- `list1` の各要素はリストであり、そのリストの要素は数です。\n",
    "- `sum_lists` は、`list1` の各要素であるリストの総和を求め、それらの総和を足し合せて返します。\n",
    "\n",
    "ここでは、内包表記と関数 `sum` を用いて `sum_lists` を定義してください。\n",
    "以下のセルの `...` のところを書き換えて `sum_lists` を作成してください。"
   ]
  },
  {
   "cell_type": "code",
   "execution_count": 29,
   "metadata": {},
   "outputs": [],
   "source": [
    "def sum_lists(list1):\n",
    "    return sum([sum(list1i) for list1i in list1])"
   ]
  },
  {
   "cell_type": "markdown",
   "metadata": {},
   "source": [
    "上のセルで解答を作成した後、以下のセルを実行し、実行結果が `True` になることを確認してください。"
   ]
  },
  {
   "cell_type": "code",
   "execution_count": 28,
   "metadata": {
    "tags": [
     "raises-exception"
    ]
   },
   "outputs": [
    {
     "name": "stdout",
     "output_type": "stream",
     "text": [
      "True\n"
     ]
    }
   ],
   "source": [
    "print(sum_lists([[20, 5], [6, 16, 14, 5], [16, 8, 16, 17, 14], [1], [5, 3, 5, 7]]) == 158)"
   ]
  },
  {
   "cell_type": "markdown",
   "metadata": {},
   "source": [
    "## 練習\n",
    "\n",
    "リスト `list1` と `list2` が引数として与えられたとき、次のようなリスト `list3` を返す関数 `sum_matrix` を作成してください。\n",
    "\n",
    "- `list1`, `list2`, `list3` は、3つの要素を持ちます。\n",
    "- 各要素は大きさ 3 のリストになっており、そのリストの要素は全て数です。\n",
    "- `list3[i][j]` （ただし、`i` と `j` は共に、0 以上 2 以下の整数）は `list1[i][j]` と `list2[i][j]` の値の和になっています。\n",
    "\n",
    "ここでは、内包表記を用いて`sum_matrix` を定義してください。以下のセルの `...` のところを書き換えて `sum_matrix` を作成してください。"
   ]
  },
  {
   "cell_type": "code",
   "execution_count": 34,
   "metadata": {},
   "outputs": [],
   "source": [
    "def sum_matrix(list1, list2):\n",
    "    return [[list1[i][j]  + list2[i][j]  for j in range(len(list1[i])) ] for i in range(len(list1)) ]"
   ]
  },
  {
   "cell_type": "markdown",
   "metadata": {},
   "source": [
    "上のセルで解答を作成した後、以下のセルを実行し、実行結果が `True` になることを確認してください。"
   ]
  },
  {
   "cell_type": "code",
   "execution_count": 36,
   "metadata": {},
   "outputs": [],
   "source": [
    "l1 = [[1,5,3],[4,5,6],[7,8,9]]\n",
    "l2 = [[1,4,7],[2,5,8],[3,6,9]]\n"
   ]
  },
  {
   "cell_type": "code",
   "execution_count": 37,
   "metadata": {
    "tags": [
     "raises-exception"
    ]
   },
   "outputs": [
    {
     "name": "stdout",
     "output_type": "stream",
     "text": [
      "True\n"
     ]
    }
   ],
   "source": [
    "print(sum_matrix([[1,5,3],[4,5,6],[7,8,9]], [[1,4,7],[2,5,8],[3,6,9]])==[[2, 9, 10], [6, 10, 14], [10, 14, 18]])"
   ]
  },
  {
   "cell_type": "markdown",
   "metadata": {},
   "source": [
    "## ▲**条件付き内包表記**\n",
    "\n",
    "内包表記は `for` に加えて `if` を使うこともできます:"
   ]
  },
  {
   "cell_type": "code",
   "execution_count": 38,
   "metadata": {},
   "outputs": [
    {
     "name": "stdout",
     "output_type": "stream",
     "text": [
      "[3, 3, 8, 7]\n"
     ]
    }
   ],
   "source": [
    "words = ['cat', 'dog', 'elephant', None, 'giraffe']\n",
    "length = [len(w) for w in words if w != None]\n",
    "print(length)"
   ]
  },
  {
   "cell_type": "markdown",
   "metadata": {},
   "source": [
    "この場合、`length` として要素が `None` の場合を除いた `[3, 3, 8, 7]` が得られます。"
   ]
  },
  {
   "cell_type": "markdown",
   "metadata": {},
   "source": [
    "## ▲**セット内包表記**\n",
    "\n",
    "内包表記はセット（集合）に対しても使うことができます:"
   ]
  },
  {
   "cell_type": "code",
   "execution_count": 39,
   "metadata": {},
   "outputs": [
    {
     "name": "stdout",
     "output_type": "stream",
     "text": [
      "{8, 3, 7}\n"
     ]
    }
   ],
   "source": [
    "words = ['cat', 'dog', 'elephant', 'giraffe']\n",
    "length_set = {len(w) for w in words}\n",
    "print(length_set)"
   ]
  },
  {
   "cell_type": "markdown",
   "metadata": {},
   "source": [
    "`length_set` として `{3, 7, 8}` が得られます。\n",
    "セット型なので、リストと異なり重複する要素は除かれます。"
   ]
  },
  {
   "cell_type": "markdown",
   "metadata": {},
   "source": [
    "## ▲**辞書内包表記**\n",
    "さらに、内包表記は辞書型でも使うことができます。"
   ]
  },
  {
   "cell_type": "code",
   "execution_count": null,
   "metadata": {},
   "outputs": [],
   "source": [
    "words = ['cat', 'dog', 'elephant', 'giraffe']\n",
    "length_dic = {w:len(w) for w in words}\n",
    "print(length_dic)"
   ]
  },
  {
   "cell_type": "markdown",
   "metadata": {},
   "source": [
    "`length_dic` として `{'cat': 3, 'dog': 3, 'elephant': 8, 'giraffe': 7}` が得られます。\n",
    "\n",
    "長さと文字列を逆にするとどうなるでしょうか。"
   ]
  },
  {
   "cell_type": "code",
   "execution_count": null,
   "metadata": {},
   "outputs": [],
   "source": [
    "length_rdic = {len(w): w for w in words}\n",
    "print(length_rdic)"
   ]
  },
  {
   "cell_type": "markdown",
   "metadata": {},
   "source": [
    "## ▲**ジェネレータ式**\n",
    "\n",
    "内包表記と似たものとして、ジェネレータ式というものがあります。\n",
    "リスト内包表記の `[]` を `()` に置き換えれば、ジェネレータ式になります。\n",
    "ジェネレータ式は、4-2で説明した**イテレータ**を構築します。\n",
    "4-2で説明したように、イテレータは、for文で走査（全要素を訪問）できます。"
   ]
  },
  {
   "cell_type": "code",
   "execution_count": 40,
   "metadata": {},
   "outputs": [
    {
     "name": "stdout",
     "output_type": "stream",
     "text": [
      "aaa\n",
      "bbb\n",
      "ccc\n"
     ]
    }
   ],
   "source": [
    "it = (x * 3 for x in 'abc')\n",
    "for x in it:\n",
    "    print(x)"
   ]
  },
  {
   "cell_type": "markdown",
   "metadata": {},
   "source": [
    "イテレータを組み込み関数 `list()` や `tuple()` に渡すと、対応するリストやタプルが構築されます。\n",
    "なお、ジェネレータ式を直接引数とするときには、ジェネレータ式の外側の `()` は省略可能です。"
   ]
  },
  {
   "cell_type": "code",
   "execution_count": 46,
   "metadata": {},
   "outputs": [
    {
     "data": {
      "text/plain": [
       "[0, 1, 4, 9, 16]"
      ]
     },
     "execution_count": 46,
     "metadata": {},
     "output_type": "execute_result"
    }
   ],
   "source": [
    "list(x ** 2 for x in range(5))"
   ]
  },
  {
   "cell_type": "code",
   "execution_count": 47,
   "metadata": {},
   "outputs": [
    {
     "data": {
      "text/plain": [
       "True"
      ]
     },
     "execution_count": 47,
     "metadata": {},
     "output_type": "execute_result"
    }
   ],
   "source": [
    "list(x ** 2 for x in range(5)) == [x ** 2 for x in range(5)]"
   ]
  },
  {
   "cell_type": "code",
   "execution_count": 44,
   "metadata": {},
   "outputs": [
    {
     "data": {
      "text/plain": [
       "(0, 1, 4, 9, 16)"
      ]
     },
     "execution_count": 44,
     "metadata": {},
     "output_type": "execute_result"
    }
   ],
   "source": [
    "tuple(x ** 2 for x in range(5))"
   ]
  },
  {
   "cell_type": "markdown",
   "metadata": {},
   "source": [
    "総和を計算する組み込み関数 `sum()` など、リストやタプルを引数に取れる大抵の関数には、イテレータも渡せます。"
   ]
  },
  {
   "cell_type": "code",
   "execution_count": null,
   "metadata": {},
   "outputs": [],
   "source": [
    "sum(x ** 2 for x in range(5))"
   ]
  },
  {
   "cell_type": "markdown",
   "metadata": {},
   "source": [
    "上の例において、ジェネレータ式の代わりにリスト内包表記を用いても同じ結果を得ますが、\n",
    "計算の途中で実際にリストを構築するので、メモリ消費が大きいです。\n",
    "ジェネレータ式では、リストのように走査できるイテレータを構築するだけなので、リスト内包表記よりメモリ効率がよいです。\n",
    "したがって、関数に渡すだけの一時オブジェクトには、リスト内包表記ではなくジェネレータ式を用いるのが有効です。"
   ]
  },
  {
   "cell_type": "markdown",
   "metadata": {},
   "source": [
    "## 練習の解答"
   ]
  },
  {
   "cell_type": "code",
   "execution_count": null,
   "metadata": {},
   "outputs": [],
   "source": [
    "strings = ['The', 'quick', 'brown']\n",
    "[len(x) for x in strings]"
   ]
  },
  {
   "cell_type": "code",
   "execution_count": null,
   "metadata": {},
   "outputs": [],
   "source": [
    "str1 = '123,45,-3'\n",
    "[int(x) for x in str1.split(',')]"
   ]
  },
  {
   "cell_type": "code",
   "execution_count": null,
   "metadata": {},
   "outputs": [],
   "source": [
    "def var(lst):\n",
    "    n = len(lst)\n",
    "    av = sum(lst)/n\n",
    "    return sum([(x - av)*(x - av) for x in lst])/n"
   ]
  },
  {
   "cell_type": "code",
   "execution_count": null,
   "metadata": {},
   "outputs": [],
   "source": [
    "def var(lst):\n",
    "    n = len(lst)\n",
    "    av = sum(lst)/n\n",
    "    return sum([x*x for x in lst])/n - av*av"
   ]
  },
  {
   "cell_type": "code",
   "execution_count": null,
   "metadata": {},
   "outputs": [],
   "source": [
    "def sum_lists(list1):\n",
    "    return sum([sum(lst) for lst in list1])"
   ]
  },
  {
   "cell_type": "code",
   "execution_count": null,
   "metadata": {},
   "outputs": [],
   "source": [
    "def sum_matrix(list1,list2):\n",
    "    return [[list1[i][j] + list2[i][j] for j in range(3)] for i in range(3)]"
   ]
  },
  {
   "cell_type": "code",
   "execution_count": null,
   "metadata": {},
   "outputs": [],
   "source": []
  }
 ],
 "metadata": {
  "kernelspec": {
   "display_name": "Python 3",
   "language": "python",
   "name": "python3"
  },
  "language_info": {
   "codemirror_mode": {
    "name": "ipython",
    "version": 3
   },
   "file_extension": ".py",
   "mimetype": "text/x-python",
   "name": "python",
   "nbconvert_exporter": "python",
   "pygments_lexer": "ipython3",
   "version": "3.7.10"
  }
 },
 "nbformat": 4,
 "nbformat_minor": 2
}
