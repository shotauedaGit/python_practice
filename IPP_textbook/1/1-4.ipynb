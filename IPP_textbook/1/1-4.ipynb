{
 "cells": [
  {
   "cell_type": "markdown",
   "metadata": {},
   "source": [
    "# 1-4. デバッグ\n",
    "デバッグについて説明します。\n",
    "\n",
    "参考\n",
    "\n",
    "- https://docs.python.org/ja/3/tutorial/errors.html\n",
    "\n",
    "プログラムに**バグ**（誤り）があって正しく実行できないときは、バグを取り除く**デバッグ**の作業が必要になります。\n",
    "\n",
    "エラーには大きく分けて、**文法エラー**、**実行エラー**、**論理エラー**があります。以下、それぞれのエラーについて対処法を説明します。\n",
    "また `print` を用いたデバッグについても紹介します。"
   ]
  },
  {
   "cell_type": "markdown",
   "metadata": {},
   "source": [
    "## **文法エラー**：Syntax Errors\n",
    "\n",
    "文法エラーは、入力がPythonの文法に違反しているエラーです。\n",
    "文法エラーに対しては、\n",
    "\n",
    "1. まず、エラーメッセージを確認しましょう。\n",
    "2. エラーメッセージの最終行を見て、それが `SyntaxError` であることを確認しましょう。\n",
    "3. エラーとなっているコードの行数を確認しましょう。\n",
    "4. そして、当該行付近のコードを注意深く確認しましょう。\n",
    "\n",
    "よくある文法エラーの例：\n",
    "\n",
    "- クォーテーションや括弧の閉じ忘れ\n",
    "- コロンのつけ忘れ\n",
    "- `=` と `==` の混同\n",
    "- インデントの誤り\n",
    "- 全角の空白\n",
    "\n",
    "など"
   ]
  },
  {
   "cell_type": "code",
   "execution_count": null,
   "metadata": {
    "tags": [
     "raises-exception"
    ]
   },
   "outputs": [],
   "source": [
    "print(\"This is the error)"
   ]
  },
  {
   "cell_type": "code",
   "execution_count": null,
   "metadata": {
    "tags": [
     "raises-exception"
    ]
   },
   "outputs": [],
   "source": [
    "1 +　1"
   ]
  },
  {
   "cell_type": "markdown",
   "metadata": {},
   "source": [
    "## **実行エラー**：Runtime Errors\n",
    "\n",
    "実行エラーは、コードの実行時に検出されるエラーです。\n",
    "実行エラーに対しては、\n",
    "\n",
    "1. まず、エラーメッセージを確認しましょう。\n",
    "2. エラーメッセージの最終行を見て、そのエラーのタイプを確認しましょう。\n",
    "3. エラーとなっているコードの行数を確認しましょう。\n",
    "4. そして、当該行付近のコードについて、どの部分が実行エラーのタイプに関係しているか確認しましょう。もし複数の原因がありそうであれば、行を分割、改行して再度実行し、エラーを確認しましょう。\n",
    "5. 原因がわからない場合は、 `print` を挿入して処理の入出力の内容を確認しましょう。\n",
    "\n",
    "よくある実行エラーの例：\n",
    "\n",
    "- 文字列やリストの要素エラー\n",
    "- 変数名・関数名の打ち間違え\n",
    "- 無限の繰り返し\n",
    "- 型と処理の不整合\n",
    "- ゼロによる割り算\n",
    "- ファイルの入出力誤り\n",
    "\n",
    "など"
   ]
  },
  {
   "cell_type": "code",
   "execution_count": null,
   "metadata": {
    "tags": [
     "raises-exception"
    ]
   },
   "outputs": [],
   "source": [
    "print(1/0)"
   ]
  },
  {
   "cell_type": "markdown",
   "metadata": {},
   "source": [
    "## **論理エラー**：Logical Errors\n",
    "\n",
    "論理エラーとは、プログラムを実行できるが、プログラムが意図したように動作しないというエラーです。\n",
    "論理エラーに対しては、\n",
    "\n",
    "1. 入力に対する期待される出力と実際の出力を確認しましょう。\n",
    "2. コードを読み進めながら、期待する処理と異なるところを見つけましょう。必要であれば、 `print` を挿入して処理の入出力の内容を確認しましょう。"
   ]
  },
  {
   "cell_type": "markdown",
   "metadata": {},
   "source": [
    "## `print` によるデバッグ\n",
    "\n",
    "**`print`** を用いたデバッグについて紹介しましょう。\n",
    "以下の関数 `median(x,y,z)` は、`x` と `y` と `z` の中間値（真ん中の値）を求めようとするものです。\n",
    "`x` と `y` と `z` は相異なる数であると仮定します。"
   ]
  },
  {
   "cell_type": "code",
   "execution_count": null,
   "metadata": {},
   "outputs": [],
   "source": [
    "def median(x,y,z):\n",
    "    if x>y:\n",
    "        x = y\n",
    "        y = x\n",
    "    if z<x:\n",
    "        return x\n",
    "    if z<y:\n",
    "        return z\n",
    "    return y"
   ]
  },
  {
   "cell_type": "code",
   "execution_count": null,
   "metadata": {},
   "outputs": [],
   "source": [
    "median(3,1,2)"
   ]
  },
  {
   "cell_type": "markdown",
   "metadata": {},
   "source": [
    "このようにこのプログラムは間違っています。最初のif文で `x>y` のときに `x` と `y` を交換しようとしているのですが、\n",
    "それがうまく行っていないようです。\n",
    "そこで、最初のif文の後に `print` を入れて、`x` と `y` の値を表示させましょう。"
   ]
  },
  {
   "cell_type": "code",
   "execution_count": null,
   "metadata": {},
   "outputs": [],
   "source": [
    "def median(x,y,z):\n",
    "    if x>y:\n",
    "        x = y\n",
    "        y = x\n",
    "    print(x,y)\n",
    "    if z<x:\n",
    "        return x\n",
    "    if z<y:\n",
    "        return z\n",
    "    return y"
   ]
  },
  {
   "cell_type": "code",
   "execution_count": null,
   "metadata": {},
   "outputs": [],
   "source": [
    "median(3,1,2)"
   ]
  },
  {
   "cell_type": "markdown",
   "metadata": {},
   "source": [
    "`x` と `y` が同じ値になってしまっています。そこで、以下のように修正します。"
   ]
  },
  {
   "cell_type": "code",
   "execution_count": null,
   "metadata": {},
   "outputs": [],
   "source": [
    "def median(x,y,z):\n",
    "    if x>y:\n",
    "        w = x\n",
    "        x = y\n",
    "        y = w\n",
    "    print(x,y)\n",
    "    if z<x:\n",
    "        return x\n",
    "    if z<y:\n",
    "        return z\n",
    "    return y"
   ]
  },
  {
   "cell_type": "code",
   "execution_count": null,
   "metadata": {},
   "outputs": [],
   "source": [
    "median(3,1,2)"
   ]
  },
  {
   "cell_type": "markdown",
   "metadata": {},
   "source": [
    "正しく動きました。 `print` は削除してもよいのですが、今後のために `#` を付けてコメントアウトして残しておきます。"
   ]
  },
  {
   "cell_type": "code",
   "execution_count": null,
   "metadata": {},
   "outputs": [],
   "source": [
    "def median(x,y,z):\n",
    "    if x>y:\n",
    "        w = x\n",
    "        x = y\n",
    "        y = w\n",
    "    #print(x,y)\n",
    "    if z<x:\n",
    "        return x\n",
    "    if z<y:\n",
    "        return z\n",
    "    return y"
   ]
  },
  {
   "cell_type": "code",
   "execution_count": null,
   "metadata": {},
   "outputs": [],
   "source": [
    "median(3,1,2)"
   ]
  },
  {
   "cell_type": "markdown",
   "metadata": {},
   "source": [
    "## コーディングスタイル\n",
    "\n",
    "実は、生じたバグを取る対処法よりも、そもそもバグが生じにくくする予防法の方が大切です。\n",
    "Pythonにおいて特に重要視されているのが、**コーディングスタイル**、つまりコードの書き方です。\n",
    "読みにくい（可読性の低い）コードだと、些細なミスが生じやすく、また見つけにくいからです。\n",
    "\n",
    "Pythonでは[**PEP8**](https://www.python.org/dev/peps/pep-0008/)（[非公式日本語訳](http://pep8-ja.readthedocs.io/ja/latest/)）と呼ばれる公式のスタイルガイドがあります。\n",
    "PEP8には様々な側面でスタイルに関する規則があり、コードの可読性を高めることが強く推奨されています。\n",
    "ここまでに扱った言語の要素について、たとえば、\n",
    "\n",
    "* インデントは半角スペースを4つで1レベル\n",
    "* `=` `+=` `==` などの演算子の前後に半角スペースを1つ入れる\n",
    "* `*` と `+` の複合式では `+` の前後に半角スペースを1つ入れる（例：`2*x + y`）\n",
    "* 関数の開き括弧の前にスペースを入れない\n",
    "* `l` `I` `O` を変数名として使わない\n",
    "* 真理値の比較に `==` や `is` を使わない\n",
    "\n",
    "などが代表的です。\n",
    "\n",
    "PEP8に基づいたコーディングスタイルの自動検査器もあります（参照：[pycodestyle](https://pypi.org/project/pycodestyle/)）。\n",
    "オンラインサービスもいくつか利用できるので（例：[PEP8 online](http://pep8online.com/)）、適宜活用してみましょう。\n",
    "\n",
    "PEP8には陽に言及されていないもの、プログラミング一般に重要なこともあります。\n",
    "たとえば、\n",
    "\n",
    "* 自己説明的でない“マジックナンバー”ではなく記号的に意味がわかる変数を使う\n",
    "* 不要なコードは削除する\n",
    "* 1つの関数では1つのタスクだけを処理する\n",
    "\n",
    "などは、可読性を上げる代表的なポイントです。\n",
    "\n",
    "勘違いはバグを引き起こします。自らが勘違いしないコードを書くことが肝要です。"
   ]
  },
  {
   "cell_type": "markdown",
   "metadata": {},
   "source": [
    "## ▲assert文によるデバッグ\n",
    "\n",
    "論理エラーを見つける上で有用なのが、**assert文**です。\n",
    "`assert` の次に書かれた条件式が偽であった時に、`AssertionError` が発生してプログラムが停止する仕組みです。\n",
    "次に例を示します。"
   ]
  },
  {
   "cell_type": "code",
   "execution_count": null,
   "metadata": {
    "tags": [
     "raises-exception"
    ]
   },
   "outputs": [],
   "source": [
    "import math\n",
    "def sqrt(x):\n",
    "    assert x >= 0\n",
    "    return math.sqrt(x)\n",
    "\n",
    "sqrt(2)\n",
    "sqrt(-2)"
   ]
  },
  {
   "cell_type": "markdown",
   "metadata": {},
   "source": [
    "ここで定義した `sqrt` 関数は、平方根を求める関数です。\n",
    "非負の数しかとらないことを前提とした関数なので、\n",
    "この前提を `assert x >= 0` としてプログラムの中で記述しています。\n",
    "`sqrt(2)` の呼び出しでは、この前提は満たされ、問題なく計算が進みます。\n",
    "\n",
    "しかし、`sqrt(-2)` の呼び出しでは、この前提が満たされないため、assert文が `AssertionError` を出します。\n",
    "このエラーメッセージによって、どの部分のどのような前提が満たされなかったかが簡単にわかります。\n",
    "これは、論理エラーの原因の絞り込みに役立ちます。"
   ]
  },
  {
   "cell_type": "code",
   "execution_count": null,
   "metadata": {},
   "outputs": [],
   "source": []
  }
 ],
 "metadata": {
  "kernelspec": {
   "display_name": "Python 3",
   "language": "python",
   "name": "python3"
  },
  "language_info": {
   "name": "python"
  }
 },
 "nbformat": 4,
 "nbformat_minor": 2
}
