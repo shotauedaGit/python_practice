{
 "cells": [
  {
   "cell_type": "markdown",
   "metadata": {},
   "source": [
    "# 5-1. モジュールの使い方\n",
    "モジュールの使い方について説明します。\n",
    "\n",
    "参考\n",
    "\n",
    "- https://docs.python.org/ja/3/reference/import.html\n",
    "- https://docs.python.org/ja/3/tutorial/modules.html\n",
    "- https://docs.python.org/ja/3/library/math.html\n",
    "\n",
    "## モジュールのインポート\n",
    "\n",
    "Pythonでは特別な関数や値をまとめたもの（これを**モジュール**といいます）を使うために、**`import`** という文を使います（第1回 (1-1) においても説明しました）。具体的には次のように記述します。\n",
    "\n",
    "---\n",
    "```Python\n",
    "import モジュール名\n",
    "```\n",
    "---\n",
    "\n",
    "たとえば、数学関係の機能をまとめた `math` というモジュールがあります。これらの関数や値を使いたいときは、以下のようにして `math` モジュールを `import` で**インポート**します。そうすると、`math.関数名` という形で関数を用いることができます。 "
   ]
  },
  {
   "cell_type": "code",
   "execution_count": 1,
   "metadata": {},
   "outputs": [
    {
     "name": "stdout",
     "output_type": "stream",
     "text": [
      "1.4142135623730951\n",
      "3.141592653589793\n",
      "0.7071067811865476\n",
      "1.0\n",
      "5.0\n"
     ]
    }
   ],
   "source": [
    "import math# importは大抵セルの一番上に記述します\n",
    "print(math.sqrt(2)) # sqrt は平方根を計算する関数\n",
    "print(math.pi) # πの値\n",
    "print(math.sin(math.pi/4)) # sin関数 \n",
    "print(math.cos(0)) # cos関数 \n",
    "print(math.log(32,2)) # 2を底とする32の対数（texで記述すると、$\\log_2 32$）"
   ]
  },
  {
   "cell_type": "markdown",
   "metadata": {},
   "source": [
    "上の例では、`math` モジュールの中の関数や値を使用しています。\n",
    "\n",
    "注意しなければならないのは、モジュールの中の関数を使う場合には、\n",
    "\n",
    "---\n",
    "```Python\n",
    "モジュール名.モジュールの中の関数名\n",
    "```\n",
    "---\n",
    "\n",
    "とする必要があるということです。\n",
    "\n",
    "モジュールの中の値（たとえば `math.pi`）も同様です。\n",
    "\n",
    "なお、複数の関数名をコンマ `,` で区切って並べて同時にインポートすることもできます。"
   ]
  },
  {
   "cell_type": "markdown",
   "metadata": {},
   "source": [
    "## `from`\n",
    "\n",
    "モジュール内で定義されている関数を「モジュールの中の関数名」のようにして、「モジュール名.」を付けずにそのままの名前で、モジュールの読み込み元のプログラムで使いたい場合には、**`from`** を以下のように書くことで利用することができます。\n",
    "\n",
    "---\n",
    "```Python\n",
    "from モジュール名 import モジュールの中の関数名\n",
    "```\n",
    "---\n",
    "\n",
    "たとえば、次のようになります。"
   ]
  },
  {
   "cell_type": "code",
   "execution_count": null,
   "metadata": {},
   "outputs": [],
   "source": [
    "from math import sqrt\n",
    "print(sqrt(2)) # sqrt は平方根を計算する関数 \n",
    "from math import pi\n",
    "print(pi) # πの値\n",
    "from math import sin\n",
    "print(sin(math.pi/4)) # sin関数 \n",
    "from math import cos\n",
    "print(cos(0)) # cos関数 \n",
    "from math import log\n",
    "print(log(32,2)) # 2を底とする32の対数（texで記述すると、$\\log_2 32$）"
   ]
  },
  {
   "cell_type": "markdown",
   "metadata": {},
   "source": [
    "この方法では、関数ごとに `from` を用いてインポートする必要があります。\n",
    "\n",
    "なお、関数だけではなく、グローバル変数や後に学習するクラスも、\n",
    "このようにしてインポートすることができます。\n",
    "\n",
    "別の方法として、**ワイルドカード** **`*`** を利用する方法もあります。\n",
    "\n",
    "---\n",
    "```Python\n",
    "from math import *\n",
    "```\n",
    "---\n",
    "\n",
    "この方法ではアンダースコア `_` で始まるものを除いた全ての名前が読み込まれるため、明示的に名前を指定する必要はありません。\n"
   ]
  },
  {
   "cell_type": "code",
   "execution_count": null,
   "metadata": {},
   "outputs": [],
   "source": [
    "from math import *\n",
    "print(factorial(5)) # 5 の階乗 # import mathを使う場合、math.factorial(5)\n",
    "print(floor(2.31)) # 2.31以下の最大の整数  # import mathを使う場合、math.floor(2.31)\n",
    "print(e) # ネイピア数 # import mathを使う場合、math.e"
   ]
  },
  {
   "cell_type": "markdown",
   "metadata": {},
   "source": [
    "ただしこの方法は推奨されていません。理由は読み込んだモジュール内の未知の名前とプログラム内の名前が衝突する可能性があるためです。"
   ]
  },
  {
   "cell_type": "code",
   "execution_count": null,
   "metadata": {},
   "outputs": [],
   "source": [
    "pi = 'パイ' # piという変数に文字列「パイ」を代入する\n",
    "print(pi) \n",
    "from math import *\n",
    "print(pi) # mathモジュールのpiの値で上書きされる（衝突）"
   ]
  },
  {
   "cell_type": "markdown",
   "metadata": {},
   "source": [
    "## `as`\n",
    "\n",
    "モジュール名が長すぎるなどの理由から別の名前としたい場合は、**`as`** を利用する方法もあります。\n",
    "たとえば、5-3において学習するNumPyというライブラリは `numpy` モジュールとして提供されていますが、\n",
    "次のように、 `numpy` を `np` という略称で使うことがあります。"
   ]
  },
  {
   "cell_type": "code",
   "execution_count": null,
   "metadata": {},
   "outputs": [],
   "source": [
    "import numpy\n",
    "print(numpy.ones((3, 5))) # 3×5の行列を表示\n",
    "import numpy as np\n",
    "print(np.ones((3, 5))) # np という短い名称で同じ関数を利用する"
   ]
  },
  {
   "cell_type": "markdown",
   "metadata": {},
   "source": [
    "個々の関数ごとに別の名前を付けることもできます。"
   ]
  },
  {
   "cell_type": "code",
   "execution_count": 2,
   "metadata": {},
   "outputs": [
    {
     "name": "stdout",
     "output_type": "stream",
     "text": [
      "120\n",
      "120\n"
     ]
    }
   ],
   "source": [
    "import math\n",
    "print(math.factorial(5)) # 階乗を求める関数factorial # 5の階乗\n",
    "from math import factorial as fact # fact という名前でmath.factorialを使用したい\n",
    "print(fact(5))"
   ]
  },
  {
   "cell_type": "markdown",
   "metadata": {},
   "source": [
    "## 練習\n",
    "第1回では、数学関数を以下のようにインポートし、`math.sqrt()` のようにして、数学関数や数学関係の変数を利用していました。\n",
    "\n",
    "---\n",
    "```Python\n",
    "import math\n",
    "print(math.sqrt(2))\n",
    "print(math.sin(math.pi))\n",
    "```\n",
    "\n",
    "---\n",
    "\n",
    "以下のセルを、モジュール名を付けないでこれらの関数や変数を参照できるように変更してください。"
   ]
  },
  {
   "cell_type": "code",
   "execution_count": 4,
   "metadata": {
    "tags": [
     "raises-exception"
    ]
   },
   "outputs": [
    {
     "name": "stdout",
     "output_type": "stream",
     "text": [
      "1.4142135623730951\n",
      "1.2246467991473532e-16\n"
     ]
    }
   ],
   "source": [
    "from numpy import sqrt \n",
    "from numpy import sin\n",
    "from numpy import pi\n",
    "\n",
    "print(sqrt(2))\n",
    "print(sin(pi))"
   ]
  },
  {
   "cell_type": "markdown",
   "metadata": {},
   "source": [
    "## 練習の解答\n",
    "\n",
    "`from` を使ってモジュールを指定、参照する関数を `import` でインポートしてください。 "
   ]
  },
  {
   "cell_type": "code",
   "execution_count": 5,
   "metadata": {},
   "outputs": [
    {
     "name": "stdout",
     "output_type": "stream",
     "text": [
      "1.4142135623730951\n",
      "1.2246467991473532e-16\n"
     ]
    }
   ],
   "source": [
    "from math import sqrt, sin, pi\n",
    "print(sqrt(2))\n",
    "print(sin(pi))"
   ]
  }
 ],
 "metadata": {
  "kernelspec": {
   "display_name": "Python 3",
   "language": "python",
   "name": "python3"
  },
  "language_info": {
   "codemirror_mode": {
    "name": "ipython",
    "version": 3
   },
   "file_extension": ".py",
   "mimetype": "text/x-python",
   "name": "python",
   "nbconvert_exporter": "python",
   "pygments_lexer": "ipython3",
   "version": "3.7.10"
  }
 },
 "nbformat": 4,
 "nbformat_minor": 2
}
