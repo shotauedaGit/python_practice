{
 "cells": [
  {
   "cell_type": "markdown",
   "metadata": {},
   "source": [
    "# 5-2. モジュールの作り方\n",
    "モジュールの作り方について説明します。\n",
    "\n",
    "参考\n",
    "\n",
    "- https://docs.python.org/ja/3/tutorial/modules.html\n",
    "- https://docs.python.org/ja/3/reference/import.html\n",
    "\n",
    "Pythonではプログラムを**モジュール**という単位で、複数のファイルに分割することができます。\n",
    "通例、一度定義した便利な関数などを別のプログラムで再利用するときには、再利用される部分をモジュールとして切り出します。\n",
    "プログラムが大きくなると、このように複数のファイルに分割した方が開発や保守が簡単になります。\n",
    "\n",
    "## モジュールファイル\n",
    "\n",
    "本授業で扱ってきたノートブックファイル（拡張子 `.ipynb`）は、コードセル（Codeセル）にPythonソースコード、Markdownセルに文書を持ち、内部的に出力結果も保存しています。 一方、モジュールファイル（拡張子 `.py`）は、Pythonソースコードのみを含んだファイルです。\n",
    "\n",
    "モジュールファイルを作るときには、Jupyter Notebook におけるコードセルの内容のみをファイルに記述することになります。\n",
    "\n",
    "モジュールファイルの文字コードはUTF-8であることが[公式に推奨されています](https://www.python.org/dev/peps/pep-0008/#source-file-encoding)。\n",
    "原則としてUTF-8でエンコードして保存してください。"
   ]
  },
  {
   "cell_type": "markdown",
   "metadata": {},
   "source": [
    "### ノートブックファイルをモジュールファイルに変換する\n",
    "\n",
    "本授業で利用しているノートブックファイルを `.py` としてセーブするには、\n",
    "「ファイル」メニューの「.py をダウンロード」項目を選択します。\n",
    "\n",
    "そうすると、コードセルだけがプログラム行として有効になり、その他の行はコメントアウトされたモジュールファイルがダウンロードできます。\n",
    "ダウンロード先はブラウザによって定まりますが、ダウンロードフォルダになることが一般的でしょう。\n",
    "\n",
    "この方法では、全てのコードセルの内容を一度に実行するプログラムとして保存されます。\n",
    "ノートブックのようにセル単位の実行するわけではないことに注意する必要があります。"
   ]
  },
  {
   "cell_type": "markdown",
   "metadata": {},
   "source": [
    "### モジュールファイルをアップロードする\n",
    "\n",
    "次に、ダウンロードしたモジュールファイルをColaboratoryで使うには、\n",
    "Colaboratoryの実行環境の中のファイルシステムのカレントディレクトリに\n",
    "モジュールファイルをアップロードする必要があります。\n",
    "このためには、以下のセルを実行してください。"
   ]
  },
  {
   "cell_type": "code",
   "execution_count": null,
   "metadata": {},
   "outputs": [],
   "source": [
    "import sys\n",
    "if 'google.colab' in sys.modules:\n",
    "    from google.colab import files\n",
    "    uploaded = files.upload() # Upload to the current directory"
   ]
  },
  {
   "cell_type": "markdown",
   "metadata": {},
   "source": [
    "## 自作モジュールの使い方\n",
    "\n",
    "モジュールで定義されている関数を利用するには、**`import`** を用いて `import モジュール名` と書きます。\n",
    "**モジュール名**は、モジュールファイル名から拡張子 `.py` を除いたものです。\n",
    "\n",
    "すると、モジュールで定義されている関数は `モジュール名.関数名` によって参照できます。\n",
    "\n",
    "次の関数が記述された `factorial.py` というモジュールを読み込む場合を説明します。\n",
    "ただし、読み込み元と同じディレクトリに `factorial.py` が存在すると仮定します。\n",
    "\n",
    "---\n",
    "\n",
    "factorial.py:\n",
    "\n",
    "```Python\n",
    "# 階乗n!を返す\n",
    "def fact(n):\n",
    "    prod = 1\n",
    "    for i in range(1, n + 1):\n",
    "        prod *= i\n",
    "    return prod\n",
    "```\n",
    "\n",
    "---"
   ]
  },
  {
   "cell_type": "code",
   "execution_count": null,
   "metadata": {},
   "outputs": [],
   "source": [
    "import factorial\n",
    "\n",
    "factorial.fact(6)"
   ]
  },
  {
   "cell_type": "markdown",
   "metadata": {},
   "source": [
    "`from` や `as` の使い方も既存のモジュールと全く同じです。\n",
    "\n",
    "モジュール内で定義されている名前を読み込み元のプログラムでそのまま使いたい場合は、**`from`** を用いて以下のように書くことができます。"
   ]
  },
  {
   "cell_type": "code",
   "execution_count": null,
   "metadata": {},
   "outputs": [],
   "source": [
    "from factorial import fact\n",
    "\n",
    "fact(6)"
   ]
  },
  {
   "cell_type": "markdown",
   "metadata": {},
   "source": [
    "ワイルドカード **`*`** を利用する方法もありますが、推奨されていません。\n",
    "読み込まれるモジュール内の未知の名前と、読み込み元のプログラム中の名前が衝突する可能性があるためです。"
   ]
  },
  {
   "cell_type": "code",
   "execution_count": null,
   "metadata": {},
   "outputs": [],
   "source": [
    "from factorial import *"
   ]
  },
  {
   "cell_type": "markdown",
   "metadata": {},
   "source": [
    "モジュール名が長すぎるなどの理由から別の名前としたい場合は、**`as`** を利用する方法もあります。"
   ]
  },
  {
   "cell_type": "code",
   "execution_count": null,
   "metadata": {},
   "outputs": [],
   "source": [
    "import factorial as f\n",
    "\n",
    "f.fact(6)"
   ]
  }
 ],
 "metadata": {
  "kernelspec": {
   "display_name": "Python 3",
   "language": "python",
   "name": "python3"
  },
  "language_info": {
   "name": "python"
  }
 },
 "nbformat": 4,
 "nbformat_minor": 2
}
