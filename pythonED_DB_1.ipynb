{
 "cells": [
  {
   "cell_type": "code",
   "execution_count": 2,
   "metadata": {},
   "outputs": [
    {
     "data": {
      "text/plain": [
       "'\\n6 \\n\\npython logging\\nCRITICAL,ERROR,WARNING,INFO,BEBUG\\n\\ndatetime module -> datetime.now()で現在時刻のインスタンスを得る\\n\\npathlib module -> Path.glob()にワイルドカードでファイルを取得できたりする\\n\\n\\n\\n7 \\nNotebook形式 (.ipynb) はJSONファイル\\n\\n\\n'"
      ]
     },
     "execution_count": 2,
     "metadata": {},
     "output_type": "execute_result"
    }
   ],
   "source": [
    "\"\"\"\n",
    "6 \n",
    "\n",
    "python logging\n",
    "CRITICAL,ERROR,WARNING,INFO,BEBUG\n",
    "\n",
    "datetime module -> datetime.now()で現在時刻のインスタンスを得る\n",
    "\n",
    "pathlib module -> Path.glob()にワイルドカードでファイルを取得できたりする\n",
    "\n",
    "\n",
    "\n",
    "7 \n",
    "\n",
    "%whos（型も見れる） %who で変数を確認出来る\n",
    "\n",
    "Notebook形式の拡張子は ipynb\n",
    "\n",
    "Notebook形式 (.ipynb) はJSONファイル\n",
    "\n",
    "%,%% -> マジックコマンド 実行時間を確認出来たりする\n",
    "%timeit(その行のみ)\n",
    "%%timeit(セル）\n",
    "\n",
    "\n",
    "\"\"\""
   ]
  },
  {
   "cell_type": "code",
   "execution_count": 24,
   "metadata": {},
   "outputs": [
    {
     "name": "stdout",
     "output_type": "stream",
     "text": [
      "\n",
      "slice plac\n",
      "[0 3 6]\n",
      "[0 2 4 6]\n",
      "[[10 13 14]\n",
      " [15 18 19]\n",
      " [20 23 24]]\n",
      "[ 0 12 24]\n",
      "\n",
      " E 3by3\n",
      "[[1. 0. 0.]\n",
      " [0. 1. 0.]\n",
      " [0. 0. 1.]]\n",
      "\n",
      "arange : 0 <= i < 10\n",
      "[0 3 6 9]\n",
      "[0 4 8]\n"
     ]
    }
   ],
   "source": [
    "\"\"\"\n",
    "15 numpyのスライスの復習\n",
    "\n",
    "\"\"\"\n",
    "\n",
    "import numpy as np\n",
    "a = np.arange(10)\n",
    "b = np.arange(5*5).reshape(5,5)\n",
    "\n",
    "print(\"\\nslice plac\")\n",
    "print(a[0:7:3])  # 0<= i < 7 で、2個とばし\n",
    "print(a[:-3:2])  # -3 (len(a)-3 index:7 の手前まで、1個とばし)\n",
    "\n",
    "print(b[-3:,[0,3,4]])  # b[行指定,列指定]\n",
    "\n",
    "    # \"-3:\" -> indexで行数-3のところから最後まで\n",
    "    # 0-indexed で、[0,3,4]列目\n",
    "    # 組み合わせる\n",
    "\n",
    "print(b[[0,2,4],[0,2,4]])  # お絵描きロジック的な指定方法\n",
    "\n",
    "\"\"\"\n",
    "16\n",
    "\"\"\"\n",
    "e = np.eye(3)\n",
    "print(\"\\n E 3by3\")\n",
    "print(e)\n",
    "\n",
    "\n",
    "rng3 = np.arange(0,10,3)\n",
    "rng4 = np.arange(0,10,4)\n",
    "\n",
    "print(\"\\narange : 0 <= i < 10\")\n",
    "print(rng3)\n",
    "print(rng4)"
   ]
  },
  {
   "cell_type": "code",
   "execution_count": 32,
   "metadata": {},
   "outputs": [
    {
     "data": {
      "text/plain": [
       "'\\n23 \\nnm.random.randint(A,B,C)\\n\\n'"
      ]
     },
     "execution_count": 32,
     "metadata": {},
     "output_type": "execute_result"
    }
   ],
   "source": [
    "\"\"\"\n",
    "23 \n",
    "nm.random.randint(A,B,C)\n",
    "A <= x < B の乱数を C 個\n",
    "\n",
    "\"\"\""
   ]
  },
  {
   "cell_type": "code",
   "execution_count": 31,
   "metadata": {},
   "outputs": [
    {
     "data": {
      "text/plain": [
       "'\\n20 pandas 復習\\n\\n'"
      ]
     },
     "execution_count": 31,
     "metadata": {},
     "output_type": "execute_result"
    }
   ],
   "source": [
    "\"\"\"\n",
    "20 pandas 復習\n",
    "\n",
    "index , column 引数 or 属性で指定(リストを渡す)\n",
    "\n",
    "行のスライス指定と列のリストによる指定(SQL的)\n",
    "df[(スライス)][[\"col\",\"col\"]]\n",
    "\n",
    "df.loc[\"index名\",\"カラム名\"]\n",
    "\n",
    "df.iloc[2,2] -> 3行目3列目\n",
    "\n",
    "df.iloc[0:10,0:3] 1~10行目 , 1~3行目\n",
    "\n",
    "\n",
    "22\n",
    "データフレームの列の指定と併せて条件を指定することで、条件にあった行からなるデータフレームを抽出する\n",
    "\n",
    "query = df[\"col\"] > value\n",
    "    条件にあうインデックスを真理値で持っている変数\n",
    "\n",
    "df[query]\n",
    "    条件に合ったデータのみになっている\n",
    "\n",
    "※条件式のブール演算では、`and`, `or`, `not` の代わりに `&`, `|`, `~` を用いる。\n",
    "\n",
    "\"\"\""
   ]
  },
  {
   "cell_type": "markdown",
   "metadata": {},
   "source": []
  }
 ],
 "metadata": {
  "interpreter": {
   "hash": "81c95093efa7eebad306c54c61d677c8e58403556fc7eddaaade3676895dc9f0"
  },
  "kernelspec": {
   "display_name": "Python 3.7.10 64-bit ('base': conda)",
   "language": "python",
   "name": "python3"
  },
  "language_info": {
   "codemirror_mode": {
    "name": "ipython",
    "version": 3
   },
   "file_extension": ".py",
   "mimetype": "text/x-python",
   "name": "python",
   "nbconvert_exporter": "python",
   "pygments_lexer": "ipython3",
   "version": "3.7.10"
  },
  "orig_nbformat": 4
 },
 "nbformat": 4,
 "nbformat_minor": 2
}
