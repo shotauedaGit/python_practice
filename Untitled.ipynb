{
 "cells": [
  {
   "cell_type": "code",
   "execution_count": 27,
   "id": "733b42d4-d8cf-4dbe-8399-dc8b37e67638",
   "metadata": {},
   "outputs": [
    {
     "data": {
      "text/plain": [
       "'3.7.10 (default, Feb 26 2021, 13:06:18) [MSC v.1916 64 bit (AMD64)]'"
      ]
     },
     "execution_count": 27,
     "metadata": {},
     "output_type": "execute_result"
    }
   ],
   "source": [
    "import sys\n",
    "sys.version"
   ]
  },
  {
   "cell_type": "markdown",
   "id": "10113b15-3e7d-467c-b2b5-a552249ce0a2",
   "metadata": {},
   "source": [
    "四則演算、除算(商)、べき乗"
   ]
  },
  {
   "cell_type": "code",
   "execution_count": null,
   "id": "0b48df89-4457-4e3d-8479-170c152b6fb0",
   "metadata": {
    "tags": []
   },
   "outputs": [],
   "source": [
    "print(2**100)\n",
    "print(7/5)\n",
    "print(7//5)\n",
    "\n",
    "print(16/2.0)\n",
    "print(16.0/2)"
   ]
  },
  {
   "cell_type": "markdown",
   "id": "591d2dca-9a68-4553-832e-01d344d385ab",
   "metadata": {},
   "source": [
    "関数の定義"
   ]
  },
  {
   "cell_type": "code",
   "execution_count": 28,
   "id": "2838d049-c27f-4eb0-8a86-295632e25c28",
   "metadata": {},
   "outputs": [
    {
     "name": "stdout",
     "output_type": "stream",
     "text": [
      "3.872983346207417\n"
     ]
    }
   ],
   "source": [
    "#1-2 [7] function\n",
    "\n",
    "import math\n",
    "\n",
    "def func(a,b):   \n",
    "    return math.sqrt(a*b)\n",
    "\n",
    "print(func(3,5))"
   ]
  },
  {
   "cell_type": "markdown",
   "id": "e70c2629-7c40-4984-af0b-b56c58ac3411",
   "metadata": {},
   "source": [
    "ABCってなんだし？"
   ]
  },
  {
   "cell_type": "code",
   "execution_count": null,
   "id": "72539e50-2be3-4197-80b6-31515474c8b1",
   "metadata": {},
   "outputs": [],
   "source": [
    "import abc\n",
    "\n"
   ]
  }
 ],
 "metadata": {
  "kernelspec": {
   "display_name": "Python 3 (ipykernel)",
   "language": "python",
   "name": "python3"
  },
  "language_info": {
   "codemirror_mode": {
    "name": "ipython",
    "version": 3
   },
   "file_extension": ".py",
   "mimetype": "text/x-python",
   "name": "python",
   "nbconvert_exporter": "python",
   "pygments_lexer": "ipython3",
   "version": "3.7.10"
  }
 },
 "nbformat": 4,
 "nbformat_minor": 5
}
